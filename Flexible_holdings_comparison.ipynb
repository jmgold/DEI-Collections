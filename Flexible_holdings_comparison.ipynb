{
  "nbformat": 4,
  "nbformat_minor": 0,
  "metadata": {
    "colab": {
      "name": "Flexible holdings comparison.ipynb",
      "provenance": [],
      "collapsed_sections": [],
      "mount_file_id": "1uS_A6omWKkpflMaPIbVqOGUJ8rsCkyJF",
      "authorship_tag": "ABX9TyPrjNbAEcF5sr+7bWmzSnA+",
      "include_colab_link": true
    },
    "kernelspec": {
      "name": "python3",
      "display_name": "Python 3"
    },
    "language_info": {
      "name": "python"
    }
  },
  "cells": [
    {
      "cell_type": "markdown",
      "metadata": {
        "id": "view-in-github",
        "colab_type": "text"
      },
      "source": [
        "<a href=\"https://colab.research.google.com/github/jmgold/DEI-Collections/blob/main/Flexible_holdings_comparison.ipynb\" target=\"_parent\"><img src=\"https://colab.research.google.com/assets/colab-badge.svg\" alt=\"Open In Colab\"/></a>"
      ]
    },
    {
      "cell_type": "markdown",
      "metadata": {
        "id": "9kmPeKV2cG3a"
      },
      "source": [
        "Jeremy Goldstein\n",
        "Minuteman Library Network\n",
        "\n",
        "This Python script will compare an excel or csv file of local holdings to a curated booklist to find how much of that list you own and which titles are missing based on fuzzy matching titles and authors."
      ]
    },
    {
      "cell_type": "markdown",
      "metadata": {
        "id": "xurg45yXwklo"
      },
      "source": [
        "# Instructions"
      ]
    },
    {
      "cell_type": "markdown",
      "metadata": {
        "id": "bxm2GfRgwo2T"
      },
      "source": [
        "**Prerequisite**\n",
        "\n",
        "You will need two files containing at least title and author information.  The file can be a csv or excel (either .xls or .xlsx is fine).  Titles and authors need to each be in their own column with a header of 'title' and 'author' (capitalization does not matter).  The files can contain as many additional columns as you wish, so long as each one does include its own column header.\n",
        "The first file will be a list of titles you wish to check against your current holdings.  The second should be a list of your current holdings."
      ]
    },
    {
      "cell_type": "markdown",
      "metadata": {
        "id": "HGA7yTylxrXr"
      },
      "source": [
        "**Running the script**\n",
        "\n",
        "Each code block can be run one at a time by clicking the play icon that appears when you hover over the [] marker.  Once that block finishes running a green check will appear to the left of the block and any output from that portion of the script will appear beneath it, along with any errors that may be encountered.\n",
        "\n",
        "You may also use the items founds within the Runtime drop down menu to Run the entire script, though there are points where user input is required before the script will continue past a particular code block to be on the lookout for.\n",
        "\n",
        "You may reset the output by going to the Edit menu and selecting clear all outputs.  You can also review files that have been uploaded or created as part of this script using the folder icon i the left hand navigation menu. "
      ]
    },
    {
      "cell_type": "markdown",
      "metadata": {
        "id": "98lEVHSykCRZ"
      },
      "source": [
        "# Step 1: Configure Python/Colab Environment\n"
      ]
    },
    {
      "cell_type": "markdown",
      "metadata": {
        "id": "Jen59w9JxTIz"
      },
      "source": [
        "nmslib is not included by default with Colab and must be installed."
      ]
    },
    {
      "cell_type": "code",
      "metadata": {
        "id": "unDmpF37Q8KB",
        "colab": {
          "base_uri": "https://localhost:8080/"
        },
        "outputId": "731f883e-9ea3-45ea-95ea-14306c5fba20"
      },
      "source": [
        "!pip install nmslib"
      ],
      "execution_count": 1,
      "outputs": [
        {
          "output_type": "stream",
          "name": "stdout",
          "text": [
            "Requirement already satisfied: nmslib in /usr/local/lib/python3.7/dist-packages (2.1.1)\n",
            "Requirement already satisfied: pybind11<2.6.2 in /usr/local/lib/python3.7/dist-packages (from nmslib) (2.6.1)\n",
            "Requirement already satisfied: numpy>=1.10.0 in /usr/local/lib/python3.7/dist-packages (from nmslib) (1.19.5)\n",
            "Requirement already satisfied: psutil in /usr/local/lib/python3.7/dist-packages (from nmslib) (5.4.8)\n"
          ]
        }
      ]
    },
    {
      "cell_type": "markdown",
      "metadata": {
        "id": "OLJMYk_btDoE"
      },
      "source": [
        "import Python libraries that will be used within the script"
      ]
    },
    {
      "cell_type": "code",
      "metadata": {
        "id": "A3LUUFXDaCTP"
      },
      "source": [
        "import pandas as pd\n",
        "import io\n",
        "import numpy as np\n",
        "import os\n",
        "import re\n",
        "#import time\n",
        "import nmslib\n",
        "from sklearn.feature_extraction.text import TfidfVectorizer\n",
        "from scipy.sparse import csr_matrix # may not be required \n",
        "from scipy.sparse import rand # may not be required\n",
        "%load_ext google.colab.data_table\n",
        "from google.colab import files"
      ],
      "execution_count": 2,
      "outputs": []
    },
    {
      "cell_type": "markdown",
      "metadata": {
        "id": "Qo5yi8lhkURC"
      },
      "source": [
        "# Step 2: Import data\n",
        "Script will load tabular data into two dataframes using the Pandas library for Python.  "
      ]
    },
    {
      "cell_type": "markdown",
      "metadata": {
        "id": "OJUETZ4Oqx6s"
      },
      "source": [
        "Upload either a csv or excel file with the list of suggest titles you wish to match your holdings against.  \n",
        "\n",
        "Must contain at least 2 columns with the headers author and title (capitalization does not matter)."
      ]
    },
    {
      "cell_type": "code",
      "metadata": {
        "colab": {
          "resources": {
            "http://localhost:8080/nbextensions/google.colab/files.js": {
              "data": "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",
              "ok": true,
              "headers": [
                [
                  "content-type",
                  "application/javascript"
                ]
              ],
              "status": 200,
              "status_text": ""
            }
          },
          "base_uri": "https://localhost:8080/",
          "height": 90
        },
        "id": "soz6bIdCiktr",
        "outputId": "5f52fc8f-bf70-41a7-bda5-a9f9bb5c0782"
      },
      "source": [
        "uploaded_list = files.upload()\n",
        "\n",
        "for fn in uploaded_list.keys():\n",
        "  file_name=fn\n",
        "  print('User uploaded file \"{name}\" with length {length} bytes'.format(\n",
        "      name=fn, length=len(uploaded_list[fn])))"
      ],
      "execution_count": 3,
      "outputs": [
        {
          "output_type": "display_data",
          "data": {
            "text/html": [
              "\n",
              "     <input type=\"file\" id=\"files-4a415bf6-1fc8-474a-bd9d-0add7d7c9e5f\" name=\"files[]\" multiple disabled\n",
              "        style=\"border:none\" />\n",
              "     <output id=\"result-4a415bf6-1fc8-474a-bd9d-0add7d7c9e5f\">\n",
              "      Upload widget is only available when the cell has been executed in the\n",
              "      current browser session. Please rerun this cell to enable.\n",
              "      </output>\n",
              "      <script src=\"/nbextensions/google.colab/files.js\"></script> "
            ],
            "text/plain": [
              "<IPython.core.display.HTML object>"
            ]
          },
          "metadata": {}
        },
        {
          "output_type": "stream",
          "name": "stdout",
          "text": [
            "Saving Teen Latinx Titles.xlsx to Teen Latinx Titles (1).xlsx\n",
            "User uploaded file \"Teen Latinx Titles.xlsx\" with length 27814 bytes\n"
          ]
        }
      ]
    },
    {
      "cell_type": "markdown",
      "metadata": {
        "id": "P-I0G2sRfIvK"
      },
      "source": [
        "Loads the uploaded file into a datafrome or returns an error if the file is an incorrect format"
      ]
    },
    {
      "cell_type": "code",
      "metadata": {
        "id": "yjCOZO-fsx32"
      },
      "source": [
        "if file_name.endswith('.csv'):\n",
        "  booklist_df = pd.read_csv(io.BytesIO(uploaded_list[file_name]))\n",
        "elif file_name.endswith('.xls'):\n",
        "  booklist_df = pd.read_excel(io.BytesIO(uploaded_list[file_name]))\n",
        "elif file_name.endswith('.xlsx'):\n",
        "  booklist_df = pd.read_excel(io.BytesIO(uploaded_list[file_name]))\n",
        "else:\n",
        "  pring(\"error file is not .csv or excel\")"
      ],
      "execution_count": 4,
      "outputs": []
    },
    {
      "cell_type": "markdown",
      "metadata": {
        "id": "kQtyQfOuT8xg"
      },
      "source": [
        "clean up data in the table and add BooklistMatch Column for use later"
      ]
    },
    {
      "cell_type": "code",
      "metadata": {
        "id": "nYCHjwkoKH2c"
      },
      "source": [
        "#change null to blank\n",
        "booklist_df=booklist_df.fillna('')\n",
        "#change headers to lower case\n",
        "booklist_df.columns = [x.lower() for x in booklist_df.columns]\n",
        "#save list of column headers for use at the end\n",
        "booklist_headers = booklist_df.columns.tolist()\n",
        "#create match point column\n",
        "booklist_df['BooklistMatch']=booklist_df['author']+booklist_df['title']"
      ],
      "execution_count": 5,
      "outputs": []
    },
    {
      "cell_type": "markdown",
      "metadata": {
        "id": "A02u1KhMULiE"
      },
      "source": [
        "Preview the contents of this dataframe.  \n",
        "You can use the Filter button to further explore the data."
      ]
    },
    {
      "cell_type": "code",
      "metadata": {
        "id": "MculiptYhvhu",
        "colab": {
          "base_uri": "https://localhost:8080/",
          "height": 1100
        },
        "outputId": "90482d91-3662-416a-afc7-a274fae50546"
      },
      "source": [
        "#Preview booklist dataframe\n",
        "booklist_df"
      ],
      "execution_count": 6,
      "outputs": [
        {
          "output_type": "execute_result",
          "data": {
            "application/vnd.google.colaboratory.module+javascript": "\n      import \"https://ssl.gstatic.com/colaboratory/data_table/a6224c040fa35dcf/data_table.js\";\n\n      window.createDataTable({\n        data: [[{\n            'v': 0,\n            'f': \"0\",\n        },\n\"\\u00bfsabes Qui\\u00e9n Es Zapata? / Do You Know Who Zapata Is?\\u00a0(Spanish)\",\n\"Leyva, Amaranta\",\n{\n            'v': 9786073183574,\n            'f': \"9786073183574\",\n        },\n\"Paperback\",\n\"Alfaguara Infantil\",\n\"2020-06-23 00:00:00\",\n{\n            'v': 12.95,\n            'f': \"12.95\",\n        },\n\"Leyva, Amaranta\\u00bfsabes Qui\\u00e9n Es Zapata? / Do You Know Who Zapata Is?\\u00a0(Spanish)\"],\n [{\n            'v': 1,\n            'f': \"1\",\n        },\n\"21: The Story of Roberto Clemente\",\n\"Santiago, Wilfred\",\n{\n            'v': 9781606997758,\n            'f': \"9781606997758\",\n        },\n\"Paperback\",\n\"Fantagraphics Books\",\n\"2014-09-21 00:00:00\",\n{\n            'v': 19.99,\n            'f': \"19.99\",\n        },\n\"Santiago, Wilfred21: The Story of Roberto Clemente\"],\n [{\n            'v': 2,\n            'f': \"2\",\n        },\n\"A Cuban Girl's Guide to Tea and Tomorrow\",\n\"Namey, Laura Taylor\",\n{\n            'v': 9781534471245,\n            'f': \"9781534471245\",\n        },\n\"Hardcover\",\n\"Atheneum Books for Young Readers\",\n\"2020-11-10 00:00:00\",\n{\n            'v': 18.99,\n            'f': \"18.99\",\n        },\n\"Namey, Laura TaylorA Cuban Girl's Guide to Tea and Tomorrow\"],\n [{\n            'v': 3,\n            'f': \"3\",\n        },\n\"Absolute Carnage: Miles Morales\",\n\"Ahmed, Saladin\",\n{\n            'v': 9781302920142,\n            'f': \"9781302920142\",\n        },\n\"Paperback\",\n\"Marvel\",\n\"2020-01-28 00:00:00\",\n{\n            'v': 15.99,\n            'f': \"15.99\",\n        },\n\"Ahmed, SaladinAbsolute Carnage: Miles Morales\"],\n [{\n            'v': 4,\n            'f': \"4\",\n        },\n\"Albert Pujols\\u00a0(Beisbol! Latino Heroes of Major League Baseball)\",\n\"Leventhal, Josh\",\n{\n            'v': 9781680720495,\n            'f': \"9781680720495\",\n        },\n\"Hardcover\",\n\"Black Rabbit Books/Bolt\",\n\"2017-09-01 00:00:00\",\n{\n            'v': 32.8,\n            'f': \"32.8\",\n        },\n\"Leventhal, JoshAlbert Pujols\\u00a0(Beisbol! Latino Heroes of Major League Baseball)\"],\n [{\n            'v': 5,\n            'f': \"5\",\n        },\n\"Alexandria Ocasio-Cortez: Political Headliner\\u00a0(Gateway Biographies)\",\n\"Leigh, Anna\",\n{\n            'v': 9781541588875,\n            'f': \"9781541588875\",\n        },\n\"Paperback\",\n\"Lerner Publications (Tm)\",\n\"2020-01-01 00:00:00\",\n{\n            'v': 10.99,\n            'f': \"10.99\",\n        },\n\"Leigh, AnnaAlexandria Ocasio-Cortez: Political Headliner\\u00a0(Gateway Biographies)\"],\n [{\n            'v': 6,\n            'f': \"6\",\n        },\n\"Alicia Alonso: Prima Ballerina\",\n\"Bernier-Grand, Carmen\",\n{\n            'v': 9781477810743,\n            'f': \"9781477810743\",\n        },\n\"Paperback\",\n\"Two Lions\",\n\"2019-01-15 00:00:00\",\n{\n            'v': 9.99,\n            'f': \"9.99\",\n        },\n\"Bernier-Grand, CarmenAlicia Alonso: Prima Ballerina\"],\n [{\n            'v': 7,\n            'f': \"7\",\n        },\n\"All These Monsters\\u00a0(All These Monsters\\u00a0#1)\",\n\"Tintera, Amy\",\n{\n            'v': 9780358012405,\n            'f': \"9780358012405\",\n        },\n\"Hardcover\",\n\"Clarion Books\",\n\"2020-07-07 00:00:00\",\n{\n            'v': 17.99,\n            'f': \"17.99\",\n        },\n\"Tintera, AmyAll These Monsters\\u00a0(All These Monsters\\u00a0#1)\"],\n [{\n            'v': 8,\n            'f': \"8\",\n        },\n\"All These Warriors\\u00a0(All These Monsters)\",\n\"Tintera, Amy\",\n{\n            'v': 9780358012412,\n            'f': \"9780358012412\",\n        },\n\"Hardcover\",\n\"Clarion Books\",\n\"2021-07-13 00:00:00\",\n{\n            'v': 17.99,\n            'f': \"17.99\",\n        },\n\"Tintera, AmyAll These Warriors\\u00a0(All These Monsters)\"],\n [{\n            'v': 9,\n            'f': \"9\",\n        },\n\"America Chavez: Made in the USA\",\n\"Vazquez, Kalinda\",\n{\n            'v': 9781302924454,\n            'f': \"9781302924454\",\n        },\n\"Paperback\",\n\"Marvel\",\n\"2021-11-02 00:00:00\",\n{\n            'v': 15.99,\n            'f': \"15.99\",\n        },\n\"Vazquez, KalindaAmerica Chavez: Made in the USA\"],\n [{\n            'v': 10,\n            'f': \"10\",\n        },\n\"America Vol. 2: Fast and Fuertona\",\n\"Rivera, Gabby\",\n{\n            'v': 9781302908829,\n            'f': \"9781302908829\",\n        },\n\"Paperback\",\n\"Marvel\",\n\"2018-04-24 00:00:00\",\n{\n            'v': 17.99,\n            'f': \"17.99\",\n        },\n\"Rivera, GabbyAmerica Vol. 2: Fast and Fuertona\"],\n [{\n            'v': 11,\n            'f': \"11\",\n        },\n\"Arana: Here Comes the Spider-Girl Gn-Tpb\",\n\"Avery, Fiona\",\n{\n            'v': 9781302926465,\n            'f': \"9781302926465\",\n        },\n\"Paperback\",\n\"Marvel\",\n\"2021-01-05 00:00:00\",\n{\n            'v': 12.99,\n            'f': \"12.99\",\n        },\n\"Avery, FionaArana: Here Comes the Spider-Girl Gn-Tpb\"],\n [{\n            'v': 12,\n            'f': \"12\",\n        },\n\"Aristotle and Dante Discover the Secrets of the Universe\\u00a0(Aristotle and Dante)\",\n\"S\\u00e1enz, Benjamin Alire\",\n{\n            'v': 9781442408920,\n            'f': \"9781442408920\",\n        },\n\"Hardcover\",\n\"Simon & Schuster Books for Young Readers\",\n\"2012-02-21 00:00:00\",\n{\n            'v': 24.99,\n            'f': \"24.99\",\n        },\n\"S\\u00e1enz, Benjamin AlireAristotle and Dante Discover the Secrets of the Universe\\u00a0(Aristotle and Dante)\"],\n [{\n            'v': 13,\n            'f': \"13\",\n        },\n\"Aristotle and Dante Dive Into the Waters of the World\\u00a0(Aristotle and Dante)\",\n\"S\\u00e1enz, Benjamin Alire\",\n{\n            'v': 9781534496194,\n            'f': \"9781534496194\",\n        },\n\"Hardcover\",\n\"Simon & Schuster Books for Young Readers\",\n\"2021-10-12 00:00:00\",\n{\n            'v': 19.99,\n            'f': \"19.99\",\n        },\n\"S\\u00e1enz, Benjamin AlireAristotle and Dante Dive Into the Waters of the World\\u00a0(Aristotle and Dante)\"],\n [{\n            'v': 14,\n            'f': \"14\",\n        },\n\"Barbados\\u00a0(Cultures of the World (Third Edition)(R))\",\n\"Bryan, Bethany\",\n{\n            'v': 9781502647306,\n            'f': \"9781502647306\",\n        },\n\"Library Binding\",\n\"Cavendish Square Publishing\",\n\"2019-04-30 00:00:00\",\n{\n            'v': 47.07,\n            'f': \"47.07\",\n        },\n\"Bryan, BethanyBarbados\\u00a0(Cultures of the World (Third Edition)(R))\"],\n [{\n            'v': 15,\n            'f': \"15\",\n        },\n\"Barely Missing Everything\",\n\"Mendez, Matt\",\n{\n            'v': 9781534404458,\n            'f': \"9781534404458\",\n        },\n\"Hardcover\",\n\"Atheneum Books\",\n\"2019-03-05 00:00:00\",\n{\n            'v': 18.99,\n            'f': \"18.99\",\n        },\n\"Mendez, MattBarely Missing Everything\"],\n [{\n            'v': 16,\n            'f': \"16\",\n        },\n\"Before We Were Free\",\n\"Alvarez, Julia\",\n{\n            'v': 9780399555497,\n            'f': \"9780399555497\",\n        },\n\"Paperback\",\n\"Ember\",\n\"2018-03-27 00:00:00\",\n{\n            'v': 8.99,\n            'f': \"8.99\",\n        },\n\"Alvarez, JuliaBefore We Were Free\"],\n [{\n            'v': 17,\n            'f': \"17\",\n        },\n\"Blackbird Volume 1\",\n\"Humphries, Sam\",\n{\n            'v': 9781534312593,\n            'f': \"9781534312593\",\n        },\n\"Paperback\",\n\"Image Comics\",\n\"2019-05-14 00:00:00\",\n{\n            'v': 16.99,\n            'f': \"16.99\",\n        },\n\"Humphries, SamBlackbird Volume 1\"],\n [{\n            'v': 18,\n            'f': \"18\",\n        },\n\"Blazewrath Games\",\n\"Ortiz, Amparo\",\n{\n            'v': 9781645670797,\n            'f': \"9781645670797\",\n        },\n\"Hardcover\",\n\"Page Street Kids\",\n\"2020-10-06 00:00:00\",\n{\n            'v': 18.99,\n            'f': \"18.99\",\n        },\n\"Ortiz, AmparoBlazewrath Games\"],\n [{\n            'v': 19,\n            'f': \"19\",\n        },\n\"Blue Beetle Vol. 2: Hard Choices (Rebirth)\",\n\"Giffen, Keith\",\n{\n            'v': 9781401275075,\n            'f': \"9781401275075\",\n        },\n\"Paperback\",\n\"DC Comics\",\n\"2018-01-02 00:00:00\",\n{\n            'v': 16.99,\n            'f': \"16.99\",\n        },\n\"Giffen, KeithBlue Beetle Vol. 2: Hard Choices (Rebirth)\"],\n [{\n            'v': 20,\n            'f': \"20\",\n        },\n\"Blue Beetle Vol. 3: Road to Nowhere\",\n\"Sebela, Christopher\",\n{\n            'v': 9781401280833,\n            'f': \"9781401280833\",\n        },\n\"Paperback\",\n\"DC Comics\",\n\"2018-07-17 00:00:00\",\n{\n            'v': 16.99,\n            'f': \"16.99\",\n        },\n\"Sebela, ChristopherBlue Beetle Vol. 3: Road to Nowhere\"],\n [{\n            'v': 21,\n            'f': \"21\",\n        },\n\"Bolivia (Enchantment of the World) (Library Edition) (Library)\\u00a0(Enchantment of the World)\",\n\"Yomtov, Nel\",\n{\n            'v': 9780531126943,\n            'f': \"9780531126943\",\n        },\n\"Hardcover\",\n\"C. Press/F. Watts Trade\",\n\"2019-02-01 00:00:00\",\n{\n            'v': 40.0,\n            'f': \"40.0\",\n        },\n\"Yomtov, NelBolivia (Enchantment of the World) (Library Edition) (Library)\\u00a0(Enchantment of the World)\"],\n [{\n            'v': 22,\n            'f': \"22\",\n        },\n\"Breath Like Water (Original)\",\n\"Jarzab, Anna\",\n{\n            'v': 9781335050236,\n            'f': \"9781335050236\",\n        },\n\"Hardcover\",\n\"Inkyard Press\",\n\"2020-05-19 00:00:00\",\n{\n            'v': 18.99,\n            'f': \"18.99\",\n        },\n\"Jarzab, AnnaBreath Like Water (Original)\"],\n [{\n            'v': 23,\n            'f': \"23\",\n        },\n\"Cane Warriors\",\n\"Wheatle, Alex\",\n{\n            'v': 9781617759062,\n            'f': \"9781617759062\",\n        },\n\"Hardcover\",\n\"Black Sheep\",\n\"2020-10-20 00:00:00\",\n{\n            'v': 33.95,\n            'f': \"33.95\",\n        },\n\"Wheatle, AlexCane Warriors\"],\n [{\n            'v': 24,\n            'f': \"24\",\n        },\n\"Cazadora\\u00a0(Wolves of No World\\u00a0#2)\",\n\"Garber, Romina\",\n{\n            'v': 9781250239150,\n            'f': \"9781250239150\",\n        },\n\"Hardcover\",\n\"Wednesday Books\",\n\"2021-08-17 00:00:00\",\n{\n            'v': 18.99,\n            'f': \"18.99\",\n        },\n\"Garber, RominaCazadora\\u00a0(Wolves of No World\\u00a0#2)\"],\n [{\n            'v': 25,\n            'f': \"25\",\n        },\n\"Cemetery Boys\",\n\"Thomas, Aiden\",\n{\n            'v': 9781250250469,\n            'f': \"9781250250469\",\n        },\n\"Hardcover\",\n\"Swoon Reads\",\n\"2020-09-01 00:00:00\",\n{\n            'v': 17.99,\n            'f': \"17.99\",\n        },\n\"Thomas, AidenCemetery Boys\"],\n [{\n            'v': 26,\n            'f': \"26\",\n        },\n\"C\\u00e9sar Ch\\u00e1vez: Fighting for Migrant Farmworkers\\u00a0(Rebels with a Cause)\",\n\"Gay, Kathlyn\",\n{\n            'v': 9780766089518,\n            'f': \"9780766089518\",\n        },\n\"Library Binding\",\n\"Enslow Publishing\",\n\"2017-07-30 00:00:00\",\n{\n            'v': 37.27,\n            'f': \"37.27\",\n        },\n\"Gay, KathlynC\\u00e9sar Ch\\u00e1vez: Fighting for Migrant Farmworkers\\u00a0(Rebels with a Cause)\"],\n [{\n            'v': 27,\n            'f': \"27\",\n        },\n\"Champions by Jim Zub Vol. 1: Beat the Devil\",\n\"Zub, Jim\",\n{\n            'v': 9781302916718,\n            'f': \"9781302916718\",\n        },\n\"Paperback\",\n\"Marvel\",\n\"2019-08-20 00:00:00\",\n{\n            'v': 17.99,\n            'f': \"17.99\",\n        },\n\"Zub, JimChampions by Jim Zub Vol. 1: Beat the Devil\"],\n [{\n            'v': 28,\n            'f': \"28\",\n        },\n\"Champions by Jim Zub Vol. 2: Give and Take\\u00a0(Champions by Jim Zub\\u00a0#2)\",\n\"Zub, Jim\",\n{\n            'v': 9781302916725,\n            'f': \"9781302916725\",\n        },\n\"Paperback\",\n\"Marvel\",\n\"2019-12-17 00:00:00\",\n{\n            'v': 15.99,\n            'f': \"15.99\",\n        },\n\"Zub, JimChampions by Jim Zub Vol. 2: Give and Take\\u00a0(Champions by Jim Zub\\u00a0#2)\"],\n [{\n            'v': 29,\n            'f': \"29\",\n        },\n\"City of the Beasts\\u00a0(Memories of the Eagle and the Jaguar\\u00a0#1)\\u00a0Easy Reads\",\n\"Allende, Isabel\",\n{\n            'v': 9780063062900,\n            'f': \"9780063062900\",\n        },\n\"Paperback\",\n\"Katherine Tegen Books\",\n\"2021-01-05 00:00:00\",\n{\n            'v': 10.99,\n            'f': \"10.99\",\n        },\n\"Allende, IsabelCity of the Beasts\\u00a0(Memories of the Eagle and the Jaguar\\u00a0#1)\\u00a0Easy Reads\"],\n [{\n            'v': 30,\n            'f': \"30\",\n        },\n\"Clap When You Land\",\n\"Acevedo, Elizabeth\",\n{\n            'v': 9780062882769,\n            'f': \"9780062882769\",\n        },\n\"Hardcover\",\n\"Quill Tree Books\",\n\"2020-05-05 00:00:00\",\n{\n            'v': 18.99,\n            'f': \"18.99\",\n        },\n\"Acevedo, ElizabethClap When You Land\"],\n [{\n            'v': 31,\n            'f': \"31\",\n        },\n\"Cristiano Ronaldo\\u00a0(Soccer Superstars)\",\n\"Spragg, Iain\",\n{\n            'v': 9781725340336,\n            'f': \"9781725340336\",\n        },\n\"Paperback\",\n\"Rosen Young Adult\",\n\"2019-07-30 00:00:00\",\n{\n            'v': 12.95,\n            'f': \"12.95\",\n        },\n\"Spragg, IainCristiano Ronaldo\\u00a0(Soccer Superstars)\"],\n [{\n            'v': 32,\n            'f': \"32\",\n        },\n\"Cristiano Ronaldo: World-Beater\\u00a0(At the Top of Their Game)\",\n\"Doyle, Brian\",\n{\n            'v': 9781502628343,\n            'f': \"9781502628343\",\n        },\n\"Library Binding\",\n\"Cavendish Square Publishing\",\n\"2017-07-30 00:00:00\",\n{\n            'v': 42.79,\n            'f': \"42.79\",\n        },\n\"Doyle, BrianCristiano Ronaldo: World-Beater\\u00a0(At the Top of Their Game)\"],\n [{\n            'v': 33,\n            'f': \"33\",\n        },\n\"Cuarto Oscuro: Recuerdos En Blanco Y Negro (Spanish Translation)\\u00a0(Spanish)\",\n\"Weaver, Lila Quintero\",\n{\n            'v': 9780817359072,\n            'f': \"9780817359072\",\n        },\n\"Paperback\",\n\"University Alabama Press\",\n\"2018-01-09 00:00:00\",\n{\n            'v': 24.95,\n            'f': \"24.95\",\n        },\n\"Weaver, Lila QuinteroCuarto Oscuro: Recuerdos En Blanco Y Negro (Spanish Translation)\\u00a0(Spanish)\"],\n [{\n            'v': 34,\n            'f': \"34\",\n        },\n\"Dodge City\",\n\"Trujillo, Josh\",\n{\n            'v': 9781684152476,\n            'f': \"9781684152476\",\n        },\n\"Paperback\",\n\"Boom Box\",\n\"2018-11-06 00:00:00\",\n{\n            'v': 14.99,\n            'f': \"14.99\",\n        },\n\"Trujillo, JoshDodge City\"],\n [{\n            'v': 35,\n            'f': \"35\",\n        },\n\"Dolores Huerta Stands Strong: The Woman Who Demanded Justice\\u00a0(Biographies for Young Readers)\",\n\"Brill, Marlene Targ\",\n{\n            'v': 9780821423295,\n            'f': \"9780821423295\",\n        },\n\"Hardcover\",\n\"Ohio University Press\",\n\"2018-08-16 00:00:00\",\n{\n            'v': 32.95,\n            'f': \"32.95\",\n        },\n\"Brill, Marlene TargDolores Huerta Stands Strong: The Woman Who Demanded Justice\\u00a0(Biographies for Young Readers)\"],\n [{\n            'v': 36,\n            'f': \"36\",\n        },\n\"Dominican Republic (Enchantment of the World) (Library Edition) (Library)\\u00a0(Enchantment of the World)\",\n\"Rogers, Barbara Radcliffe\",\n{\n            'v': 9780531126967,\n            'f': \"9780531126967\",\n        },\n\"Hardcover\",\n\"C. Press/F. Watts Trade\",\n\"2019-02-01 00:00:00\",\n{\n            'v': 40.0,\n            'f': \"40.0\",\n        },\n\"Rogers, Barbara RadcliffeDominican Republic (Enchantment of the World) (Library Edition) (Library)\\u00a0(Enchantment of the World)\"],\n [{\n            'v': 37,\n            'f': \"37\",\n        },\n\"Don't Ask Me Where I'm from\",\n\"de Leon, Jennifer\",\n{\n            'v': 9781534438248,\n            'f': \"9781534438248\",\n        },\n\"Hardcover\",\n\"Atheneum Books\",\n\"2020-08-18 00:00:00\",\n{\n            'v': 18.99,\n            'f': \"18.99\",\n        },\n\"de Leon, JenniferDon't Ask Me Where I'm from\"],\n [{\n            'v': 38,\n            'f': \"38\",\n        },\n\"Don't Date Rosa Santos\",\n\"Moreno, Nina\",\n{\n            'v': 9781368039703,\n            'f': \"9781368039703\",\n        },\n\"Hardcover\",\n\"Little, Brown Books for Young Readers\",\n\"2019-05-14 00:00:00\",\n{\n            'v': 17.99,\n            'f': \"17.99\",\n        },\n\"Moreno, NinaDon't Date Rosa Santos\"],\n [{\n            'v': 39,\n            'f': \"39\",\n        },\n\"Don't Hate the Player\",\n\"Nedd, Alexis\",\n{\n            'v': 9781547605026,\n            'f': \"9781547605026\",\n        },\n\"Hardcover\",\n\"Bloomsbury YA\",\n\"2021-06-15 00:00:00\",\n{\n            'v': 17.99,\n            'f': \"17.99\",\n        },\n\"Nedd, AlexisDon't Hate the Player\"],\n [{\n            'v': 40,\n            'f': \"40\",\n        },\n\"Don't Read the Comments (Original)\",\n\"Smith, Eric\",\n{\n            'v': 9781335016027,\n            'f': \"9781335016027\",\n        },\n\"Hardcover\",\n\"Inkyard Press\",\n\"2020-01-28 00:00:00\",\n{\n            'v': 19.99,\n            'f': \"19.99\",\n        },\n\"Smith, EricDon't Read the Comments (Original)\"],\n [{\n            'v': 41,\n            'f': \"41\",\n        },\n\"Dragonblood Ring\",\n\"Ortiz, Amparo\",\n{\n            'v': 9781645673163,\n            'f': \"9781645673163\",\n        },\n\"Hardcover\",\n\"Page Street Kids\",\n\"2021-10-12 00:00:00\",\n{\n            'v': 18.99,\n            'f': \"18.99\",\n        },\n\"Ortiz, AmparoDragonblood Ring\"],\n [{\n            'v': 42,\n            'f': \"42\",\n        },\n\"Each of Us a Desert\",\n\"Oshiro, Mark\",\n{\n            'v': 9781250169211,\n            'f': \"9781250169211\",\n        },\n\"Hardcover\",\n\"Tor Teen\",\n\"2020-09-15 00:00:00\",\n{\n            'v': 17.99,\n            'f': \"17.99\",\n        },\n\"Oshiro, MarkEach of Us a Desert\"],\n [{\n            'v': 43,\n            'f': \"43\",\n        },\n\"Early Departures\\u00a0Easy Reads\",\n\"Reynolds, Justin A\",\n{\n            'v': 9780062748409,\n            'f': \"9780062748409\",\n        },\n\"Hardcover\",\n\"Katherine Tegen Books\",\n\"2020-09-22 00:00:00\",\n{\n            'v': 17.99,\n            'f': \"17.99\",\n        },\n\"Reynolds, Justin AEarly Departures\\u00a0Easy Reads\"],\n [{\n            'v': 44,\n            'f': \"44\",\n        },\n\"Epic Athletes: Lionel Messi\\u00a0(Epic Athletes, 6)\",\n\"Wetzel, Dan\",\n{\n            'v': 9781250295811,\n            'f': \"9781250295811\",\n        },\n\"Hardcover\",\n\"Henry Holt & Company\",\n\"2019-11-12 00:00:00\",\n{\n            'v': 16.99,\n            'f': \"16.99\",\n        },\n\"Wetzel, DanEpic Athletes: Lionel Messi\\u00a0(Epic Athletes, 6)\"],\n [{\n            'v': 45,\n            'f': \"45\",\n        },\n\"Everything Within and in Between\",\n\"Barthelmess, Nikki\",\n{\n            'v': 9780062976901,\n            'f': \"9780062976901\",\n        },\n\"Hardcover\",\n\"Harperteen\",\n\"2021-10-05 00:00:00\",\n{\n            'v': 17.99,\n            'f': \"17.99\",\n        },\n\"Barthelmess, NikkiEverything Within and in Between\"],\n [{\n            'v': 46,\n            'f': \"46\",\n        },\n\"Fat Chance, Charlie Vega\",\n\"Maldonado, Crystal\",\n{\n            'v': 9780823447176,\n            'f': \"9780823447176\",\n        },\n\"Hardcover\",\n\"Holiday House\",\n\"2021-02-02 00:00:00\",\n{\n            'v': 18.99,\n            'f': \"18.99\",\n        },\n\"Maldonado, CrystalFat Chance, Charlie Vega\"],\n [{\n            'v': 47,\n            'f': \"47\",\n        },\n\"Felix Hernandez\\u00a0(Beisbol! Latino Heroes of Major League Baseball)\",\n\"Leventhal, Josh\",\n{\n            'v': 9781680720471,\n            'f': \"9781680720471\",\n        },\n\"Hardcover\",\n\"Black Rabbit Books/Bolt\",\n\"2017-09-01 00:00:00\",\n{\n            'v': 32.8,\n            'f': \"32.8\",\n        },\n\"Leventhal, JoshFelix Hernandez\\u00a0(Beisbol! Latino Heroes of Major League Baseball)\"],\n [{\n            'v': 48,\n            'f': \"48\",\n        },\n\"Fifteen Hundred Miles from the Sun\",\n\"Garza Villa, Jonny\",\n{\n            'v': 9781542027052,\n            'f': \"9781542027052\",\n        },\n\"Hardcover\",\n\"Skyscape\",\n\"2021-06-08 00:00:00\",\n{\n            'v': 16.99,\n            'f': \"16.99\",\n        },\n\"Garza Villa, JonnyFifteen Hundred Miles from the Sun\"],\n [{\n            'v': 49,\n            'f': \"49\",\n        },\n\"Fire with Fire\",\n\"Soria, Destiny\",\n{\n            'v': 9780358329732,\n            'f': \"9780358329732\",\n        },\n\"Hardcover\",\n\"Clarion Books\",\n\"2021-06-08 00:00:00\",\n{\n            'v': 17.99,\n            'f': \"17.99\",\n        },\n\"Soria, DestinyFire with Fire\"],\n [{\n            'v': 50,\n            'f': \"50\",\n        },\n\"Forget This Ever Happened\",\n\"Clarke, Cassandra Rose\",\n{\n            'v': 9780823446087,\n            'f': \"9780823446087\",\n        },\n\"Hardcover\",\n\"Holiday House\",\n\"2020-10-06 00:00:00\",\n{\n            'v': 18.99,\n            'f': \"18.99\",\n        },\n\"Clarke, Cassandra RoseForget This Ever Happened\"],\n [{\n            'v': 51,\n            'f': \"51\",\n        },\n\"Frida Kahlo\\u00a0(Genius)\",\n\"Munoz, Isabel\",\n{\n            'v': 9788854413603,\n            'f': \"9788854413603\",\n        },\n\"Hardcover\",\n\"White Star Kids\",\n\"2019-03-05 00:00:00\",\n{\n            'v': 9.95,\n            'f': \"9.95\",\n        },\n\"Munoz, IsabelFrida Kahlo\\u00a0(Genius)\"],\n [{\n            'v': 52,\n            'f': \"52\",\n        },\n\"Frida Kahlo: Artist and Activist\\u00a0(Gateway Biographies)\",\n\"Doeden, Matt\",\n{\n            'v': 9781541588882,\n            'f': \"9781541588882\",\n        },\n\"Paperback\",\n\"Lerner Publications (Tm)\",\n\"2020-01-01 00:00:00\",\n{\n            'v': 10.99,\n            'f': \"10.99\",\n        },\n\"Doeden, MattFrida Kahlo: Artist and Activist\\u00a0(Gateway Biographies)\"],\n [{\n            'v': 53,\n            'f': \"53\",\n        },\n\"From Farmworker to Astronaut/de Campesino a Astronauta: My Path to the Stars/Mi Viaje a Las Estrellas\\u00a0(Spanish, English)\",\n\"Hernandez, Jose M\",\n{\n            'v': 9781558858688,\n            'f': \"9781558858688\",\n        },\n\"Paperback\",\n\"Pinata Books\",\n\"2019-10-31 00:00:00\",\n{\n            'v': 10.95,\n            'f': \"10.95\",\n        },\n\"Hernandez, Jose MFrom Farmworker to Astronaut/de Campesino a Astronauta: My Path to the Stars/Mi Viaje a Las Estrellas\\u00a0(Spanish, English)\"],\n [{\n            'v': 54,\n            'f': \"54\",\n        },\n\"Furia\",\n\"M\\u00e9ndez, Yamile Saied\",\n{\n            'v': 9781616209919,\n            'f': \"9781616209919\",\n        },\n\"Hardcover\",\n\"Algonquin Young Readers\",\n\"2020-09-15 00:00:00\",\n{\n            'v': 17.95,\n            'f': \"17.95\",\n        },\n\"M\\u00e9ndez, Yamile SaiedFuria\"],\n [{\n            'v': 55,\n            'f': \"55\",\n        },\n\"Gabi, a Girl in Pieces\\u00a0(Junior Library Guild Selection)\\u00a0Easy Reads\",\n\"Quintero, Isabel\",\n{\n            'v': 9781935955948,\n            'f': \"9781935955948\",\n        },\n\"Hardcover\",\n\"Cinco Puntos Press\",\n\"2014-10-14 00:00:00\",\n{\n            'v': 17.95,\n            'f': \"17.95\",\n        },\n\"Quintero, IsabelGabi, a Girl in Pieces\\u00a0(Junior Library Guild Selection)\\u00a0Easy Reads\"],\n [{\n            'v': 56,\n            'f': \"56\",\n        },\n\"Germ\\u00e1n Garmendia: Star Chilean Gamer with 10 Billion+ Views\\u00a0(Top Video Gamers in the World)\",\n\"Hall, Kevin\",\n{\n            'v': 9781725346062,\n            'f': \"9781725346062\",\n        },\n\"Paperback\",\n\"Rosen Central\",\n\"2019-07-30 00:00:00\",\n{\n            'v': 11.75,\n            'f': \"11.75\",\n        },\n\"Hall, KevinGerm\\u00e1n Garmendia: Star Chilean Gamer with 10 Billion+ Views\\u00a0(Top Video Gamers in the World)\"],\n [{\n            'v': 57,\n            'f': \"57\",\n        },\n\"Goodbye, My Havana: The Life and Times of a Gringa in Revolutionary Cuba\",\n\"Veltfort, Anna\",\n{\n            'v': 9781503610491,\n            'f': \"9781503610491\",\n        },\n\"Paperback\",\n\"Redwood Press\",\n\"2019-10-08 00:00:00\",\n{\n            'v': 24.0,\n            'f': \"24.0\",\n        },\n\"Veltfort, AnnaGoodbye, My Havana: The Life and Times of a Gringa in Revolutionary Cuba\"],\n [{\n            'v': 58,\n            'f': \"58\",\n        },\n\"Gravity\",\n\"Deming, Sarah\",\n{\n            'v': 9780525581031,\n            'f': \"9780525581031\",\n        },\n\"Hardcover\",\n\"Make Me a World\",\n\"2019-11-12 00:00:00\",\n{\n            'v': 17.99,\n            'f': \"17.99\",\n        },\n\"Deming, SarahGravity\"],\n [{\n            'v': 59,\n            'f': \"59\",\n        },\n\"Growing Up in Brazil\\u00a0(Growing Up Around the World)\",\n\"Allen, John\",\n{\n            'v': 9781682822050,\n            'f': \"9781682822050\",\n        },\n\"Hardcover\",\n\"Referencepoint Press\",\n\"2017-09-15 00:00:00\",\n{\n            'v': 31.95,\n            'f': \"31.95\",\n        },\n\"Allen, JohnGrowing Up in Brazil\\u00a0(Growing Up Around the World)\"],\n [{\n            'v': 60,\n            'f': \"60\",\n        },\n\"Growing Up in Mexico\\u00a0(Growing Up Around the World)\",\n\"Sheen, Barbara\",\n{\n            'v': 9781682822210,\n            'f': \"9781682822210\",\n        },\n\"Hardcover\",\n\"Referencepoint Press\",\n\"2017-09-15 00:00:00\",\n{\n            'v': 31.95,\n            'f': \"31.95\",\n        },\n\"Sheen, BarbaraGrowing Up in Mexico\\u00a0(Growing Up Around the World)\"],\n [{\n            'v': 61,\n            'f': \"61\",\n        },\n\"Guyana\\u00a0(Cultures of the World (Third Edition)(R))\",\n\"Nevins, Debbie\",\n{\n            'v': 9781502647467,\n            'f': \"9781502647467\",\n        },\n\"Library Binding\",\n\"Cavendish Square Publishing\",\n\"2019-07-30 00:00:00\",\n{\n            'v': 47.07,\n            'f': \"47.07\",\n        },\n\"Nevins, DebbieGuyana\\u00a0(Cultures of the World (Third Edition)(R))\"],\n [{\n            'v': 62,\n            'f': \"62\",\n        },\n\"Hab\\u00eda una Vez...Mexicanas Que Hicieron Historia\\u00a0(Spanish)\",\n\"Orozco, Fa\",\n{\n            'v': 9786073176040,\n            'f': \"9786073176040\",\n        },\n\"Paperback\",\n\"Alfaguara Juvenil\",\n\"2019-06-25 00:00:00\",\n{\n            'v': 19.95,\n            'f': \"19.95\",\n        },\n\"Orozco, FaHab\\u00eda una Vez...Mexicanas Que Hicieron Historia\\u00a0(Spanish)\"],\n [{\n            'v': 63,\n            'f': \"63\",\n        },\n\"Here the Whole Time\",\n\"Martins, Vitor\",\n{\n            'v': 9781338620825,\n            'f': \"9781338620825\",\n        },\n\"Hardcover\",\n\"Scholastic Press\",\n\"2020-11-10 00:00:00\",\n{\n            'v': 18.99,\n            'f': \"18.99\",\n        },\n\"Martins, VitorHere the Whole Time\"],\n [{\n            'v': 64,\n            'f': \"64\",\n        },\n\"Here's to Us\\u00a0- Street Smart\",\n\"Albertalli, Becky\",\n{\n            'v': 9780063071636,\n            'f': \"9780063071636\",\n        },\n\"Hardcover\",\n\"Quill Tree Books\",\n\"2021-12-28 00:00:00\",\n{\n            'v': 19.99,\n            'f': \"19.99\",\n        },\n\"Albertalli, BeckyHere's to Us\\u00a0- Street Smart\"],\n [{\n            'v': 65,\n            'f': \"65\",\n        },\n\"Hispanic in America\\u00a0(Bias in America)\",\n\"Gallagher, Jim\",\n{\n            'v': 9781682828939,\n            'f': \"9781682828939\",\n        },\n\"Hardcover\",\n\"Referencepoint Press\",\n\"2020-08-01 00:00:00\",\n{\n            'v': 31.95,\n            'f': \"31.95\",\n        },\n\"Gallagher, JimHispanic in America\\u00a0(Bias in America)\"],\n [{\n            'v': 66,\n            'f': \"66\",\n        },\n\"Historically Inaccurate\",\n\"Bravo, Shay\",\n{\n            'v': 9781989365373,\n            'f': \"9781989365373\",\n        },\n\"Paperback\",\n\"Wattpad Books\",\n\"2020-09-29 00:00:00\",\n{\n            'v': 10.99,\n            'f': \"10.99\",\n        },\n\"Bravo, ShayHistorically Inaccurate\"],\n [{\n            'v': 67,\n            'f': \"67\",\n        },\n\"Home\",\n\"Anta, Julio\",\n{\n            'v': 9781534319974,\n            'f': \"9781534319974\",\n        },\n\"Paperback\",\n\"Image Comics\",\n\"2021-11-23 00:00:00\",\n{\n            'v': 16.99,\n            'f': \"16.99\",\n        },\n\"Anta, JulioHome\"],\n [{\n            'v': 68,\n            'f': \"68\",\n        },\n\"Honduras\\u00a0(Cultures of the World (Third Edition)(R))\",\n\"Wehner, Lauren\",\n{\n            'v': 9781502641021,\n            'f': \"9781502641021\",\n        },\n\"Library Binding\",\n\"Cavendish Square Publishing\",\n\"2018-12-30 00:00:00\",\n{\n            'v': 47.07,\n            'f': \"47.07\",\n        },\n\"Wehner, LaurenHonduras\\u00a0(Cultures of the World (Third Edition)(R))\"],\n [{\n            'v': 69,\n            'f': \"69\",\n        },\n\"How Moon Fuentez Fell in Love with the Universe\",\n\"Gilliland, Raquel Vasquez\",\n{\n            'v': 9781534448667,\n            'f': \"9781534448667\",\n        },\n\"Hardcover\",\n\"Simon & Schuster Books for Young Readers\",\n\"2021-08-10 00:00:00\",\n{\n            'v': 19.99,\n            'f': \"19.99\",\n        },\n\"Gilliland, Raquel VasquezHow Moon Fuentez Fell in Love with the Universe\"],\n [{\n            'v': 70,\n            'f': \"70\",\n        },\n\"How to Build a Heart\",\n\"Padian, Maria\",\n{\n            'v': 9781616208493,\n            'f': \"9781616208493\",\n        },\n\"Hardcover\",\n\"Algonquin Young Readers\",\n\"2020-01-28 00:00:00\",\n{\n            'v': 17.95,\n            'f': \"17.95\",\n        },\n\"Padian, MariaHow to Build a Heart\"],\n [{\n            'v': 71,\n            'f': \"71\",\n        },\n\"I Am Not Your Perfect Mexican Daughter\",\n\"S\\u00e1nchez, Erika L\",\n{\n            'v': 9781524700485,\n            'f': \"9781524700485\",\n        },\n\"Hardcover\",\n\"Alfred A. Knopf Books for Young Readers\",\n\"2017-10-17 00:00:00\",\n{\n            'v': 17.99,\n            'f': \"17.99\",\n        },\n\"S\\u00e1nchez, Erika LI Am Not Your Perfect Mexican Daughter\"],\n [{\n            'v': 72,\n            'f': \"72\",\n        },\n\"Illegal: A Disappeared Novel, 2\",\n\"Stork, Francisco X\",\n{\n            'v': 9781338310559,\n            'f': \"9781338310559\",\n        },\n\"Hardcover\",\n\"Scholastic Press\",\n\"2020-08-04 00:00:00\",\n{\n            'v': 18.99,\n            'f': \"18.99\",\n        },\n\"Stork, Francisco XIllegal: A Disappeared Novel, 2\"],\n [{\n            'v': 73,\n            'f': \"73\",\n        },\n\"Illusionary\\u00a0(Hollow Crown\\u00a0#2)\",\n\"C\\u00f3rdova, Zoraida\",\n{\n            'v': 9780759556034,\n            'f': \"9780759556034\",\n        },\n\"Hardcover\",\n\"Little, Brown Books for Young Readers\",\n\"2021-05-11 00:00:00\",\n{\n            'v': 18.99,\n            'f': \"18.99\",\n        },\n\"C\\u00f3rdova, ZoraidaIllusionary\\u00a0(Hollow Crown\\u00a0#2)\"],\n [{\n            'v': 74,\n            'f': \"74\",\n        },\n\"Incendiary\\u00a0(Hollow Crown\\u00a0#1)\",\n\"C\\u00f3rdova, Zoraida\",\n{\n            'v': 9780759556041,\n            'f': \"9780759556041\",\n        },\n\"Paperback\",\n\"Little, Brown Books for Young Readers\",\n\"2021-04-20 00:00:00\",\n{\n            'v': 10.99,\n            'f': \"10.99\",\n        },\n\"C\\u00f3rdova, ZoraidaIncendiary\\u00a0(Hollow Crown\\u00a0#1)\"],\n [{\n            'v': 75,\n            'f': \"75\",\n        },\n\"Indivisible\",\n\"Aleman, Daniel\",\n{\n            'v': 9780759556058,\n            'f': \"9780759556058\",\n        },\n\"Hardcover\",\n\"Little, Brown Books for Young Readers\",\n\"2021-05-04 00:00:00\",\n{\n            'v': 18.99,\n            'f': \"18.99\",\n        },\n\"Aleman, DanielIndivisible\"],\n [{\n            'v': 76,\n            'f': \"76\",\n        },\n\"Infinity Reaper\\u00a0(Infinity Cycle\\u00a0#2)\",\n\"Silvera, Adam\",\n{\n            'v': 9780062882318,\n            'f': \"9780062882318\",\n        },\n\"Hardcover\",\n\"Quill Tree Books\",\n\"2021-03-02 00:00:00\",\n{\n            'v': 17.99,\n            'f': \"17.99\",\n        },\n\"Silvera, AdamInfinity Reaper\\u00a0(Infinity Cycle\\u00a0#2)\"],\n [{\n            'v': 77,\n            'f': \"77\",\n        },\n\"Infinity Son\\u00a0(Infinity Cycle\\u00a0#1)\",\n\"Silvera, Adam\",\n{\n            'v': 9780062457820,\n            'f': \"9780062457820\",\n        },\n\"Hardcover\",\n\"Quill Tree Books\",\n\"2020-01-14 00:00:00\",\n{\n            'v': 18.99,\n            'f': \"18.99\",\n        },\n\"Silvera, AdamInfinity Son\\u00a0(Infinity Cycle\\u00a0#1)\"],\n [{\n            'v': 78,\n            'f': \"78\",\n        },\n\"It's All Love: Reflections for Your Heart & Soul\",\n\"Ortega, Jenna\",\n{\n            'v': 9780593174562,\n            'f': \"9780593174562\",\n        },\n\"Hardcover\",\n\"Random House Books for Young Readers\",\n\"2021-01-05 00:00:00\",\n{\n            'v': 16.99,\n            'f': \"16.99\",\n        },\n\"Ortega, JennaIt's All Love: Reflections for Your Heart & Soul\"],\n [{\n            'v': 79,\n            'f': \"79\",\n        },\n\"Jackpot\",\n\"Stone, Nic\",\n{\n            'v': 9781984829627,\n            'f': \"9781984829627\",\n        },\n\"Hardcover\",\n\"Crown Books for Young Readers\",\n\"2019-10-15 00:00:00\",\n{\n            'v': 17.99,\n            'f': \"17.99\",\n        },\n\"Stone, NicJackpot\"],\n [{\n            'v': 80,\n            'f': \"80\",\n        },\n\"Jonesy Vol. 2, 2\\u00a0(Jonesy\\u00a0#2)\",\n\"Humphries, Sam\",\n{\n            'v': 9781608869992,\n            'f': \"9781608869992\",\n        },\n\"Paperback\",\n\"Boom! Studios\",\n\"2017-05-09 00:00:00\",\n{\n            'v': 14.99,\n            'f': \"14.99\",\n        },\n\"Humphries, SamJonesy Vol. 2, 2\\u00a0(Jonesy\\u00a0#2)\"],\n [{\n            'v': 81,\n            'f': \"81\",\n        },\n\"Jonesy Vol. 3, 3\\u00a0(Jonesy\\u00a0#3)\",\n\"Humphries, Sam\",\n{\n            'v': 9781684150168,\n            'f': \"9781684150168\",\n        },\n\"Paperback\",\n\"Boom Box\",\n\"2017-09-19 00:00:00\",\n{\n            'v': 14.99,\n            'f': \"14.99\",\n        },\n\"Humphries, SamJonesy Vol. 3, 3\\u00a0(Jonesy\\u00a0#3)\"],\n [{\n            'v': 82,\n            'f': \"82\",\n        },\n\"Jose Altuve\\u00a0(Beisbol! Latino Heroes of Major League Baseball)\",\n\"Leventhal, Josh\",\n{\n            'v': 9781680720440,\n            'f': \"9781680720440\",\n        },\n\"Hardcover\",\n\"Black Rabbit Books/Bolt\",\n\"2017-09-01 00:00:00\",\n{\n            'v': 32.8,\n            'f': \"32.8\",\n        },\n\"Leventhal, JoshJose Altuve\\u00a0(Beisbol! Latino Heroes of Major League Baseball)\"],\n [{\n            'v': 83,\n            'f': \"83\",\n        },\n\"Jose Altuve: Baseball Superstar\\u00a0(Star Athletes)\",\n\"Sandalow, Brian\",\n{\n            'v': 9781532119873,\n            'f': \"9781532119873\",\n        },\n\"Library Binding\",\n\"Essential Library\",\n\"2019-08-01 00:00:00\",\n{\n            'v': 37.07,\n            'f': \"37.07\",\n        },\n\"Sandalow, BrianJose Altuve: Baseball Superstar\\u00a0(Star Athletes)\"],\n [{\n            'v': 84,\n            'f': \"84\",\n        },\n\"Journey Into Mexico: The Revenge of Supay\",\n\"Grand, Alex\",\n{\n            'v': 9781736547663,\n            'f': \"9781736547663\",\n        },\n\"Paperback\",\n\"Comic Book Historians\",\n\"2021-03-01 00:00:00\",\n{\n            'v': 21.99,\n            'f': \"21.99\",\n        },\n\"Grand, AlexJourney Into Mexico: The Revenge of Supay\"],\n [{\n            'v': 85,\n            'f': \"85\",\n        },\n\"Juliet Takes a Breath: The Graphic Novel\",\n\"Rivera, Gabby\",\n{\n            'v': 9781684156115,\n            'f': \"9781684156115\",\n        },\n\"Paperback\",\n\"Boom Box\",\n\"2020-12-01 00:00:00\",\n{\n            'v': 14.99,\n            'f': \"14.99\",\n        },\n\"Rivera, GabbyJuliet Takes a Breath: The Graphic Novel\"],\n [{\n            'v': 86,\n            'f': \"86\",\n        },\n\"La Voz de M.A.Y.O Rambo\",\n\"Barajas, Henry\",\n{\n            'v': 9781534313637,\n            'f': \"9781534313637\",\n        },\n\"Paperback\",\n\"Image Comics\",\n\"2019-11-19 00:00:00\",\n{\n            'v': 16.99,\n            'f': \"16.99\",\n        },\n\"Barajas, HenryLa Voz de M.A.Y.O Rambo\"],\n [{\n            'v': 87,\n            'f': \"87\",\n        },\n\"Labyrinth Lost\\u00a0(Brooklyn Brujas\\u00a0#1)\",\n\"C\\u00f3rdova, Zoraida\",\n{\n            'v': 9781492623168,\n            'f': \"9781492623168\",\n        },\n\"Paperback\",\n\"Sourcebooks Fire\",\n\"2017-08-01 00:00:00\",\n{\n            'v': 10.99,\n            'f': \"10.99\",\n        },\n\"C\\u00f3rdova, ZoraidaLabyrinth Lost\\u00a0(Brooklyn Brujas\\u00a0#1)\"],\n [{\n            'v': 88,\n            'f': \"88\",\n        },\n\"Life and Culture in Latin America\\u00a0(People Around the World)\",\n\"Morlock, Rachael\",\n{\n            'v': 9781725321564,\n            'f': \"9781725321564\",\n        },\n\"Paperback\",\n\"PowerKids Press\",\n\"2020-12-30 00:00:00\",\n{\n            'v': 11.75,\n            'f': \"11.75\",\n        },\n\"Morlock, RachaelLife and Culture in Latin America\\u00a0(People Around the World)\"],\n [{\n            'v': 89,\n            'f': \"89\",\n        },\n\"Lifetime Passes\",\n\"Blas, Terry\",\n{\n            'v': 9781419746666,\n            'f': \"9781419746666\",\n        },\n\"Hardcover\",\n\"Harry N. Abrams\",\n\"2021-11-23 00:00:00\",\n{\n            'v': 23.99,\n            'f': \"23.99\",\n        },\n\"Blas, TerryLifetime Passes\"],\n [{\n            'v': 90,\n            'f': \"90\",\n        },\n\"Like a Love Song\\u00a0(Underlined Paperbacks)\",\n\"Martins, Gabriela\",\n{\n            'v': 9780593382073,\n            'f': \"9780593382073\",\n        },\n\"Paperback\",\n\"Underlined\",\n\"2021-08-03 00:00:00\",\n{\n            'v': 9.99,\n            'f': \"9.99\",\n        },\n\"Martins, GabrielaLike a Love Song\\u00a0(Underlined Paperbacks)\"],\n [{\n            'v': 91,\n            'f': \"91\",\n        },\n\"Lin-Manuel Miranda: From Broadway to the Big Screen\\u00a0(People in the News)\",\n\"Rajczak Nelson, Kristen\",\n{\n            'v': 9781534563407,\n            'f': \"9781534563407\",\n        },\n\"Paperback\",\n\"Lucent Press\",\n\"2018-07-30 00:00:00\",\n{\n            'v': 19.99,\n            'f': \"19.99\",\n        },\n\"Rajczak Nelson, KristenLin-Manuel Miranda: From Broadway to the Big Screen\\u00a0(People in the News)\"],\n [{\n            'v': 92,\n            'f': \"92\",\n        },\n\"Lin-Manuel Miranda: Revolutionary Playwright, Composer, and Actor\\u00a0(Gateway Biographies)\",\n\"Schwartz, Heather E\",\n{\n            'v': 9781541574335,\n            'f': \"9781541574335\",\n        },\n\"Paperback\",\n\"Lerner Publications (Tm)\",\n\"2019-08-01 00:00:00\",\n{\n            'v': 10.99,\n            'f': \"10.99\",\n        },\n\"Schwartz, Heather ELin-Manuel Miranda: Revolutionary Playwright, Composer, and Actor\\u00a0(Gateway Biographies)\"],\n [{\n            'v': 93,\n            'f': \"93\",\n        },\n\"Lionel Messi\\u00a0(Soccer Superstars)\",\n\"Perez, Mike\",\n{\n            'v': 9781725340275,\n            'f': \"9781725340275\",\n        },\n\"Paperback\",\n\"Rosen Young Adult\",\n\"2019-07-30 00:00:00\",\n{\n            'v': 12.95,\n            'f': \"12.95\",\n        },\n\"Perez, MikeLionel Messi\\u00a0(Soccer Superstars)\"],\n [{\n            'v': 94,\n            'f': \"94\",\n        },\n\"Lionel Messi: Legendary Soccer Player\\u00a0(At the Top of Their Game)\",\n\"Shoup, Kate\",\n{\n            'v': 9781502651167,\n            'f': \"9781502651167\",\n        },\n\"Paperback\",\n\"Cavendish Square Publishing\",\n\"2019-12-30 00:00:00\",\n{\n            'v': 19.99,\n            'f': \"19.99\",\n        },\n\"Shoup, KateLionel Messi: Legendary Soccer Player\\u00a0(At the Top of Their Game)\"],\n [{\n            'v': 95,\n            'f': \"95\",\n        },\n\"Little Giants =: Pequeanas Gigantes\\u00a0(Little Giants) (English, Spanish)\",\n\"Calderon, Raynelda a\",\n{\n            'v': 9781733139229,\n            'f': \"9781733139229\",\n        },\n\"Hardcover\",\n\"Cayena Press, Inc.\",\n\"2020-03-02 00:00:00\",\n{\n            'v': 23.99,\n            'f': \"23.99\",\n        },\n\"Calderon, Raynelda aLittle Giants =: Pequeanas Gigantes\\u00a0(Little Giants) (English, Spanish)\"],\n [{\n            'v': 96,\n            'f': \"96\",\n        },\n\"Living Beyond Borders: Growing Up Mexican in America\\u00a0(English, Spanish)\",\n\"Longoria, Margarita\",\n{\n            'v': 9780593204979,\n            'f': \"9780593204979\",\n        },\n\"Hardcover\",\n\"Philomel Books\",\n\"2021-08-17 00:00:00\",\n{\n            'v': 17.99,\n            'f': \"17.99\",\n        },\n\"Longoria, MargaritaLiving Beyond Borders: Growing Up Mexican in America\\u00a0(English, Spanish)\"],\n [{\n            'v': 97,\n            'f': \"97\",\n        },\n\"Lobizona\\u00a0(Wolves of No World\\u00a0#1)\",\n\"Garber, Romina\",\n{\n            'v': 9781250239129,\n            'f': \"9781250239129\",\n        },\n\"Hardcover\",\n\"Wednesday Books\",\n\"2020-08-04 00:00:00\",\n{\n            'v': 18.99,\n            'f': \"18.99\",\n        },\n\"Garber, RominaLobizona\\u00a0(Wolves of No World\\u00a0#1)\"],\n [{\n            'v': 98,\n            'f': \"98\",\n        },\n\"Loreta Janeta Vel\\u00e1zquez: Cuban Confederate Soldier\\u00a0(Our Voices: Spanish and Latino Figures of American History)\",\n\"Imery-Garcia, Ash\",\n{\n            'v': 9781508185161,\n            'f': \"9781508185161\",\n        },\n\"Paperback\",\n\"Rosen Central\",\n\"2019-07-30 00:00:00\",\n{\n            'v': 11.75,\n            'f': \"11.75\",\n        },\n\"Imery-Garcia, AshLoreta Janeta Vel\\u00e1zquez: Cuban Confederate Soldier\\u00a0(Our Voices: Spanish and Latino Figures of American History)\"],\n [{\n            'v': 99,\n            'f': \"99\",\n        },\n\"Love in English\",\n\"Andreu, Maria E\",\n{\n            'v': 9780062996510,\n            'f': \"9780062996510\",\n        },\n\"Hardcover\",\n\"Balzer & Bray/Harperteen\",\n\"2021-02-02 00:00:00\",\n{\n            'v': 18.99,\n            'f': \"18.99\",\n        },\n\"Andreu, Maria ELove in English\"],\n [{\n            'v': 100,\n            'f': \"100\",\n        },\n\"Lulu and Milagro's Search for Clarity\\u00a0- Street Smart\",\n\"Velez, Angela\",\n{\n            'v': 9780063071780,\n            'f': \"9780063071780\",\n        },\n\"Hardcover\",\n\"Balzer & Bray/Harperteen\",\n\"2022-02-08 00:00:00\",\n{\n            'v': 18.99,\n            'f': \"18.99\",\n        },\n\"Velez, AngelaLulu and Milagro's Search for Clarity\\u00a0- Street Smart\"],\n [{\n            'v': 101,\n            'f': \"101\",\n        },\n\"Mama Tingo\\u00a0(She Was)\",\n\"Calderon, Raynelda a\",\n{\n            'v': 9781733139205,\n            'f': \"9781733139205\",\n        },\n\"Hardcover\",\n\"Cayena Press, Ltd.\",\n\"2019-10-12 00:00:00\",\n{\n            'v': 17.99,\n            'f': \"17.99\",\n        },\n\"Calderon, Raynelda aMama Tingo\\u00a0(She Was)\"],\n [{\n            'v': 102,\n            'f': \"102\",\n        },\n\"Manuelito\",\n\"Amado, Elisa\",\n{\n            'v': 9781773212661,\n            'f': \"9781773212661\",\n        },\n\"Hardcover\",\n\"Annick Press\",\n\"2019-04-09 00:00:00\",\n{\n            'v': 19.99,\n            'f': \"19.99\",\n        },\n\"Amado, ElisaManuelito\"],\n [{\n            'v': 103,\n            'f': \"103\",\n        },\n\"Martian Ghost Centaur, 1\",\n\"Heagerty, Mat\",\n{\n            'v': 9781620108499,\n            'f': \"9781620108499\",\n        },\n\"Paperback\",\n\"Oni Press\",\n\"2021-03-16 00:00:00\",\n{\n            'v': 19.99,\n            'f': \"19.99\",\n        },\n\"Heagerty, MatMartian Ghost Centaur, 1\"],\n [{\n            'v': 104,\n            'f': \"104\",\n        },\n\"Marvel-Verse: America Chavez\\u00a0- Street Smart\",\n\"McKelvie, Jamie\",\n{\n            'v': 9781302933944,\n            'f': \"9781302933944\",\n        },\n\"Paperback\",\n\"Marvel\",\n\"2022-03-22 00:00:00\",\n{\n            'v': 9.99,\n            'f': \"9.99\",\n        },\n\"McKelvie, JamieMarvel-Verse: America Chavez\\u00a0- Street Smart\"],\n [{\n            'v': 105,\n            'f': \"105\",\n        },\n\"Meet Cute Diary\",\n\"Lee, Emery\",\n{\n            'v': 9780063038837,\n            'f': \"9780063038837\",\n        },\n\"Hardcover\",\n\"Quill Tree Books\",\n\"2021-05-04 00:00:00\",\n{\n            'v': 17.99,\n            'f': \"17.99\",\n        },\n\"Lee, EmeryMeet Cute Diary\"],\n [{\n            'v': 106,\n            'f': \"106\",\n        },\n\"Mexican Whiteboy\",\n\"de la Pe\\u00f1a, Matt\",\n{\n            'v': 9780440239383,\n            'f': \"9780440239383\",\n        },\n\"Paperback\",\n\"Ember\",\n\"2010-01-12 00:00:00\",\n{\n            'v': 9.99,\n            'f': \"9.99\",\n        },\n\"de la Pe\\u00f1a, MattMexican Whiteboy\"],\n [{\n            'v': 107,\n            'f': \"107\",\n        },\n\"Mexico (Enchantment of the World) (Library Edition) (Library)\\u00a0(Enchantment of the World)\",\n\"Sonneborn, Liz\",\n{\n            'v': 9780531235706,\n            'f': \"9780531235706\",\n        },\n\"Hardcover\",\n\"C. Press/F. Watts Trade\",\n\"2017-09-01 00:00:00\",\n{\n            'v': 40.0,\n            'f': \"40.0\",\n        },\n\"Sonneborn, LizMexico (Enchantment of the World) (Library Edition) (Library)\\u00a0(Enchantment of the World)\"],\n [{\n            'v': 108,\n            'f': \"108\",\n        },\n\"Miguel Cabrera\\u00a0(Beisbol! Latino Heroes of Major League Baseball)\",\n\"Leventhal, Josh\",\n{\n            'v': 9781680720457,\n            'f': \"9781680720457\",\n        },\n\"Hardcover\",\n\"Black Rabbit Books/Bolt\",\n\"2017-09-01 00:00:00\",\n{\n            'v': 32.8,\n            'f': \"32.8\",\n        },\n\"Leventhal, JoshMiguel Cabrera\\u00a0(Beisbol! Latino Heroes of Major League Baseball)\"],\n [{\n            'v': 109,\n            'f': \"109\",\n        },\n\"Miles Morales Vol. 2: Bring on the Bad Guys\",\n\"Ahmed, Saladin\",\n{\n            'v': 9781302914790,\n            'f': \"9781302914790\",\n        },\n\"Paperback\",\n\"Marvel\",\n\"2020-01-14 00:00:00\",\n{\n            'v': 15.99,\n            'f': \"15.99\",\n        },\n\"Ahmed, SaladinMiles Morales Vol. 2: Bring on the Bad Guys\"],\n [{\n            'v': 110,\n            'f': \"110\",\n        },\n\"Miles Morales Vol. 4\",\n\"Ahmed, Saladin\",\n{\n            'v': 9781302920173,\n            'f': \"9781302920173\",\n        },\n\"Paperback\",\n\"Marvel\",\n\"2021-03-09 00:00:00\",\n{\n            'v': 17.99,\n            'f': \"17.99\",\n        },\n\"Ahmed, SaladinMiles Morales Vol. 4\"],\n [{\n            'v': 111,\n            'f': \"111\",\n        },\n\"Miles Morales Vol. 5: The Clone Saga\",\n\"Ahmed, Saladin\",\n{\n            'v': 9781302926014,\n            'f': \"9781302926014\",\n        },\n\"Paperback\",\n\"Marvel\",\n\"2021-09-28 00:00:00\",\n{\n            'v': 19.99,\n            'f': \"19.99\",\n        },\n\"Ahmed, SaladinMiles Morales Vol. 5: The Clone Saga\"],\n [{\n            'v': 112,\n            'f': \"112\",\n        },\n\"Miles Morales Vol. 6: All Eyes on Me\\u00a0- Street Smart\",\n\"Ahmed, Saladin\",\n{\n            'v': 9781302926021,\n            'f': \"9781302926021\",\n        },\n\"Paperback\",\n\"Marvel\",\n\"2022-01-18 00:00:00\",\n{\n            'v': 15.99,\n            'f': \"15.99\",\n        },\n\"Ahmed, SaladinMiles Morales Vol. 6: All Eyes on Me\\u00a0- Street Smart\"],\n [{\n            'v': 113,\n            'f': \"113\",\n        },\n\"Miles Morales: Spider-Man\\u00a0(Marvel YA Novel)\",\n\"Reynolds, Jason\",\n{\n            'v': 9781484787489,\n            'f': \"9781484787489\",\n        },\n\"Hardcover\",\n\"Marvel Press\",\n\"2017-08-01 00:00:00\",\n{\n            'v': 17.99,\n            'f': \"17.99\",\n        },\n\"Reynolds, JasonMiles Morales: Spider-Man\\u00a0(Marvel YA Novel)\"],\n [{\n            'v': 114,\n            'f': \"114\",\n        },\n\"Miles Morales: Ultimate Spider-Man Ultimate Collection Book 1\",\n\"Bendis, Brian Michael\",\n{\n            'v': 9780785197782,\n            'f': \"9780785197782\",\n        },\n\"Paperback\",\n\"Marvel\",\n\"2015-08-18 00:00:00\",\n{\n            'v': 34.99,\n            'f': \"34.99\",\n        },\n\"Bendis, Brian MichaelMiles Morales: Ultimate Spider-Man Ultimate Collection Book 1\"],\n [{\n            'v': 115,\n            'f': \"115\",\n        },\n\"Miles Morales: Ultimate Spider-Man Volume 1: Revival\",\n\"Bendis, Brian Michael\",\n{\n            'v': 9780785154174,\n            'f': \"9780785154174\",\n        },\n\"Paperback\",\n\"Marvel\",\n\"2014-11-25 00:00:00\",\n{\n            'v': 17.99,\n            'f': \"17.99\",\n        },\n\"Bendis, Brian MichaelMiles Morales: Ultimate Spider-Man Volume 1: Revival\"],\n [{\n            'v': 116,\n            'f': \"116\",\n        },\n\"Miss Meteor\",\n\"Mejia, Tehlor Kay\",\n{\n            'v': 9780062869913,\n            'f': \"9780062869913\",\n        },\n\"Hardcover\",\n\"Harperteen\",\n\"2020-09-22 00:00:00\",\n{\n            'v': 17.99,\n            'f': \"17.99\",\n        },\n\"Mejia, Tehlor KayMiss Meteor\"],\n [{\n            'v': 117,\n            'f': \"117\",\n        },\n\"Moonstruck Volume 1: Magic to Brew\",\n\"Ellis, Grace\",\n{\n            'v': 9781534304772,\n            'f': \"9781534304772\",\n        },\n\"Paperback\",\n\"Image Comics\",\n\"2018-03-27 00:00:00\",\n{\n            'v': 9.99,\n            'f': \"9.99\",\n        },\n\"Ellis, GraceMoonstruck Volume 1: Magic to Brew\"],\n [{\n            'v': 118,\n            'f': \"118\",\n        },\n\"Moonstruck Volume 2: Some Enchanted Evening\",\n\"Ellis, Grace\",\n{\n            'v': 9781534308459,\n            'f': \"9781534308459\",\n        },\n\"Paperback\",\n\"Image Comics\",\n\"2019-03-19 00:00:00\",\n{\n            'v': 14.99,\n            'f': \"14.99\",\n        },\n\"Ellis, GraceMoonstruck Volume 2: Some Enchanted Evening\"],\n [{\n            'v': 119,\n            'f': \"119\",\n        },\n\"Moonstruck Volume 3: Troubled Waters\",\n\"Ellis, Grace\",\n{\n            'v': 9781534314931,\n            'f': \"9781534314931\",\n        },\n\"Paperback\",\n\"Image Comics\",\n\"2020-12-15 00:00:00\",\n{\n            'v': 14.99,\n            'f': \"14.99\",\n        },\n\"Ellis, GraceMoonstruck Volume 3: Troubled Waters\"],\n [{\n            'v': 120,\n            'f': \"120\",\n        },\n\"Most Likely\",\n\"Watson, Sarah\",\n{\n            'v': 9780316454834,\n            'f': \"9780316454834\",\n        },\n\"Hardcover\",\n\"Poppy Books\",\n\"2020-03-10 00:00:00\",\n{\n            'v': 17.99,\n            'f': \"17.99\",\n        },\n\"Watson, SarahMost Likely\"],\n [{\n            'v': 121,\n            'f': \"121\",\n        },\n\"Ms. Marvel Team-Up\\u00a0(Marvel Team-Up\\u00a0#1)\\u00a0- Not Available - Publisher Out of Stock Indefinitely\",\n\"Ewing, Eve\",\n{\n            'v': 9781302918316,\n            'f': \"9781302918316\",\n        },\n\"Paperback\",\n\"Marvel\",\n\"2019-12-10 00:00:00\",\n{\n            'v': 17.99,\n            'f': \"17.99\",\n        },\n\"Ewing, EveMs. Marvel Team-Up\\u00a0(Marvel Team-Up\\u00a0#1)\\u00a0- Not Available - Publisher Out of Stock Indefinitely\"],\n [{\n            'v': 122,\n            'f': \"122\",\n        },\n\"Murder of Crows (Lethal Lit, Novel #1)\\u00a0- Street Smart\",\n\"Ancrum, K\",\n{\n            'v': 9781338742923,\n            'f': \"9781338742923\",\n        },\n\"Paperback\",\n\"Scholastic Inc.\",\n\"2022-02-01 00:00:00\",\n{\n            'v': 10.99,\n            'f': \"10.99\",\n        },\n\"Ancrum, KMurder of Crows (Lethal Lit, Novel #1)\\u00a0- Street Smart\"],\n [{\n            'v': 123,\n            'f': \"123\",\n        },\n\"My Corner of the Ring\",\n\"Silva, Jesselyn\",\n{\n            'v': 9780525518402,\n            'f': \"9780525518402\",\n        },\n\"Hardcover\",\n\"G.P. Putnam's Sons Books for Young Readers\",\n\"2019-06-04 00:00:00\",\n{\n            'v': 17.99,\n            'f': \"17.99\",\n        },\n\"Silva, JesselynMy Corner of the Ring\"],\n [{\n            'v': 124,\n            'f': \"124\",\n        },\n\"My Teenage Life in Brazil\\u00a0(Custom and Cultures of the World\\u00a0#12)\",\n\"Whiting, Jim\",\n{\n            'v': 9781422239018,\n            'f': \"9781422239018\",\n        },\n\"Hardcover\",\n\"Mason Crest Publishers\",\n\"2017-01-01 00:00:00\",\n{\n            'v': 23.95,\n            'f': \"23.95\",\n        },\n\"Whiting, JimMy Teenage Life in Brazil\\u00a0(Custom and Cultures of the World\\u00a0#12)\"],\n [{\n            'v': 125,\n            'f': \"125\",\n        },\n\"My Teenage Life in Mexico\\u00a0(Custom and Cultures of the World\\u00a0#12)\",\n\"Cassriel, Betsy\",\n{\n            'v': 9781422239070,\n            'f': \"9781422239070\",\n        },\n\"Hardcover\",\n\"Mason Crest Publishers\",\n\"2017-08-08 00:00:00\",\n{\n            'v': 23.95,\n            'f': \"23.95\",\n        },\n\"Cassriel, BetsyMy Teenage Life in Mexico\\u00a0(Custom and Cultures of the World\\u00a0#12)\"],\n [{\n            'v': 126,\n            'f': \"126\",\n        },\n\"Nelson Cruz\\u00a0(Beisbol! Latino Heroes of Major League Baseball)\",\n\"Leventhal, Josh\",\n{\n            'v': 9781680720464,\n            'f': \"9781680720464\",\n        },\n\"Hardcover\",\n\"Black Rabbit Books/Bolt\",\n\"2017-09-01 00:00:00\",\n{\n            'v': 32.8,\n            'f': \"32.8\",\n        },\n\"Leventhal, JoshNelson Cruz\\u00a0(Beisbol! Latino Heroes of Major League Baseball)\"],\n [{\n            'v': 127,\n            'f': \"127\",\n        },\n\"Never Look Back\",\n\"Rivera, Lilliam\",\n{\n            'v': 9781547603732,\n            'f': \"9781547603732\",\n        },\n\"Hardcover\",\n\"Bloomsbury YA\",\n\"2020-09-15 00:00:00\",\n{\n            'v': 18.99,\n            'f': \"18.99\",\n        },\n\"Rivera, LilliamNever Look Back\"],\n [{\n            'v': 128,\n            'f': \"128\",\n        },\n\"Neymar\\u00a0(Soccer Superstars)\",\n\"Callow, Nick\",\n{\n            'v': 9781725340305,\n            'f': \"9781725340305\",\n        },\n\"Paperback\",\n\"Rosen Young Adult\",\n\"2019-07-30 00:00:00\",\n{\n            'v': 12.95,\n            'f': \"12.95\",\n        },\n\"Callow, NickNeymar\\u00a0(Soccer Superstars)\"],\n [{\n            'v': 129,\n            'f': \"129\",\n        },\n\"Neymar: Superstar Striker\\u00a0(At the Top of Their Game)\",\n\"Bjorklund, Ruth\",\n{\n            'v': 9781502651006,\n            'f': \"9781502651006\",\n        },\n\"Paperback\",\n\"Cavendish Square Publishing\",\n\"2019-12-30 00:00:00\",\n{\n            'v': 19.99,\n            'f': \"19.99\",\n        },\n\"Bjorklund, RuthNeymar: Superstar Striker\\u00a0(At the Top of Their Game)\"],\n [{\n            'v': 130,\n            'f': \"130\",\n        },\n\"Nicaragua (Enchantment of the World) (Library Edition) (Library)\\u00a0(Enchantment of the World)\",\n\"Mara, Wil\",\n{\n            'v': 9780531220900,\n            'f': \"9780531220900\",\n        },\n\"Hardcover\",\n\"C. Press/F. Watts Trade\",\n\"2017-02-01 00:00:00\",\n{\n            'v': 40.0,\n            'f': \"40.0\",\n        },\n\"Mara, WilNicaragua (Enchantment of the World) (Library Edition) (Library)\\u00a0(Enchantment of the World)\"],\n [{\n            'v': 131,\n            'f': \"131\",\n        },\n\"No Filter and Other Lies\\u00a0- Street Smart\",\n\"Maldonado, Crystal\",\n{\n            'v': 9780823447183,\n            'f': \"9780823447183\",\n        },\n\"Hardcover\",\n\"Holiday House\",\n\"2022-02-08 00:00:00\",\n{\n            'v': 18.99,\n            'f': \"18.99\",\n        },\n\"Maldonado, CrystalNo Filter and Other Lies\\u00a0- Street Smart\"],\n [{\n            'v': 132,\n            'f': \"132\",\n        },\n\"Nocturna\\u00a0(Nocturna\\u00a0#1)\",\n\"Motayne, Maya\",\n{\n            'v': 9780062842732,\n            'f': \"9780062842732\",\n        },\n\"Hardcover\",\n\"Balzer & Bray/Harperteen\",\n\"2019-05-07 00:00:00\",\n{\n            'v': 18.99,\n            'f': \"18.99\",\n        },\n\"Motayne, MayaNocturna\\u00a0(Nocturna\\u00a0#1)\"],\n [{\n            'v': 133,\n            'f': \"133\",\n        },\n\"Oculta\\u00a0(Nocturna\\u00a0#2)\",\n\"Motayne, Maya\",\n{\n            'v': 9780062842763,\n            'f': \"9780062842763\",\n        },\n\"Hardcover\",\n\"Balzer & Bray/Harperteen\",\n\"2021-04-06 00:00:00\",\n{\n            'v': 18.99,\n            'f': \"18.99\",\n        },\n\"Motayne, MayaOculta\\u00a0(Nocturna\\u00a0#2)\"],\n [{\n            'v': 134,\n            'f': \"134\",\n        },\n\"Odd One Out\",\n\"Stone, Nic\",\n{\n            'v': 9781101939536,\n            'f': \"9781101939536\",\n        },\n\"Hardcover\",\n\"Crown Books for Young Readers\",\n\"2018-10-09 00:00:00\",\n{\n            'v': 17.99,\n            'f': \"17.99\",\n        },\n\"Stone, NicOdd One Out\"],\n [{\n            'v': 135,\n            'f': \"135\",\n        },\n\"On the Hook\",\n\"Stork, Francisco X\",\n{\n            'v': 9781338692150,\n            'f': \"9781338692150\",\n        },\n\"Hardcover\",\n\"Scholastic Press\",\n\"2021-05-18 00:00:00\",\n{\n            'v': 17.99,\n            'f': \"17.99\",\n        },\n\"Stork, Francisco XOn the Hook\"],\n [{\n            'v': 136,\n            'f': \"136\",\n        },\n\"Once Upon a Quincea\\u00f1era\",\n\"Gomez-Hira, Monica\",\n{\n            'v': 9780062996831,\n            'f': \"9780062996831\",\n        },\n\"Hardcover\",\n\"Harperteen\",\n\"2021-03-02 00:00:00\",\n{\n            'v': 17.99,\n            'f': \"17.99\",\n        },\n\"Gomez-Hira, MonicaOnce Upon a Quincea\\u00f1era\"],\n [{\n            'v': 137,\n            'f': \"137\",\n        },\n\"Only Mostly Devastated\",\n\"Gonzales, Sophie\",\n{\n            'v': 9781250315892,\n            'f': \"9781250315892\",\n        },\n\"Hardcover\",\n\"Wednesday Books\",\n\"2020-03-03 00:00:00\",\n{\n            'v': 17.99,\n            'f': \"17.99\",\n        },\n\"Gonzales, SophieOnly Mostly Devastated\"],\n [{\n            'v': 138,\n            'f': \"138\",\n        },\n\"Ophelia After All\\u00a0- Street Smart\",\n\"Marie, Racquel\",\n{\n            'v': 9781250797308,\n            'f': \"9781250797308\",\n        },\n\"Hardcover\",\n\"Feiwel & Friends\",\n\"2022-02-08 00:00:00\",\n{\n            'v': 17.99,\n            'f': \"17.99\",\n        },\n\"Marie, RacquelOphelia After All\\u00a0- Street Smart\"],\n [{\n            'v': 139,\n            'f': \"139\",\n        },\n\"Our Stories Carried Us Here\",\n\"Rozman Clark, Tea\",\n{\n            'v': 9781949523171,\n            'f': \"9781949523171\",\n        },\n\"Hardcover\",\n\"Green Card Voices\",\n\"2021-08-31 00:00:00\",\n{\n            'v': 24.99,\n            'f': \"24.99\",\n        },\n\"Rozman Clark, TeaOur Stories Carried Us Here\"],\n [{\n            'v': 140,\n            'f': \"140\",\n        },\n\"Our Way Back to Always\",\n\"Moreno, Nina\",\n{\n            'v': 9780759557475,\n            'f': \"9780759557475\",\n        },\n\"Hardcover\",\n\"Little, Brown Books for Young Readers\",\n\"2021-10-19 00:00:00\",\n{\n            'v': 17.99,\n            'f': \"17.99\",\n        },\n\"Moreno, NinaOur Way Back to Always\"],\n [{\n            'v': 141,\n            'f': \"141\",\n        },\n\"Paraguay\\u00a0(Cultures of the World (Third Edition)(R))\",\n\"Jones, Naomi E\",\n{\n            'v': 9781502647382,\n            'f': \"9781502647382\",\n        },\n\"Library Binding\",\n\"Cavendish Square Publishing\",\n\"2019-04-30 00:00:00\",\n{\n            'v': 47.07,\n            'f': \"47.07\",\n        },\n\"Jones, Naomi EParaguay\\u00a0(Cultures of the World (Third Edition)(R))\"],\n [{\n            'v': 142,\n            'f': \"142\",\n        },\n\"Peru (Enchantment of the World) (Library Edition) (Library)\\u00a0(Enchantment of the World)\",\n\"Burgan, Michael\",\n{\n            'v': 9780531235911,\n            'f': \"9780531235911\",\n        },\n\"Library Binding\",\n\"C. Press/F. Watts Trade\",\n\"2018-02-01 00:00:00\",\n{\n            'v': 40.0,\n            'f': \"40.0\",\n        },\n\"Burgan, MichaelPeru (Enchantment of the World) (Library Edition) (Library)\\u00a0(Enchantment of the World)\"],\n [{\n            'v': 143,\n            'f': \"143\",\n        },\n\"Phoenix Song: Echo\\u00a0- Street Smart\",\n\"Roanhorse, Rebecca\",\n{\n            'v': 9781302930264,\n            'f': \"9781302930264\",\n        },\n\"Paperback\",\n\"Marvel\",\n\"2022-04-26 00:00:00\",\n{\n            'v': 15.99,\n            'f': \"15.99\",\n        },\n\"Roanhorse, RebeccaPhoenix Song: Echo\\u00a0- Street Smart\"],\n [{\n            'v': 144,\n            'f': \"144\",\n        },\n\"Photographic: The Life of Graciela Iturbide\",\n\"Quintero, Isabel\",\n{\n            'v': 9781947440005,\n            'f': \"9781947440005\",\n        },\n\"Hardcover\",\n\"Getty Publications\",\n\"2018-03-06 00:00:00\",\n{\n            'v': 19.95,\n            'f': \"19.95\",\n        },\n\"Quintero, IsabelPhotographic: The Life of Graciela Iturbide\"],\n [{\n            'v': 145,\n            'f': \"145\",\n        },\n\"Pride: A Pride & Prejudice Remix\",\n\"Zoboi, Ibi\",\n{\n            'v': 9780062564047,\n            'f': \"9780062564047\",\n        },\n\"Hardcover\",\n\"Balzer & Bray/Harperteen\",\n\"2018-09-18 00:00:00\",\n{\n            'v': 17.99,\n            'f': \"17.99\",\n        },\n\"Zoboi, IbiPride: A Pride & Prejudice Remix\"],\n [{\n            'v': 146,\n            'f': \"146\",\n        },\n\"Reclaim the Stars: 17 Tales Across Realms & Space\\u00a0- Street Smart\",\n\"C\\u00f3rdova, Zoraida\",\n{\n            'v': 9781250790637,\n            'f': \"9781250790637\",\n        },\n\"Hardcover\",\n\"Wednesday Books\",\n\"2022-02-15 00:00:00\",\n{\n            'v': 19.99,\n            'f': \"19.99\",\n        },\n\"C\\u00f3rdova, ZoraidaReclaim the Stars: 17 Tales Across Realms & Space\\u00a0- Street Smart\"],\n [{\n            'v': 147,\n            'f': \"147\",\n        },\n\"Reptil: Brink of Extinction\\u00a0- Street Smart\",\n\"Blas, Terry\",\n{\n            'v': 9781302930172,\n            'f': \"9781302930172\",\n        },\n\"Paperback\",\n\"Marvel\",\n\"2021-12-07 00:00:00\",\n{\n            'v': 13.99,\n            'f': \"13.99\",\n        },\n\"Blas, TerryReptil: Brink of Extinction\\u00a0- Street Smart\"],\n [{\n            'v': 148,\n            'f': \"148\",\n        },\n\"Rima's Rebellion: Courage in a Time of Tyranny\",\n\"Engle, Margarita\",\n{\n            'v': 9781534486935,\n            'f': \"9781534486935\",\n        },\n\"Hardcover\",\n\"Atheneum Books for Young Readers\",\n\"2022-02-15 00:00:00\",\n{\n            'v': 18.99,\n            'f': \"18.99\",\n        },\n\"Engle, MargaritaRima's Rebellion: Courage in a Time of Tyranny\"],\n [{\n            'v': 149,\n            'f': \"149\",\n        },\n\"Ronaldo vs. Messi vs. Beckham vs. Pel\\u00e9\\u00a0(Who's the Goat? Using Math to Crown the Champion)\",\n\"Mooney, Carla\",\n{\n            'v': 9781725348493,\n            'f': \"9781725348493\",\n        },\n\"Paperback\",\n\"Rosen Central\",\n\"2019-12-30 00:00:00\",\n{\n            'v': 12.95,\n            'f': \"12.95\",\n        },\n\"Mooney, CarlaRonaldo vs. Messi vs. Beckham vs. Pel\\u00e9\\u00a0(Who's the Goat? Using Math to Crown the Champion)\"],\n [{\n            'v': 150,\n            'f': \"150\",\n        },\n\"Rub\\u00e9n El Rubius Gundersen: Star Spanish Gamer with 6 Billion+ Views\\u00a0(Top Video Gamers in the World)\",\n\"Hall, Kevin\",\n{\n            'v': 9781725346093,\n            'f': \"9781725346093\",\n        },\n\"Paperback\",\n\"Rosen Central\",\n\"2019-07-30 00:00:00\",\n{\n            'v': 11.75,\n            'f': \"11.75\",\n        },\n\"Hall, KevinRub\\u00e9n El Rubius Gundersen: Star Spanish Gamer with 6 Billion+ Views\\u00a0(Top Video Gamers in the World)\"],\n [{\n            'v': 151,\n            'f': \"151\",\n        },\n\"Running\",\n\"Sylvester, Natalia\",\n{\n            'v': 9780358124351,\n            'f': \"9780358124351\",\n        },\n\"Hardcover\",\n\"Clarion Books\",\n\"2020-07-14 00:00:00\",\n{\n            'v': 17.99,\n            'f': \"17.99\",\n        },\n\"Sylvester, NataliaRunning\"],\n [{\n            'v': 152,\n            'f': \"152\",\n        },\n\"Sanctuary\",\n\"Mendoza, Paola\",\n{\n            'v': 9781984815712,\n            'f': \"9781984815712\",\n        },\n\"Hardcover\",\n\"G.P. Putnam's Sons Books for Young Readers\",\n\"2020-09-01 00:00:00\",\n{\n            'v': 17.99,\n            'f': \"17.99\",\n        },\n\"Mendoza, PaolaSanctuary\"],\n [{\n            'v': 153,\n            'f': \"153\",\n        },\n\"Shadowshaper (the Shadowshaper Cypher, Book 1), 1\\u00a0(Shadowshaper Cypher\\u00a0#1)\",\n\"Older, Daniel Jos\\u00e9\",\n{\n            'v': 9780545591614,\n            'f': \"9780545591614\",\n        },\n\"Hardcover\",\n\"Arthur A. Levine Books\",\n\"2015-06-30 00:00:00\",\n{\n            'v': 17.99,\n            'f': \"17.99\",\n        },\n\"Older, Daniel Jos\\u00e9Shadowshaper (the Shadowshaper Cypher, Book 1), 1\\u00a0(Shadowshaper Cypher\\u00a0#1)\"],\n [{\n            'v': 154,\n            'f': \"154\",\n        },\n\"Shadowshaper Legacy (the Shadowshaper Cypher, Book 3), 3\\u00a0(Shadowshaper Cypher\\u00a0#3)\",\n\"Older, Daniel Jos\\u00e9\",\n{\n            'v': 9780545953009,\n            'f': \"9780545953009\",\n        },\n\"Hardcover\",\n\"Scholastic Inc.\",\n\"2020-01-07 00:00:00\",\n{\n            'v': 18.99,\n            'f': \"18.99\",\n        },\n\"Older, Daniel Jos\\u00e9Shadowshaper Legacy (the Shadowshaper Cypher, Book 3), 3\\u00a0(Shadowshaper Cypher\\u00a0#3)\"],\n [{\n            'v': 155,\n            'f': \"155\",\n        },\n\"She's Too Pretty to Burn\",\n\"Heard, Wendy\",\n{\n            'v': 9781250246752,\n            'f': \"9781250246752\",\n        },\n\"Hardcover\",\n\"Henry Holt & Company\",\n\"2021-03-30 00:00:00\",\n{\n            'v': 18.99,\n            'f': \"18.99\",\n        },\n\"Heard, WendyShe's Too Pretty to Burn\"],\n [{\n            'v': 156,\n            'f': \"156\",\n        },\n\"Sia Martinez and the Moonlit Beginning of Everything\",\n\"Gilliland, Raquel Vasquez\",\n{\n            'v': 9781534448636,\n            'f': \"9781534448636\",\n        },\n\"Hardcover\",\n\"Simon & Schuster Books for Young Readers\",\n\"2020-08-11 00:00:00\",\n{\n            'v': 18.99,\n            'f': \"18.99\",\n        },\n\"Gilliland, Raquel VasquezSia Martinez and the Moonlit Beginning of Everything\"],\n [{\n            'v': 157,\n            'f': \"157\",\n        },\n\"Sim\\u00f3n Bol\\u00edvar: Fighting for Latin American Liberation\\u00a0(Rebels with a Cause)\",\n\"Cruz, B\\u00e1rbara C\",\n{\n            'v': 9780766089525,\n            'f': \"9780766089525\",\n        },\n\"Library Binding\",\n\"Enslow Publishing\",\n\"2017-07-30 00:00:00\",\n{\n            'v': 37.27,\n            'f': \"37.27\",\n        },\n\"Cruz, B\\u00e1rbara CSim\\u00f3n Bol\\u00edvar: Fighting for Latin American Liberation\\u00a0(Rebels with a Cause)\"],\n [{\n            'v': 158,\n            'f': \"158\",\n        },\n\"Small Town Monsters\\u00a0(Underlined Paperbacks)\",\n\"Rodriguez Wallach, Diana\",\n{\n            'v': 9780593427514,\n            'f': \"9780593427514\",\n        },\n\"Paperback\",\n\"Underlined\",\n\"2021-09-07 00:00:00\",\n{\n            'v': 9.99,\n            'f': \"9.99\",\n        },\n\"Rodriguez Wallach, DianaSmall Town Monsters\\u00a0(Underlined Paperbacks)\"],\n [{\n            'v': 159,\n            'f': \"159\",\n        },\n\"Somewhere Between Bitter and Sweet\",\n\"Kemp, Laekan Zea\",\n{\n            'v': 9780316460279,\n            'f': \"9780316460279\",\n        },\n\"Hardcover\",\n\"Little, Brown Books for Young Readers\",\n\"2021-04-06 00:00:00\",\n{\n            'v': 17.99,\n            'f': \"17.99\",\n        },\n\"Kemp, Laekan ZeaSomewhere Between Bitter and Sweet\"],\n [{\n            'v': 160,\n            'f': \"160\",\n        },\n\"Sonia Sotomayor: A Biography\",\n\"Mendoza, Sylvia\",\n{\n            'v': 9781942186090,\n            'f': \"9781942186090\",\n        },\n\"Hardcover\",\n\"Zest Books (Tm)\",\n\"2017-01-01 00:00:00\",\n{\n            'v': 10.99,\n            'f': \"10.99\",\n        },\n\"Mendoza, SylviaSonia Sotomayor: A Biography\"],\n [{\n            'v': 161,\n            'f': \"161\",\n        },\n\"Spider-Gwen: Deal with the Devil\\u00a0- Street Smart\",\n\"Rodriguez, Robbi\",\n{\n            'v': 9781302931650,\n            'f': \"9781302931650\",\n        },\n\"Paperback\",\n\"Marvel\",\n\"2022-04-26 00:00:00\",\n{\n            'v': 13.99,\n            'f': \"13.99\",\n        },\n\"Rodriguez, RobbiSpider-Gwen: Deal with the Devil\\u00a0- Street Smart\"],\n [{\n            'v': 162,\n            'f': \"162\",\n        },\n\"Spider-Man: Miles Morales Vol. 4\",\n\"Bendis, Brian Michael\",\n{\n            'v': 9781302905989,\n            'f': \"9781302905989\",\n        },\n\"Paperback\",\n\"Marvel\",\n\"2018-07-17 00:00:00\",\n{\n            'v': 17.99,\n            'f': \"17.99\",\n        },\n\"Bendis, Brian MichaelSpider-Man: Miles Morales Vol. 4\"],\n [{\n            'v': 163,\n            'f': \"163\",\n        },\n\"Spider-Man: Miles Morales, Volume 2\\u00a0(Spider-Man: Miles Morales)\",\n\"Bendis, Brian Michael\",\n{\n            'v': 9780785199625,\n            'f': \"9780785199625\",\n        },\n\"Paperback\",\n\"Marvel\",\n\"2017-04-11 00:00:00\",\n{\n            'v': 17.99,\n            'f': \"17.99\",\n        },\n\"Bendis, Brian MichaelSpider-Man: Miles Morales, Volume 2\\u00a0(Spider-Man: Miles Morales)\"],\n [{\n            'v': 164,\n            'f': \"164\",\n        },\n\"Spider-Man: Spider-Verse - Miles Morales\\u00a0(Into the Spider-Verse: Miles Morales\\u00a0#1)\",\n\"Bendis, Brian Michael\",\n{\n            'v': 9781302914165,\n            'f': \"9781302914165\",\n        },\n\"Paperback\",\n\"Marvel\",\n\"2018-11-13 00:00:00\",\n{\n            'v': 9.99,\n            'f': \"9.99\",\n        },\n\"Bendis, Brian MichaelSpider-Man: Spider-Verse - Miles Morales\\u00a0(Into the Spider-Verse: Miles Morales\\u00a0#1)\"],\n [{\n            'v': 165,\n            'f': \"165\",\n        },\n\"Spider-Men: Worlds Collide\",\n\"Bendis, Brian Michael\",\n{\n            'v': 9781302931971,\n            'f': \"9781302931971\",\n        },\n\"Paperback\",\n\"Marvel\",\n\"2021-11-30 00:00:00\",\n{\n            'v': 29.99,\n            'f': \"29.99\",\n        },\n\"Bendis, Brian MichaelSpider-Men: Worlds Collide\"],\n [{\n            'v': 166,\n            'f': \"166\",\n        },\n\"Spin Me Right Round\\u00a0- Street Smart\",\n\"Valdes, David\",\n{\n            'v': 9781547607105,\n            'f': \"9781547607105\",\n        },\n\"Hardcover\",\n\"Bloomsbury YA\",\n\"2022-01-04 00:00:00\",\n{\n            'v': 17.99,\n            'f': \"17.99\",\n        },\n\"Valdes, DavidSpin Me Right Round\\u00a0- Street Smart\"],\n [{\n            'v': 167,\n            'f': \"167\",\n        },\n\"Stage Dreams\",\n\"Gillman, Melanie\",\n{\n            'v': 9781541572843,\n            'f': \"9781541572843\",\n        },\n\"Paperback\",\n\"Graphic Universe (Tm)\",\n\"2019-09-03 00:00:00\",\n{\n            'v': 10.99,\n            'f': \"10.99\",\n        },\n\"Gillman, MelanieStage Dreams\"],\n [{\n            'v': 168,\n            'f': \"168\",\n        },\n\"Street Fighter Volume 3: Fighter's Destiny\\u00a0(Street Fighter (Capcom)\\u00a0#03)\",\n\"Siu-Chong, Ken\",\n{\n            'v': 9780973865288,\n            'f': \"9780973865288\",\n        },\n\"Paperback\",\n\"Udon Entertainment\",\n\"2007-03-27 00:00:00\",\n{\n            'v': 13.99,\n            'f': \"13.99\",\n        },\n\"Siu-Chong, KenStreet Fighter Volume 3: Fighter's Destiny\\u00a0(Street Fighter (Capcom)\\u00a0#03)\"],\n [{\n            'v': 169,\n            'f': \"169\",\n        },\n\"Summer in the City of Roses\",\n\"Keil, Michelle Ruiz\",\n{\n            'v': 9781641291712,\n            'f': \"9781641291712\",\n        },\n\"Hardcover\",\n\"Soho Teen\",\n\"2021-07-06 00:00:00\",\n{\n            'v': 18.99,\n            'f': \"18.99\",\n        },\n\"Keil, Michelle RuizSummer in the City of Roses\"],\n [{\n            'v': 170,\n            'f': \"170\",\n        },\n\"Suncatcher: (A Graphic Novel)\",\n\"Pimienta, Jose\",\n{\n            'v': 9780593124826,\n            'f': \"9780593124826\",\n        },\n\"Hardcover\",\n\"Random House Graphic\",\n\"2020-05-19 00:00:00\",\n{\n            'v': 24.99,\n            'f': \"24.99\",\n        },\n\"Pimienta, JoseSuncatcher: (A Graphic Novel)\"],\n [{\n            'v': 171,\n            'f': \"171\",\n        },\n\"The Avant-Guards Vol. 1\\u00a0(The Avant-Guards)\",\n\"Usdin, Carly\",\n{\n            'v': 9781684153671,\n            'f': \"9781684153671\",\n        },\n\"Paperback\",\n\"Boom Box\",\n\"2019-09-03 00:00:00\",\n{\n            'v': 14.99,\n            'f': \"14.99\",\n        },\n\"Usdin, CarlyThe Avant-Guards Vol. 1\\u00a0(The Avant-Guards)\"],\n [{\n            'v': 172,\n            'f': \"172\",\n        },\n\"The Buried\",\n\"Grey, Melissa\",\n{\n            'v': 9781338629309,\n            'f': \"9781338629309\",\n        },\n\"Hardcover\",\n\"Scholastic Press\",\n\"2021-09-07 00:00:00\",\n{\n            'v': 18.99,\n            'f': \"18.99\",\n        },\n\"Grey, MelissaThe Buried\"],\n [{\n            'v': 173,\n            'f': \"173\",\n        },\n\"The Courage of Elfina\",\n\"Jacob, Andr\\u00e9\",\n{\n            'v': 9781459414198,\n            'f': \"9781459414198\",\n        },\n\"Library Binding\",\n\"Lorimer Children & Teens\",\n\"2019-03-05 00:00:00\",\n{\n            'v': 24.95,\n            'f': \"24.95\",\n        },\n\"Jacob, Andr\\u00e9The Courage of Elfina\"],\n [{\n            'v': 174,\n            'f': \"174\",\n        },\n\"The Destruction of the Inca Civilization\\u00a0(Bearing Witness: Genocide and Ethnic Cleansing)\",\n\"Burling, Alexis\",\n{\n            'v': 9781508178699,\n            'f': \"9781508178699\",\n        },\n\"Paperback\",\n\"Rosen Young Adult\",\n\"2017-12-30 00:00:00\",\n{\n            'v': 12.95,\n            'f': \"12.95\",\n        },\n\"Burling, AlexisThe Destruction of the Inca Civilization\\u00a0(Bearing Witness: Genocide and Ethnic Cleansing)\"],\n [{\n            'v': 175,\n            'f': \"175\",\n        },\n\"The Education of Margot Sanchez\",\n\"Rivera, Lilliam\",\n{\n            'v': 9781481472111,\n            'f': \"9781481472111\",\n        },\n\"Hardcover\",\n\"Simon & Schuster Books for Young Readers\",\n\"2017-02-21 00:00:00\",\n{\n            'v': 19.99,\n            'f': \"19.99\",\n        },\n\"Rivera, LilliamThe Education of Margot Sanchez\"],\n [{\n            'v': 176,\n            'f': \"176\",\n        },\n\"The Ghost Tracks\",\n\"Hurtado, Celso\",\n{\n            'v': 9781950301072,\n            'f': \"9781950301072\",\n        },\n\"Paperback\",\n\"Inkshares\",\n\"2021-11-02 00:00:00\",\n{\n            'v': 15.99,\n            'f': \"15.99\",\n        },\n\"Hurtado, CelsoThe Ghost Tracks\"],\n [{\n            'v': 177,\n            'f': \"177\",\n        },\n\"The Great Big One\",\n\"Geiger, J C\",\n{\n            'v': 9780759555396,\n            'f': \"9780759555396\",\n        },\n\"Hardcover\",\n\"Little, Brown Books for Young Readers\",\n\"2021-07-13 00:00:00\",\n{\n            'v': 17.99,\n            'f': \"17.99\",\n        },\n\"Geiger, J CThe Great Big One\"],\n [{\n            'v': 178,\n            'f': \"178\",\n        },\n\"The Guatemalan Genocide of the Maya People\\u00a0(Bearing Witness: Genocide and Ethnic Cleansing)\",\n\"Torres, John A\",\n{\n            'v': 9781508178705,\n            'f': \"9781508178705\",\n        },\n\"Paperback\",\n\"Rosen Young Adult\",\n\"2017-12-30 00:00:00\",\n{\n            'v': 12.95,\n            'f': \"12.95\",\n        },\n\"Torres, John AThe Guatemalan Genocide of the Maya People\\u00a0(Bearing Witness: Genocide and Ethnic Cleansing)\"],\n [{\n            'v': 179,\n            'f': \"179\",\n        },\n\"The Hazards of Love Vol. 1, 1: Bright World\",\n\"Stanley, Stan\",\n{\n            'v': 9781620108574,\n            'f': \"9781620108574\",\n        },\n\"Paperback\",\n\"Oni Press\",\n\"2021-03-30 00:00:00\",\n{\n            'v': 19.99,\n            'f': \"19.99\",\n        },\n\"Stanley, StanThe Hazards of Love Vol. 1, 1: Bright World\"],\n [{\n            'v': 180,\n            'f': \"180\",\n        },\n\"The Immortal Boy\\u00a0(English, Spanish)\",\n\"Monta\\u00f1a Ib\\u00e1\\u00f1ez, Francisco\",\n{\n            'v': 9781646140442,\n            'f': \"9781646140442\",\n        },\n\"Hardcover\",\n\"Levine Querido\",\n\"2021-03-23 00:00:00\",\n{\n            'v': 17.99,\n            'f': \"17.99\",\n        },\n\"Monta\\u00f1a Ib\\u00e1\\u00f1ez, FranciscoThe Immortal Boy\\u00a0(English, Spanish)\"],\n [{\n            'v': 181,\n            'f': \"181\",\n        },\n\"The Impact of Science, Technology, and Economics in Latin America\\u00a0(Global Effects)\",\n\"Kogler, Peter\",\n{\n            'v': 9781725322301,\n            'f': \"9781725322301\",\n        },\n\"Library Binding\",\n\"PowerKids Press\",\n\"2020-12-30 00:00:00\",\n{\n            'v': 26.25,\n            'f': \"26.25\",\n        },\n\"Kogler, PeterThe Impact of Science, Technology, and Economics in Latin America\\u00a0(Global Effects)\"],\n [{\n            'v': 182,\n            'f': \"182\",\n        },\n\"The Inexplicable Logic of My Life\",\n\"Saenz, Benjamin Alire\",\n{\n            'v': 9780544586505,\n            'f': \"9780544586505\",\n        },\n\"Hardcover\",\n\"Clarion Books\",\n\"2017-03-07 00:00:00\",\n{\n            'v': 17.99,\n            'f': \"17.99\",\n        },\n\"Saenz, Benjamin AlireThe Inexplicable Logic of My Life\"],\n [{\n            'v': 183,\n            'f': \"183\",\n        },\n\"The Jade Bones\\u00a0(Age of the Seventh Sun\\u00a0#2)\",\n\"Forbes, Lani\",\n{\n            'v': 9781982546106,\n            'f': \"9781982546106\",\n        },\n\"Hardcover\",\n\"Blackstone Publishing\",\n\"2021-02-16 00:00:00\",\n{\n            'v': 18.99,\n            'f': \"18.99\",\n        },\n\"Forbes, LaniThe Jade Bones\\u00a0(Age of the Seventh Sun\\u00a0#2)\"],\n [{\n            'v': 184,\n            'f': \"184\",\n        },\n\"The Liar's Guide to the Night Sky\",\n\"Shrum, Brianna R\",\n{\n            'v': 9781510757806,\n            'f': \"9781510757806\",\n        },\n\"Paperback\",\n\"Sky Pony\",\n\"2020-11-03 00:00:00\",\n{\n            'v': 8.99,\n            'f': \"8.99\",\n        },\n\"Shrum, Brianna RThe Liar's Guide to the Night Sky\"],\n [{\n            'v': 185,\n            'f': \"185\",\n        },\n\"The Library of Lost Things (Original)\",\n\"Namey, Laura Taylor\",\n{\n            'v': 9781335928252,\n            'f': \"9781335928252\",\n        },\n\"Hardcover\",\n\"Inkyard Press\",\n\"2019-10-08 00:00:00\",\n{\n            'v': 18.99,\n            'f': \"18.99\",\n        },\n\"Namey, Laura TaylorThe Library of Lost Things (Original)\"],\n [{\n            'v': 186,\n            'f': \"186\",\n        },\n\"The Lighthouse\",\n\"Roca, Paco\",\n{\n            'v': 9781681120560,\n            'f': \"9781681120560\",\n        },\n\"Hardcover\",\n\"Nantier Beall Minoustchine Publishing\",\n\"2017-02-01 00:00:00\",\n{\n            'v': 15.99,\n            'f': \"15.99\",\n        },\n\"Roca, PacoThe Lighthouse\"],\n [{\n            'v': 187,\n            'f': \"187\",\n        },\n\"The Mirror Season\",\n\"McLemore, Anna-Marie\",\n{\n            'v': 9781250624123,\n            'f': \"9781250624123\",\n        },\n\"Hardcover\",\n\"Feiwel & Friends\",\n\"2021-03-16 00:00:00\",\n{\n            'v': 18.99,\n            'f': \"18.99\",\n        },\n\"McLemore, Anna-MarieThe Mirror Season\"],\n [{\n            'v': 188,\n            'f': \"188\",\n        },\n\"The New David Espinoza\",\n\"Aceves, Fred\",\n{\n            'v': 9780062489883,\n            'f': \"9780062489883\",\n        },\n\"Hardcover\",\n\"Harperteen\",\n\"2020-02-11 00:00:00\",\n{\n            'v': 17.99,\n            'f': \"17.99\",\n        },\n\"Aceves, FredThe New David Espinoza\"],\n [{\n            'v': 189,\n            'f': \"189\",\n        },\n\"The Nowhere Girls\",\n\"Reed, Amy\",\n{\n            'v': 9781481481731,\n            'f': \"9781481481731\",\n        },\n\"Hardcover\",\n\"Simon & Schuster Books for Young Readers\",\n\"2017-10-10 00:00:00\",\n{\n            'v': 19.99,\n            'f': \"19.99\",\n        },\n\"Reed, AmyThe Nowhere Girls\"],\n [{\n            'v': 190,\n            'f': \"190\",\n        },\n\"The Obsidian Butterfly\\u00a0(Age of the Seventh Sun\\u00a0#3)\",\n\"Forbes, Lani\",\n{\n            'v': 9781982546113,\n            'f': \"9781982546113\",\n        },\n\"Hardcover\",\n\"Blackstone Publishing\",\n\"2022-02-15 00:00:00\",\n{\n            'v': 20.99,\n            'f': \"20.99\",\n        },\n\"Forbes, LaniThe Obsidian Butterfly\\u00a0(Age of the Seventh Sun\\u00a0#3)\"],\n [{\n            'v': 191,\n            'f': \"191\",\n        },\n\"The Poet X\",\n\"Acevedo, Elizabeth\",\n{\n            'v': 9780062662804,\n            'f': \"9780062662804\",\n        },\n\"Hardcover\",\n\"Quill Tree Books\",\n\"2018-03-06 00:00:00\",\n{\n            'v': 18.99,\n            'f': \"18.99\",\n        },\n\"Acevedo, ElizabethThe Poet X\"],\n [{\n            'v': 192,\n            'f': \"192\",\n        },\n\"The Right Side of Reckless (Original)\",\n\"Grandison, Whitney D\",\n{\n            'v': 9781335402486,\n            'f': \"9781335402486\",\n        },\n\"Hardcover\",\n\"Inkyard Press\",\n\"2021-07-13 00:00:00\",\n{\n            'v': 18.99,\n            'f': \"18.99\",\n        },\n\"Grandison, Whitney DThe Right Side of Reckless (Original)\"],\n [{\n            'v': 193,\n            'f': \"193\",\n        },\n\"The Seventh Sun\\u00a0(The Age of the Seventh Sun Series, 1)\",\n\"Forbes, Lani\",\n{\n            'v': 9781982546090,\n            'f': \"9781982546090\",\n        },\n\"Hardcover\",\n\"Blackstone Publishing\",\n\"2020-02-18 00:00:00\",\n{\n            'v': 18.99,\n            'f': \"18.99\",\n        },\n\"Forbes, LaniThe Seventh Sun\\u00a0(The Age of the Seventh Sun Series, 1)\"],\n [{\n            'v': 194,\n            'f': \"194\",\n        },\n\"The Sky Above Us\",\n\"Lund, Natalie\",\n{\n            'v': 9780525518037,\n            'f': \"9780525518037\",\n        },\n\"Hardcover\",\n\"Philomel Books\",\n\"2021-04-13 00:00:00\",\n{\n            'v': 18.99,\n            'f': \"18.99\",\n        },\n\"Lund, NatalieThe Sky Above Us\"],\n [{\n            'v': 195,\n            'f': \"195\",\n        },\n\"The Truth Is\",\n\"Ramos, Nonieqa\",\n{\n            'v': 9781728423081,\n            'f': \"9781728423081\",\n        },\n\"Paperback\",\n\"Carolrhoda Lab (R)\",\n\"2021-08-03 00:00:00\",\n{\n            'v': 9.99,\n            'f': \"9.99\",\n        },\n\"Ramos, NonieqaThe Truth Is\"],\n [{\n            'v': 196,\n            'f': \"196\",\n        },\n\"The Turning Pointe\\u00a0- Street Smart\",\n\"Torres, Vanessa L\",\n{\n            'v': 9780593426135,\n            'f': \"9780593426135\",\n        },\n\"Hardcover\",\n\"Alfred A. Knopf Books for Young Readers\",\n\"2022-02-22 00:00:00\",\n{\n            'v': 18.99,\n            'f': \"18.99\",\n        },\n\"Torres, Vanessa LThe Turning Pointe\\u00a0- Street Smart\"],\n [{\n            'v': 197,\n            'f': \"197\",\n        },\n\"The Witch Owl Parliament\\u00a0(Clockwork Curandera)\",\n\"Bowles, David\",\n{\n            'v': 9781620145920,\n            'f': \"9781620145920\",\n        },\n\"Paperback\",\n\"Tu Books\",\n\"2021-10-19 00:00:00\",\n{\n            'v': 17.95,\n            'f': \"17.95\",\n        },\n\"Bowles, DavidThe Witch Owl Parliament\\u00a0(Clockwork Curandera)\"],\n [{\n            'v': 198,\n            'f': \"198\",\n        },\n\"The Zabime Sisters\",\n\"Aristophane\",\n{\n            'v': 9781596436381,\n            'f': \"9781596436381\",\n        },\n\"Paperback\",\n\"St. Martin's Press\",\n\"2010-10-26 00:00:00\",\n{\n            'v': 17.99,\n            'f': \"17.99\",\n        },\n\"AristophaneThe Zabime Sisters\"],\n [{\n            'v': 199,\n            'f': \"199\",\n        },\n\"They Both Die at the End\",\n\"Silvera, Adam\",\n{\n            'v': 9780062457790,\n            'f': \"9780062457790\",\n        },\n\"Hardcover\",\n\"Quill Tree Books\",\n\"2017-09-05 00:00:00\",\n{\n            'v': 18.99,\n            'f': \"18.99\",\n        },\n\"Silvera, AdamThey Both Die at the End\"],\n [{\n            'v': 200,\n            'f': \"200\",\n        },\n\"Thirty Talks Weird Love\\u00a0Easy Reads\",\n\"Narv\\u00e1ez Varela, Alessandra\",\n{\n            'v': 9781947627482,\n            'f': \"9781947627482\",\n        },\n\"Hardcover\",\n\"Cinco Puntos Press\",\n\"2021-10-12 00:00:00\",\n{\n            'v': 18.95,\n            'f': \"18.95\",\n        },\n\"Narv\\u00e1ez Varela, AlessandraThirty Talks Weird Love\\u00a0Easy Reads\"],\n [{\n            'v': 201,\n            'f': \"201\",\n        },\n\"This Is All Your Fault\",\n\"Safi, Aminah Mae\",\n{\n            'v': 9781250242341,\n            'f': \"9781250242341\",\n        },\n\"Hardcover\",\n\"Feiwel & Friends\",\n\"2020-10-13 00:00:00\",\n{\n            'v': 17.99,\n            'f': \"17.99\",\n        },\n\"Safi, Aminah MaeThis Is All Your Fault\"],\n [{\n            'v': 202,\n            'f': \"202\",\n        },\n\"This Is How We Fly\",\n\"Meriano, Anna\",\n{\n            'v': 9780593116876,\n            'f': \"9780593116876\",\n        },\n\"Hardcover\",\n\"Philomel Books\",\n\"2020-12-15 00:00:00\",\n{\n            'v': 18.99,\n            'f': \"18.99\",\n        },\n\"Meriano, AnnaThis Is How We Fly\"],\n [{\n            'v': 203,\n            'f': \"203\",\n        },\n\"Tigers, Not Daughters\",\n\"Mabry, Samantha\",\n{\n            'v': 9781616208967,\n            'f': \"9781616208967\",\n        },\n\"Hardcover\",\n\"Algonquin Young Readers\",\n\"2020-03-24 00:00:00\",\n{\n            'v': 17.95,\n            'f': \"17.95\",\n        },\n\"Mabry, SamanthaTigers, Not Daughters\"],\n [{\n            'v': 204,\n            'f': \"204\",\n        },\n\"Trailblazers: Lin-Manuel Miranda: Raising Theater to New Heights\\u00a0(Trailblazers)\",\n\"Scaletta, Kurtis\",\n{\n            'v': 9780593124468,\n            'f': \"9780593124468\",\n        },\n\"Paperback\",\n\"Random House Books for Young Readers\",\n\"2021-01-05 00:00:00\",\n{\n            'v': 7.99,\n            'f': \"7.99\",\n        },\n\"Scaletta, KurtisTrailblazers: Lin-Manuel Miranda: Raising Theater to New Heights\\u00a0(Trailblazers)\"],\n [{\n            'v': 205,\n            'f': \"205\",\n        },\n\"Trish Trash #1: Rollergirl of Mars\\u00a0(Trish Trash Graphic Novels\\u00a0#1)\",\n\"Abel, Jessica\",\n{\n            'v': 9781629916149,\n            'f': \"9781629916149\",\n        },\n\"Hardcover\",\n\"Super Genius\",\n\"2016-11-15 00:00:00\",\n{\n            'v': 14.99,\n            'f': \"14.99\",\n        },\n\"Abel, JessicaTrish Trash #1: Rollergirl of Mars\\u00a0(Trish Trash Graphic Novels\\u00a0#1)\"],\n [{\n            'v': 206,\n            'f': \"206\",\n        },\n\"Trish Trash #2\\u00a0(Trish Trash Graphic Novels\\u00a0#2)\",\n\"Abel, Jessica\",\n{\n            'v': 9781629916392,\n            'f': \"9781629916392\",\n        },\n\"Hardcover\",\n\"Super Genius\",\n\"2017-08-15 00:00:00\",\n{\n            'v': 14.99,\n            'f': \"14.99\",\n        },\n\"Abel, JessicaTrish Trash #2\\u00a0(Trish Trash Graphic Novels\\u00a0#2)\"],\n [{\n            'v': 207,\n            'f': \"207\",\n        },\n\"Trish Trash #3\\u00a0(Trish Trash Graphic Novels\\u00a0#3)\",\n\"Abel, Jessica\",\n{\n            'v': 9781545800164,\n            'f': \"9781545800164\",\n        },\n\"Hardcover\",\n\"Super Genius\",\n\"2018-12-04 00:00:00\",\n{\n            'v': 15.99,\n            'f': \"15.99\",\n        },\n\"Abel, JessicaTrish Trash #3\\u00a0(Trish Trash Graphic Novels\\u00a0#3)\"],\n [{\n            'v': 208,\n            'f': \"208\",\n        },\n\"Undocumented: A Worker's Fight\",\n\"Tonatiuh, Duncan\",\n{\n            'v': 9781419728549,\n            'f': \"9781419728549\",\n        },\n\"Hardcover\",\n\"Abrams Comicarts\",\n\"2018-08-07 00:00:00\",\n{\n            'v': 19.99,\n            'f': \"19.99\",\n        },\n\"Tonatiuh, DuncanUndocumented: A Worker's Fight\"],\n [{\n            'v': 209,\n            'f': \"209\",\n        },\n\"Unearthed: A Jessica Cruz Story\",\n\"Rivera, Lilliam\",\n{\n            'v': 9781779500519,\n            'f': \"9781779500519\",\n        },\n\"Paperback\",\n\"DC Comics\",\n\"2021-09-14 00:00:00\",\n{\n            'v': 16.99,\n            'f': \"16.99\",\n        },\n\"Rivera, LilliamUnearthed: A Jessica Cruz Story\"],\n [{\n            'v': 210,\n            'f': \"210\",\n        },\n\"Wayward Witch\\u00a0(Brooklyn Brujas\\u00a0#3)\",\n\"C\\u00f3rdova, Zoraida\",\n{\n            'v': 9781492650683,\n            'f': \"9781492650683\",\n        },\n\"Hardcover\",\n\"Sourcebooks Fire\",\n\"2020-09-01 00:00:00\",\n{\n            'v': 17.99,\n            'f': \"17.99\",\n        },\n\"C\\u00f3rdova, ZoraidaWayward Witch\\u00a0(Brooklyn Brujas\\u00a0#3)\"],\n [{\n            'v': 211,\n            'f': \"211\",\n        },\n\"We Are Not from Here\",\n\"Torres Sanchez, Jenny\",\n{\n            'v': 9781984812261,\n            'f': \"9781984812261\",\n        },\n\"Hardcover\",\n\"Philomel Books\",\n\"2020-05-19 00:00:00\",\n{\n            'v': 18.99,\n            'f': \"18.99\",\n        },\n\"Torres Sanchez, JennyWe Are Not from Here\"],\n [{\n            'v': 212,\n            'f': \"212\",\n        },\n\"We Are the Ashes, We Are the Fire\",\n\"McCullough, Joy\",\n{\n            'v': 9780525556053,\n            'f': \"9780525556053\",\n        },\n\"Hardcover\",\n\"Dutton Books for Young Readers\",\n\"2021-02-09 00:00:00\",\n{\n            'v': 18.99,\n            'f': \"18.99\",\n        },\n\"McCullough, JoyWe Are the Ashes, We Are the Fire\"],\n [{\n            'v': 213,\n            'f': \"213\",\n        },\n\"We Light Up the Sky\",\n\"Rivera, Lilliam\",\n{\n            'v': 9781547603763,\n            'f': \"9781547603763\",\n        },\n\"Hardcover\",\n\"Bloomsbury YA\",\n\"2021-10-26 00:00:00\",\n{\n            'v': 17.99,\n            'f': \"17.99\",\n        },\n\"Rivera, LilliamWe Light Up the Sky\"],\n [{\n            'v': 214,\n            'f': \"214\",\n        },\n\"We Set the Dark on Fire\",\n\"Mejia, Tehlor Kay\",\n{\n            'v': 9780062691316,\n            'f': \"9780062691316\",\n        },\n\"Hardcover\",\n\"Katherine Tegen Books\",\n\"2019-02-26 00:00:00\",\n{\n            'v': 17.99,\n            'f': \"17.99\",\n        },\n\"Mejia, Tehlor KayWe Set the Dark on Fire\"],\n [{\n            'v': 215,\n            'f': \"215\",\n        },\n\"We Unleash the Merciless Storm\",\n\"Mejia, Tehlor Kay\",\n{\n            'v': 9780062691347,\n            'f': \"9780062691347\",\n        },\n\"Hardcover\",\n\"Katherine Tegen Books\",\n\"2020-02-25 00:00:00\",\n{\n            'v': 17.99,\n            'f': \"17.99\",\n        },\n\"Mejia, Tehlor KayWe Unleash the Merciless Storm\"],\n [{\n            'v': 216,\n            'f': \"216\",\n        },\n\"We Were Here\",\n\"de la Pe\\u00f1a, Matt\",\n{\n            'v': 9780385736701,\n            'f': \"9780385736701\",\n        },\n\"Paperback\",\n\"Ember\",\n\"2010-09-14 00:00:00\",\n{\n            'v': 9.99,\n            'f': \"9.99\",\n        },\n\"de la Pe\\u00f1a, MattWe Were Here\"],\n [{\n            'v': 217,\n            'f': \"217\",\n        },\n\"Welcome to Wanderland\",\n\"Ball, Jackie\",\n{\n            'v': 9781684154722,\n            'f': \"9781684154722\",\n        },\n\"Paperback\",\n\"Boom Box\",\n\"2019-09-24 00:00:00\",\n{\n            'v': 14.99,\n            'f': \"14.99\",\n        },\n\"Ball, JackieWelcome to Wanderland\"],\n [{\n            'v': 218,\n            'f': \"218\",\n        },\n\"What If It's Us\",\n\"Albertalli, Becky\",\n{\n            'v': 9780062795250,\n            'f': \"9780062795250\",\n        },\n\"Hardcover\",\n\"Harperteen\",\n\"2018-10-09 00:00:00\",\n{\n            'v': 18.99,\n            'f': \"18.99\",\n        },\n\"Albertalli, BeckyWhat If It's Us\"],\n [{\n            'v': 219,\n            'f': \"219\",\n        },\n\"When Villains Rise, 3\\u00a0(Market of Monsters\\u00a0#3)\",\n\"Schaeffer, Rebecca\",\n{\n            'v': 9781328863560,\n            'f': \"9781328863560\",\n        },\n\"Hardcover\",\n\"Clarion Books\",\n\"2020-09-08 00:00:00\",\n{\n            'v': 17.99,\n            'f': \"17.99\",\n        },\n\"Schaeffer, RebeccaWhen Villains Rise, 3\\u00a0(Market of Monsters\\u00a0#3)\"],\n [{\n            'v': 220,\n            'f': \"220\",\n        },\n\"When We Make It\",\n\"Velasquez, Elisabet\",\n{\n            'v': 9780593324486,\n            'f': \"9780593324486\",\n        },\n\"Hardcover\",\n\"Dial Books\",\n\"2021-09-21 00:00:00\",\n{\n            'v': 19.99,\n            'f': \"19.99\",\n        },\n\"Velasquez, ElisabetWhen We Make It\"],\n [{\n            'v': 221,\n            'f': \"221\",\n        },\n\"Where I Belong\",\n\"Mickelson, Marcia Argueta\",\n{\n            'v': 9781541597976,\n            'f': \"9781541597976\",\n        },\n\"Hardcover\",\n\"Carolrhoda Lab (R)\",\n\"2021-09-07 00:00:00\",\n{\n            'v': 18.99,\n            'f': \"18.99\",\n        },\n\"Mickelson, Marcia ArguetaWhere I Belong\"],\n [{\n            'v': 222,\n            'f': \"222\",\n        },\n\"Where We Go from Here\",\n\"Rocha, Lucas\",\n{\n            'v': 9781338556247,\n            'f': \"9781338556247\",\n        },\n\"Hardcover\",\n\"Push\",\n\"2020-06-02 00:00:00\",\n{\n            'v': 18.99,\n            'f': \"18.99\",\n        },\n\"Rocha, LucasWhere We Go from Here\"],\n [{\n            'v': 223,\n            'f': \"223\",\n        },\n\"Whistle: A New Gotham City Hero\",\n\"Lockhart, E\",\n{\n            'v': 9781401293222,\n            'f': \"9781401293222\",\n        },\n\"Paperback\",\n\"DC Comics\",\n\"2021-09-07 00:00:00\",\n{\n            'v': 16.99,\n            'f': \"16.99\",\n        },\n\"Lockhart, EWhistle: A New Gotham City Hero\"],\n [{\n            'v': 224,\n            'f': \"224\",\n        },\n\"With the Fire on High\",\n\"Acevedo, Elizabeth\",\n{\n            'v': 9780062662835,\n            'f': \"9780062662835\",\n        },\n\"Hardcover\",\n\"Quill Tree Books\",\n\"2019-05-07 00:00:00\",\n{\n            'v': 17.99,\n            'f': \"17.99\",\n        },\n\"Acevedo, ElizabethWith the Fire on High\"],\n [{\n            'v': 225,\n            'f': \"225\",\n        },\n\"Woven in Moonlight\",\n\"Iba\\u00f1ez, Isabel\",\n{\n            'v': 9781624148019,\n            'f': \"9781624148019\",\n        },\n\"Hardcover\",\n\"Page Street Kids\",\n\"2020-01-07 00:00:00\",\n{\n            'v': 18.99,\n            'f': \"18.99\",\n        },\n\"Iba\\u00f1ez, IsabelWoven in Moonlight\"],\n [{\n            'v': 226,\n            'f': \"226\",\n        },\n\"Written in Starlight\",\n\"Iba\\u00f1ez, Isabel\",\n{\n            'v': 9781645671329,\n            'f': \"9781645671329\",\n        },\n\"Hardcover\",\n\"Page Street Kids\",\n\"2021-01-26 00:00:00\",\n{\n            'v': 18.99,\n            'f': \"18.99\",\n        },\n\"Iba\\u00f1ez, IsabelWritten in Starlight\"],\n [{\n            'v': 227,\n            'f': \"227\",\n        },\n\"Yaqui Delgado Wants to Kick Your Ass\",\n\"Medina, Meg\",\n{\n            'v': 9780763671648,\n            'f': \"9780763671648\",\n        },\n\"Paperback\",\n\"Candlewick Press (MA)\",\n\"2014-08-26 00:00:00\",\n{\n            'v': 8.99,\n            'f': \"8.99\",\n        },\n\"Medina, MegYaqui Delgado Wants to Kick Your Ass\"],\n [{\n            'v': 228,\n            'f': \"228\",\n        },\n\"Your Heart, My Sky: Love in a Time of Hunger\",\n\"Engle, Margarita\",\n{\n            'v': 9781534464964,\n            'f': \"9781534464964\",\n        },\n\"Hardcover\",\n\"Atheneum Books for Young Readers\",\n\"2021-03-23 00:00:00\",\n{\n            'v': 18.99,\n            'f': \"18.99\",\n        },\n\"Engle, MargaritaYour Heart, My Sky: Love in a Time of Hunger\"]],\n        columns: [[\"number\", \"index\"], [\"string\", \"title\"], [\"string\", \"author\"], [\"number\", \"isbn\"], [\"string\", \"format\"], [\"string\", \"publisher\"], [\"string\", \"pubdate\"], [\"number\", \"unnamed: 6\"], [\"string\", \"BooklistMatch\"]],\n        columnOptions: [{\"width\": \"1px\", \"className\": \"index_column\"}],\n        rowsPerPage: 25,\n        helpUrl: \"https://colab.research.google.com/notebooks/data_table.ipynb\",\n        suppressOutputScrolling: true,\n        minimumWidth: undefined,\n      });\n    ",
            "text/html": [
              "<div>\n",
              "<style scoped>\n",
              "    .dataframe tbody tr th:only-of-type {\n",
              "        vertical-align: middle;\n",
              "    }\n",
              "\n",
              "    .dataframe tbody tr th {\n",
              "        vertical-align: top;\n",
              "    }\n",
              "\n",
              "    .dataframe thead th {\n",
              "        text-align: right;\n",
              "    }\n",
              "</style>\n",
              "<table border=\"1\" class=\"dataframe\">\n",
              "  <thead>\n",
              "    <tr style=\"text-align: right;\">\n",
              "      <th></th>\n",
              "      <th>title</th>\n",
              "      <th>author</th>\n",
              "      <th>isbn</th>\n",
              "      <th>format</th>\n",
              "      <th>publisher</th>\n",
              "      <th>pubdate</th>\n",
              "      <th>unnamed: 6</th>\n",
              "      <th>BooklistMatch</th>\n",
              "    </tr>\n",
              "  </thead>\n",
              "  <tbody>\n",
              "    <tr>\n",
              "      <th>0</th>\n",
              "      <td>¿sabes Quién Es Zapata? / Do You Know Who Zapa...</td>\n",
              "      <td>Leyva, Amaranta</td>\n",
              "      <td>9786073183574</td>\n",
              "      <td>Paperback</td>\n",
              "      <td>Alfaguara Infantil</td>\n",
              "      <td>2020-06-23</td>\n",
              "      <td>12.95</td>\n",
              "      <td>Leyva, Amaranta¿sabes Quién Es Zapata? / Do Yo...</td>\n",
              "    </tr>\n",
              "    <tr>\n",
              "      <th>1</th>\n",
              "      <td>21: The Story of Roberto Clemente</td>\n",
              "      <td>Santiago, Wilfred</td>\n",
              "      <td>9781606997758</td>\n",
              "      <td>Paperback</td>\n",
              "      <td>Fantagraphics Books</td>\n",
              "      <td>2014-09-21</td>\n",
              "      <td>19.99</td>\n",
              "      <td>Santiago, Wilfred21: The Story of Roberto Clem...</td>\n",
              "    </tr>\n",
              "    <tr>\n",
              "      <th>2</th>\n",
              "      <td>A Cuban Girl's Guide to Tea and Tomorrow</td>\n",
              "      <td>Namey, Laura Taylor</td>\n",
              "      <td>9781534471245</td>\n",
              "      <td>Hardcover</td>\n",
              "      <td>Atheneum Books for Young Readers</td>\n",
              "      <td>2020-11-10</td>\n",
              "      <td>18.99</td>\n",
              "      <td>Namey, Laura TaylorA Cuban Girl's Guide to Tea...</td>\n",
              "    </tr>\n",
              "    <tr>\n",
              "      <th>3</th>\n",
              "      <td>Absolute Carnage: Miles Morales</td>\n",
              "      <td>Ahmed, Saladin</td>\n",
              "      <td>9781302920142</td>\n",
              "      <td>Paperback</td>\n",
              "      <td>Marvel</td>\n",
              "      <td>2020-01-28</td>\n",
              "      <td>15.99</td>\n",
              "      <td>Ahmed, SaladinAbsolute Carnage: Miles Morales</td>\n",
              "    </tr>\n",
              "    <tr>\n",
              "      <th>4</th>\n",
              "      <td>Albert Pujols (Beisbol! Latino Heroes of Major...</td>\n",
              "      <td>Leventhal, Josh</td>\n",
              "      <td>9781680720495</td>\n",
              "      <td>Hardcover</td>\n",
              "      <td>Black Rabbit Books/Bolt</td>\n",
              "      <td>2017-09-01</td>\n",
              "      <td>32.80</td>\n",
              "      <td>Leventhal, JoshAlbert Pujols (Beisbol! Latino ...</td>\n",
              "    </tr>\n",
              "    <tr>\n",
              "      <th>...</th>\n",
              "      <td>...</td>\n",
              "      <td>...</td>\n",
              "      <td>...</td>\n",
              "      <td>...</td>\n",
              "      <td>...</td>\n",
              "      <td>...</td>\n",
              "      <td>...</td>\n",
              "      <td>...</td>\n",
              "    </tr>\n",
              "    <tr>\n",
              "      <th>224</th>\n",
              "      <td>With the Fire on High</td>\n",
              "      <td>Acevedo, Elizabeth</td>\n",
              "      <td>9780062662835</td>\n",
              "      <td>Hardcover</td>\n",
              "      <td>Quill Tree Books</td>\n",
              "      <td>2019-05-07</td>\n",
              "      <td>17.99</td>\n",
              "      <td>Acevedo, ElizabethWith the Fire on High</td>\n",
              "    </tr>\n",
              "    <tr>\n",
              "      <th>225</th>\n",
              "      <td>Woven in Moonlight</td>\n",
              "      <td>Ibañez, Isabel</td>\n",
              "      <td>9781624148019</td>\n",
              "      <td>Hardcover</td>\n",
              "      <td>Page Street Kids</td>\n",
              "      <td>2020-01-07</td>\n",
              "      <td>18.99</td>\n",
              "      <td>Ibañez, IsabelWoven in Moonlight</td>\n",
              "    </tr>\n",
              "    <tr>\n",
              "      <th>226</th>\n",
              "      <td>Written in Starlight</td>\n",
              "      <td>Ibañez, Isabel</td>\n",
              "      <td>9781645671329</td>\n",
              "      <td>Hardcover</td>\n",
              "      <td>Page Street Kids</td>\n",
              "      <td>2021-01-26</td>\n",
              "      <td>18.99</td>\n",
              "      <td>Ibañez, IsabelWritten in Starlight</td>\n",
              "    </tr>\n",
              "    <tr>\n",
              "      <th>227</th>\n",
              "      <td>Yaqui Delgado Wants to Kick Your Ass</td>\n",
              "      <td>Medina, Meg</td>\n",
              "      <td>9780763671648</td>\n",
              "      <td>Paperback</td>\n",
              "      <td>Candlewick Press (MA)</td>\n",
              "      <td>2014-08-26</td>\n",
              "      <td>8.99</td>\n",
              "      <td>Medina, MegYaqui Delgado Wants to Kick Your Ass</td>\n",
              "    </tr>\n",
              "    <tr>\n",
              "      <th>228</th>\n",
              "      <td>Your Heart, My Sky: Love in a Time of Hunger</td>\n",
              "      <td>Engle, Margarita</td>\n",
              "      <td>9781534464964</td>\n",
              "      <td>Hardcover</td>\n",
              "      <td>Atheneum Books for Young Readers</td>\n",
              "      <td>2021-03-23</td>\n",
              "      <td>18.99</td>\n",
              "      <td>Engle, MargaritaYour Heart, My Sky: Love in a ...</td>\n",
              "    </tr>\n",
              "  </tbody>\n",
              "</table>\n",
              "<p>229 rows × 8 columns</p>\n",
              "</div>"
            ],
            "text/plain": [
              "                                                 title  ...                                      BooklistMatch\n",
              "0    ¿sabes Quién Es Zapata? / Do You Know Who Zapa...  ...  Leyva, Amaranta¿sabes Quién Es Zapata? / Do Yo...\n",
              "1                    21: The Story of Roberto Clemente  ...  Santiago, Wilfred21: The Story of Roberto Clem...\n",
              "2             A Cuban Girl's Guide to Tea and Tomorrow  ...  Namey, Laura TaylorA Cuban Girl's Guide to Tea...\n",
              "3                      Absolute Carnage: Miles Morales  ...      Ahmed, SaladinAbsolute Carnage: Miles Morales\n",
              "4    Albert Pujols (Beisbol! Latino Heroes of Major...  ...  Leventhal, JoshAlbert Pujols (Beisbol! Latino ...\n",
              "..                                                 ...  ...                                                ...\n",
              "224                              With the Fire on High  ...            Acevedo, ElizabethWith the Fire on High\n",
              "225                                 Woven in Moonlight  ...                   Ibañez, IsabelWoven in Moonlight\n",
              "226                               Written in Starlight  ...                 Ibañez, IsabelWritten in Starlight\n",
              "227               Yaqui Delgado Wants to Kick Your Ass  ...    Medina, MegYaqui Delgado Wants to Kick Your Ass\n",
              "228       Your Heart, My Sky: Love in a Time of Hunger  ...  Engle, MargaritaYour Heart, My Sky: Love in a ...\n",
              "\n",
              "[229 rows x 8 columns]"
            ]
          },
          "metadata": {},
          "execution_count": 6
        }
      ]
    },
    {
      "cell_type": "markdown",
      "metadata": {
        "id": "I1F7LhqDUWo6"
      },
      "source": [
        "Upload an excel or csv file containing the titles within your holdings\n",
        "\n",
        "Must contain at least 2 columns with the headers author and title (capitalization does not matter)"
      ]
    },
    {
      "cell_type": "code",
      "metadata": {
        "colab": {
          "resources": {
            "http://localhost:8080/nbextensions/google.colab/files.js": {
              "data": "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",
              "ok": true,
              "headers": [
                [
                  "content-type",
                  "application/javascript"
                ]
              ],
              "status": 200,
              "status_text": ""
            }
          },
          "base_uri": "https://localhost:8080/",
          "height": 90
        },
        "id": "tiPpkhcINbKu",
        "outputId": "58dcb27f-97bb-4b76-d107-9852723488fe"
      },
      "source": [
        "uploaded_holdings = files.upload()\n",
        "\n",
        "for fn in uploaded_holdings.keys():\n",
        "  file_name=fn\n",
        "  print('User uploaded file \"{name}\" with length {length} bytes'.format(\n",
        "      name=fn, length=len(uploaded_holdings[fn])))"
      ],
      "execution_count": 7,
      "outputs": [
        {
          "output_type": "display_data",
          "data": {
            "text/html": [
              "\n",
              "     <input type=\"file\" id=\"files-7902a5a6-8472-4a37-b166-31f3faeac646\" name=\"files[]\" multiple disabled\n",
              "        style=\"border:none\" />\n",
              "     <output id=\"result-7902a5a6-8472-4a37-b166-31f3faeac646\">\n",
              "      Upload widget is only available when the cell has been executed in the\n",
              "      current browser session. Please rerun this cell to enable.\n",
              "      </output>\n",
              "      <script src=\"/nbextensions/google.colab/files.js\"></script> "
            ],
            "text/plain": [
              "<IPython.core.display.HTML object>"
            ]
          },
          "metadata": {}
        },
        {
          "output_type": "stream",
          "name": "stdout",
          "text": [
            "Saving test holdings.xlsx to test holdings.xlsx\n",
            "User uploaded file \"test holdings.xlsx\" with length 2118564 bytes\n"
          ]
        }
      ]
    },
    {
      "cell_type": "markdown",
      "metadata": {
        "id": "tsofc_pdfXC1"
      },
      "source": [
        "Loads the uploaded file into a datafrome or returns an error if the file is an incorrect format"
      ]
    },
    {
      "cell_type": "code",
      "metadata": {
        "id": "YRcmV8JHucz1"
      },
      "source": [
        "if file_name.endswith('.csv'):\n",
        "  holdings_df = pd.read_csv(io.BytesIO(uploaded_holdings[file_name]))\n",
        "elif file_name.endswith('.xls'):\n",
        "  holdings_df = pd.read_excel(io.BytesIO(uploaded_holdings[file_name]))\n",
        "elif file_name.endswith('.xlsx'):\n",
        "  holdings_df = pd.read_excel(io.BytesIO(uploaded_holdings[file_name]))\n",
        "else:\n",
        "  pring(\"error file is not .csv or excel\")"
      ],
      "execution_count": 8,
      "outputs": []
    },
    {
      "cell_type": "markdown",
      "metadata": {
        "id": "2zITsPKroVsd"
      },
      "source": [
        "clean up data in the table and add BooklistMatch Column for use later"
      ]
    },
    {
      "cell_type": "code",
      "metadata": {
        "id": "5ciKBxpDgqil"
      },
      "source": [
        "#remove null values\n",
        "holdings_df=holdings_df.fillna('')\n",
        "#change headers to lower case\n",
        "holdings_df.columns = [x.lower() for x in holdings_df.columns]\n",
        "#save list of column headers for use at the end\n",
        "holdings_headers = holdings_df.columns.tolist()\n",
        "#Create MatchPoint field\n",
        "holdings_df['HoldingsMatch']=holdings_df['author']+holdings_df['title']"
      ],
      "execution_count": 9,
      "outputs": []
    },
    {
      "cell_type": "markdown",
      "metadata": {
        "id": "V7I_D68mU0rP"
      },
      "source": [
        "Preview holdings data.\n",
        "\n",
        "**Note:** If the file is contains more than 20,000 rows the preview will be displayed different than the prior preview and will not include the browse features."
      ]
    },
    {
      "cell_type": "code",
      "metadata": {
        "colab": {
          "base_uri": "https://localhost:8080/",
          "height": 441
        },
        "id": "_8w4Xdmbg8eC",
        "outputId": "a3c8ee4c-634c-499b-a8e7-75170be9d02f"
      },
      "source": [
        "#Preview data\n",
        "holdings_df"
      ],
      "execution_count": 10,
      "outputs": [
        {
          "output_type": "stream",
          "name": "stdout",
          "text": [
            "Warning: total number of rows (30172) exceeds max_rows (20000). Falling back to pandas display.\n"
          ]
        },
        {
          "output_type": "execute_result",
          "data": {
            "text/html": [
              "<div>\n",
              "<style scoped>\n",
              "    .dataframe tbody tr th:only-of-type {\n",
              "        vertical-align: middle;\n",
              "    }\n",
              "\n",
              "    .dataframe tbody tr th {\n",
              "        vertical-align: top;\n",
              "    }\n",
              "\n",
              "    .dataframe thead th {\n",
              "        text-align: right;\n",
              "    }\n",
              "</style>\n",
              "<table border=\"1\" class=\"dataframe\">\n",
              "  <thead>\n",
              "    <tr style=\"text-align: right;\">\n",
              "      <th></th>\n",
              "      <th>record num</th>\n",
              "      <th>title</th>\n",
              "      <th>author</th>\n",
              "      <th>publish year</th>\n",
              "      <th>HoldingsMatch</th>\n",
              "    </tr>\n",
              "  </thead>\n",
              "  <tbody>\n",
              "    <tr>\n",
              "      <th>0</th>\n",
              "      <td>b16093768</td>\n",
              "      <td>Cracking the AP. U.S. history exam / the Princ...</td>\n",
              "      <td></td>\n",
              "      <td>©1997-2019.</td>\n",
              "      <td>Cracking the AP. U.S. history exam / the Princ...</td>\n",
              "    </tr>\n",
              "    <tr>\n",
              "      <th>1</th>\n",
              "      <td>b18109196</td>\n",
              "      <td>Cracking the AP. Biology exam / the Princeton ...</td>\n",
              "      <td></td>\n",
              "      <td>c1997-2019.</td>\n",
              "      <td>Cracking the AP. Biology exam / the Princeton ...</td>\n",
              "    </tr>\n",
              "    <tr>\n",
              "      <th>2</th>\n",
              "      <td>b18783983</td>\n",
              "      <td>Cracking the AP. European history / the Prince...</td>\n",
              "      <td></td>\n",
              "      <td>c1999-2019.</td>\n",
              "      <td>Cracking the AP. European history / the Prince...</td>\n",
              "    </tr>\n",
              "    <tr>\n",
              "      <th>3</th>\n",
              "      <td>b21114870</td>\n",
              "      <td>Cracking the SSAT/ISEE / the Princeton Review.</td>\n",
              "      <td></td>\n",
              "      <td>©1997-2019.</td>\n",
              "      <td>Cracking the SSAT/ISEE / the Princeton Review.</td>\n",
              "    </tr>\n",
              "    <tr>\n",
              "      <th>4</th>\n",
              "      <td>b22154358</td>\n",
              "      <td>Cracking the AP. World history exam / the Prin...</td>\n",
              "      <td></td>\n",
              "      <td>c2004-2019.</td>\n",
              "      <td>Cracking the AP. World history exam / the Prin...</td>\n",
              "    </tr>\n",
              "    <tr>\n",
              "      <th>...</th>\n",
              "      <td>...</td>\n",
              "      <td>...</td>\n",
              "      <td>...</td>\n",
              "      <td>...</td>\n",
              "      <td>...</td>\n",
              "    </tr>\n",
              "    <tr>\n",
              "      <th>30167</th>\n",
              "      <td>b40498189</td>\n",
              "      <td>Designated survivor. Season 1 / produced by An...</td>\n",
              "      <td></td>\n",
              "      <td></td>\n",
              "      <td>Designated survivor. Season 1 / produced by An...</td>\n",
              "    </tr>\n",
              "    <tr>\n",
              "      <th>30168</th>\n",
              "      <td>b40498190</td>\n",
              "      <td>Designated survivor. Season 2 / produced by An...</td>\n",
              "      <td></td>\n",
              "      <td></td>\n",
              "      <td>Designated survivor. Season 2 / produced by An...</td>\n",
              "    </tr>\n",
              "    <tr>\n",
              "      <th>30169</th>\n",
              "      <td>b40498207</td>\n",
              "      <td>Designated survivor. Season 3 / produced by An...</td>\n",
              "      <td></td>\n",
              "      <td></td>\n",
              "      <td>Designated survivor. Season 3 / produced by An...</td>\n",
              "    </tr>\n",
              "    <tr>\n",
              "      <th>30170</th>\n",
              "      <td>b40504980</td>\n",
              "      <td>The diary of a young girl : the definitive edi...</td>\n",
              "      <td>Frank, Anne, 1929-1945</td>\n",
              "      <td></td>\n",
              "      <td>Frank, Anne, 1929-1945The diary of a young gir...</td>\n",
              "    </tr>\n",
              "    <tr>\n",
              "      <th>30171</th>\n",
              "      <td>b40507877</td>\n",
              "      <td>The shadow of the moon / José Antonio Cotrina ...</td>\n",
              "      <td>Cotrina, José Antonio, 1972- author.</td>\n",
              "      <td></td>\n",
              "      <td>Cotrina, José Antonio, 1972- author.The shadow...</td>\n",
              "    </tr>\n",
              "  </tbody>\n",
              "</table>\n",
              "<p>30172 rows × 5 columns</p>\n",
              "</div>"
            ],
            "text/plain": [
              "      record num  ...                                      HoldingsMatch\n",
              "0      b16093768  ...  Cracking the AP. U.S. history exam / the Princ...\n",
              "1      b18109196  ...  Cracking the AP. Biology exam / the Princeton ...\n",
              "2      b18783983  ...  Cracking the AP. European history / the Prince...\n",
              "3      b21114870  ...     Cracking the SSAT/ISEE / the Princeton Review.\n",
              "4      b22154358  ...  Cracking the AP. World history exam / the Prin...\n",
              "...          ...  ...                                                ...\n",
              "30167  b40498189  ...  Designated survivor. Season 1 / produced by An...\n",
              "30168  b40498190  ...  Designated survivor. Season 2 / produced by An...\n",
              "30169  b40498207  ...  Designated survivor. Season 3 / produced by An...\n",
              "30170  b40504980  ...  Frank, Anne, 1929-1945The diary of a young gir...\n",
              "30171  b40507877  ...  Cotrina, José Antonio, 1972- author.The shadow...\n",
              "\n",
              "[30172 rows x 5 columns]"
            ]
          },
          "metadata": {},
          "execution_count": 10
        }
      ]
    },
    {
      "cell_type": "markdown",
      "metadata": {
        "id": "N6yX1DxOkl4t"
      },
      "source": [
        "\n",
        "# Step 3: Calculate Matches Dataframe\n",
        "Compare two data frames and calculate match confidence value for each pair of rows.\n",
        "\n",
        "Matching algorithm is taken from [Fuzzy Matching at Scale by Josh Taylor](https://towardsdatascience.com/fuzzy-matching-at-scale-84f2bfd0c536) (viewed 11/24/2021)"
      ]
    },
    {
      "cell_type": "code",
      "metadata": {
        "id": "6OT4VoNWO9db"
      },
      "source": [
        "def ngrams(string, n=3):\n",
        "    \"\"\"Takes an input string, cleans it and converts to ngrams. \"\"\"\n",
        "    string = str(string)\n",
        "    string = string.lower() # lower case\n",
        "    #string = fix_text(string) # fix text\n",
        "    string = string.encode(\"ascii\", errors=\"ignore\").decode() #remove non ascii chars\n",
        "    chars_to_remove = [\")\",\"(\",\".\",\"|\",\"[\",\"]\",\"{\",\"}\",\"'\",\"-\"]\n",
        "    rx = '[' + re.escape(''.join(chars_to_remove)) + ']' #remove punc, brackets etc...\n",
        "    string = re.sub(rx, '', string)\n",
        "    string = re.sub(' +',' ',string).strip() # get rid of multiple spaces and replace with a single\n",
        "    string = ' '+ string +' ' # pad names for ngrams...\n",
        "    ngrams = zip(*[string[i:] for i in range(n)])\n",
        "    return [''.join(ngram) for ngram in ngrams]\n",
        "\n",
        "\n",
        "###FIRST TIME RUN - takes about 5 minutes... used to build the matching table\n",
        "##### Create a list of items to match here:\n",
        "#change from original doing cast instead of unique...unsure if can do both\n",
        "booklist_match = list(booklist_df[\"BooklistMatch\"].unique()) #unique org names from company watch file\n",
        "#Building the TFIDF off the clean dataset - takes about 5 min\n",
        "vectorizer = TfidfVectorizer(min_df=1, analyzer=ngrams)\n",
        "tf_idf_matrix = vectorizer.fit_transform(booklist_match)\n",
        "\n",
        "##### Create a list of messy items to match here:\n",
        "holdings_match = list(holdings_df[\"HoldingsMatch\"].unique()) #unique list of names\n",
        "\n",
        "#Creation of vectors for the messy names\n",
        "\n",
        "# #FOR LOADING ONLY - only required if items have been saved previously\n",
        "# vectorizer = pickle.load(open(\"Data/vectorizer.pkl\",\"rb\"))\n",
        "# tf_idf_matrix = pickle.load(open(\"Data/Comp_tfidf.pkl\",\"rb\"))\n",
        "# org_names = pickle.load(open(\"Data/Comp_names.pkl\",\"rb\"))\n",
        "\n",
        "messy_tf_idf_matrix = vectorizer.transform(holdings_match)\n",
        "\n",
        "# create a random matrix to index\n",
        "data_matrix = tf_idf_matrix#[0:1000000]\n",
        "\n",
        "# Set index parameters\n",
        "# These are the most important ones\n",
        "M = 80\n",
        "efC = 1000\n",
        "\n",
        "num_threads = 4 # adjust for the number of threads\n",
        "# Intitialize the library, specify the space, the type of the vector and add data points \n",
        "index = nmslib.init(method='simple_invindx', space='negdotprod_sparse_fast', data_type=nmslib.DataType.SPARSE_VECTOR) \n",
        "\n",
        "index.addDataPointBatch(data_matrix)\n",
        "# Create an index\n",
        "index.createIndex() \n",
        "\n",
        "\n",
        "# Number of neighbors \n",
        "num_threads = 4\n",
        "K=1\n",
        "query_matrix = messy_tf_idf_matrix\n",
        "query_qty = query_matrix.shape[0]\n",
        "nbrs = index.knnQueryBatch(query_matrix, k = K, num_threads = num_threads)"
      ],
      "execution_count": 11,
      "outputs": []
    },
    {
      "cell_type": "code",
      "metadata": {
        "id": "BQDyqfJ5RGpG"
      },
      "source": [
        "mts =[]\n",
        "for i in range(len(nbrs)):\n",
        "  original_nm = holdings_match[i]\n",
        "  try:\n",
        "    matched_nm   = booklist_match[nbrs[i][0][0]]\n",
        "    conf         = nbrs[i][1][0]\n",
        "  except:\n",
        "    matched_nm   = \"no match found\"\n",
        "    conf         = None\n",
        "  mts.append([original_nm,matched_nm,conf])\n",
        "\n",
        "mts = pd.DataFrame(mts,columns=['holdings_match','booklist_match','conf'])\n",
        "#change negative values to positive for ease of reading\n",
        "mts['conf'] = mts['conf'].abs()"
      ],
      "execution_count": 12,
      "outputs": []
    },
    {
      "cell_type": "markdown",
      "metadata": {
        "id": "p_vDnmdlMZ73"
      },
      "source": [
        "#Step 4: Determine matches"
      ]
    },
    {
      "cell_type": "markdown",
      "metadata": {
        "id": "oifkj3bWvP0P"
      },
      "source": [
        "In the table below you can browse the results to see the match confidence scores assigned to each pair.\n",
        "\n",
        "Look at values of the 'conf' column to find the point at which you feel the entries are matched correctly.  Generally we recommend looking at the values between .5 and .7 as a starting point.  To help here you can see a preview of the matched data that has been limited to the relevant range of values."
      ]
    },
    {
      "cell_type": "code",
      "metadata": {
        "colab": {
          "base_uri": "https://localhost:8080/",
          "height": 720
        },
        "id": "WTEHBXVvRk59",
        "outputId": "0015f5e5-e199-4887-88af-c0dd28652a88"
      },
      "source": [
        "#.66 used as default match confidence value based on initial testing, will be overwritten in step below\n",
        "match_conf = .66\n",
        "\n",
        "mts = mts.sort_values(by=['conf'])\n",
        "mts[mts['conf'].between(.5,.7)]"
      ],
      "execution_count": 13,
      "outputs": [
        {
          "output_type": "execute_result",
          "data": {
            "application/vnd.google.colaboratory.module+javascript": "\n      import \"https://ssl.gstatic.com/colaboratory/data_table/a6224c040fa35dcf/data_table.js\";\n\n      window.createDataTable({\n        data: [[{\n            'v': 7173,\n            'f': \"7173\",\n        },\n\"de la Pe\\u00f1a, Matt, author.Superman : dawnbreaker / Matt de la Pe\\u00f1a.\",\n\"de la Pe\\u00f1a, MattWe Were Here\",\n{\n            'v': 0.5009788274765015,\n            'f': \"0.5009788274765015\",\n        }],\n [{\n            'v': 13255,\n            'f': \"13255\",\n        },\n\"Roanhorse, Rebecca, author.Resistance reborn / Rebecca Roanhorse.\",\n\"Roanhorse, RebeccaPhoenix Song: Echo\\u00a0- Street Smart\",\n{\n            'v': 0.5055367946624756,\n            'f': \"0.5055367946624756\",\n        }],\n [{\n            'v': 21735,\n            'f': \"21735\",\n        },\n\"Allende, Isabel, author.City of the beasts / Isabel Allende.\",\n\"Allende, IsabelCity of the Beasts\\u00a0(Memories of the Eagle and the Jaguar\\u00a0#1)\\u00a0Easy Reads\",\n{\n            'v': 0.5061895847320557,\n            'f': \"0.5061895847320557\",\n        }],\n [{\n            'v': 8299,\n            'f': \"8299\",\n        },\n\"Roanhorse, Rebecca, author.Storm of locusts / Rebecca Roanhorse.\",\n\"Roanhorse, RebeccaPhoenix Song: Echo\\u00a0- Street Smart\",\n{\n            'v': 0.511018693447113,\n            'f': \"0.511018693447113\",\n        }],\n [{\n            'v': 3088,\n            'f': \"3088\",\n        },\n\"Roanhorse, Rebecca, author.Trail of lightning / Rebecca Roanhorse.\",\n\"Roanhorse, RebeccaPhoenix Song: Echo\\u00a0- Street Smart\",\n{\n            'v': 0.5131583213806152,\n            'f': \"0.5131583213806152\",\n        }],\n [{\n            'v': 6560,\n            'f': \"6560\",\n        },\n\"Sotomayor, Sonia, 1954- author.The beloved world of Sonia Sotomayor / Sonia Sotomayor.\",\n\"Mendoza, SylviaSonia Sotomayor: A Biography\",\n{\n            'v': 0.5152961611747742,\n            'f': \"0.5152961611747742\",\n        }],\n [{\n            'v': 2001,\n            'f': \"2001\",\n        },\n\"Albertalli, Becky, author.Leah on the offbeat / by Becky Albertalli.\",\n\"Albertalli, BeckyWhat If It's Us\",\n{\n            'v': 0.5173685550689697,\n            'f': \"0.5173685550689697\",\n        }],\n [{\n            'v': 9018,\n            'f': \"9018\",\n        },\n\"Abel, Jessica, author, illustrator.Trish Trash : rollergirl of Mars / by Jessica Abel   backgrounds and designs, Lydia Roberts   colors, Walter.\",\n\"Abel, JessicaTrish Trash #1: Rollergirl of Mars\\u00a0(Trish Trash Graphic Novels\\u00a0#1)\",\n{\n            'v': 0.517501950263977,\n            'f': \"0.517501950263977\",\n        }],\n [{\n            'v': 24084,\n            'f': \"24084\",\n        },\n\"Thomas, Aiden, author.Lost in the Never Woods / Aiden Thomas.\",\n\"Thomas, AidenCemetery Boys\",\n{\n            'v': 0.5188679099082947,\n            'f': \"0.5188679099082947\",\n        }],\n [{\n            'v': 14284,\n            'f': \"14284\",\n        },\n\"Roanhorse, Rebecca, author.Race to the sun / Rebecca Roanhorse.\",\n\"Roanhorse, RebeccaPhoenix Song: Echo\\u00a0- Street Smart\",\n{\n            'v': 0.5200784802436829,\n            'f': \"0.5200784802436829\",\n        }],\n [{\n            'v': 20117,\n            'f': \"20117\",\n        },\n\"Roanhorse, Rebecca, author.Black sun / Rebecca Roanhorse.\",\n\"Roanhorse, RebeccaPhoenix Song: Echo\\u00a0- Street Smart\",\n{\n            'v': 0.5229125022888184,\n            'f': \"0.5229125022888184\",\n        }],\n [{\n            'v': 9549,\n            'f': \"9549\",\n        },\n\"Reynolds, Justin A., author.Opposite of always / Justin A. Reynolds.\",\n\"Reynolds, Justin AEarly Departures\\u00a0Easy Reads\",\n{\n            'v': 0.5239248871803284,\n            'f': \"0.5239248871803284\",\n        }],\n [{\n            'v': 27805,\n            'f': \"27805\",\n        },\n\"Ahmed, Saladin, author.Miles Morales. vol. 5, The clone saga / Saladin Ahmed   artists, Natacha Bustos, Carmen Carnero   David Curiel, color artist   letterer, Cory Petit.\",\n\"Ahmed, SaladinMiles Morales Vol. 5: The Clone Saga\",\n{\n            'v': 0.5271896123886108,\n            'f': \"0.5271896123886108\",\n        }],\n [{\n            'v': 24679,\n            'f': \"24679\",\n        },\n\"Albertalli, Becky, author.Kate in waiting / Becky Albertalli.\",\n\"Albertalli, BeckyHere's to Us\\u00a0- Street Smart\",\n{\n            'v': 0.5305988192558289,\n            'f': \"0.5305988192558289\",\n        }],\n [{\n            'v': 27478,\n            'f': \"27478\",\n        },\n\"Mejia, Tehlor Kay, author.Paola Santiago and the forest of nightmares / Tehlor Kay Mejia.\",\n\"Mejia, Tehlor KayMiss Meteor\",\n{\n            'v': 0.5307888388633728,\n            'f': \"0.5307888388633728\",\n        }],\n [{\n            'v': 3628,\n            'f': \"3628\",\n        },\n\"Safi, Aminah Mae, author.Not the girls you're looking for / Aminah Mae Safi.\",\n\"Safi, Aminah MaeThis Is All Your Fault\",\n{\n            'v': 0.5324277877807617,\n            'f': \"0.5324277877807617\",\n        }],\n [{\n            'v': 11387,\n            'f': \"11387\",\n        },\n\"Safi, Aminah Mae, author.Tell me how you really feel / Aminah Mae Safi.\",\n\"Safi, Aminah MaeThis Is All Your Fault\",\n{\n            'v': 0.5412803888320923,\n            'f': \"0.5412803888320923\",\n        }],\n [{\n            'v': 24702,\n            'f': \"24702\",\n        },\n\"Ramos, NoNieqa, author.Your mama / NoNieqa Ramos   illustrated by Jacqueline Alc\\u00e1ntara.\",\n\"Ramos, NonieqaThe Truth Is\",\n{\n            'v': 0.542688250541687,\n            'f': \"0.542688250541687\",\n        }],\n [{\n            'v': 27425,\n            'f': \"27425\",\n        },\n\"Garber, Romina, author.Cazadora : a novel / Romina Garber.\",\n\"Garber, RominaCazadora\\u00a0(Wolves of No World\\u00a0#2)\",\n{\n            'v': 0.5445886850357056,\n            'f': \"0.5445886850357056\",\n        }],\n [{\n            'v': 12397,\n            'f': \"12397\",\n        },\n\"Keil, Michelle Ruiz, author.All of us with wings / Michelle Ruiz Keil.\",\n\"Keil, Michelle RuizSummer in the City of Roses\",\n{\n            'v': 0.5487862825393677,\n            'f': \"0.5487862825393677\",\n        }],\n [{\n            'v': 18855,\n            'f': \"18855\",\n        },\n\"Mejia, Tehlor Kay, author.Paola Santiago and the river of tears / Tehlor Kay Mejia\",\n\"Mejia, Tehlor KayMiss Meteor\",\n{\n            'v': 0.5549923181533813,\n            'f': \"0.5549923181533813\",\n        }],\n [{\n            'v': 17302,\n            'f': \"17302\",\n        },\n\"Older, Daniel Jos\\u00e9, author.Shadowshaper legacy / Daniel Jos\\u00e9 Older   [map by Tim Paul].\",\n\"Older, Daniel Jos\\u00e9Shadowshaper Legacy (the Shadowshaper Cypher, Book 3), 3\\u00a0(Shadowshaper Cypher\\u00a0#3)\",\n{\n            'v': 0.5592343211174011,\n            'f': \"0.5592343211174011\",\n        }],\n [{\n            'v': 24729,\n            'f': \"24729\",\n        },\n\"Stanley, Stan, author, illustrator, colorist, letterer.The hazards of love. Book 1, Bright world / writing, art, colors, and letters by Stan Stanley.\",\n\"Stanley, StanThe Hazards of Love Vol. 1, 1: Bright World\",\n{\n            'v': 0.5643588304519653,\n            'f': \"0.5643588304519653\",\n        }],\n [{\n            'v': 26612,\n            'f': \"26612\",\n        },\n\"C\\u00f3rdova, Zoraida. author.Incendiary / Zoraida Cordova.\",\n\"C\\u00f3rdova, ZoraidaIncendiary\\u00a0(Hollow Crown\\u00a0#1)\",\n{\n            'v': 0.5659555196762085,\n            'f': \"0.5659555196762085\",\n        }],\n [{\n            'v': 19079,\n            'f': \"19079\",\n        },\n\"Garber, Romina, author.Lobizona / Romina Garber.\",\n\"Garber, RominaLobizona\\u00a0(Wolves of No World\\u00a0#1)\",\n{\n            'v': 0.5673876404762268,\n            'f': \"0.5673876404762268\",\n        }],\n [{\n            'v': 16546,\n            'f': \"16546\",\n        },\n\"Barajas, Henry, author.La voz de M.A.Y.O. : Tata Rambo. Volume 1 / created by Henry Barajas   art, J. Gonzo   letter art, Bernardo Brice   editor, Claire Napier.\",\n\"Barajas, HenryLa Voz de M.A.Y.O Rambo\",\n{\n            'v': 0.5687602758407593,\n            'f': \"0.5687602758407593\",\n        }],\n [{\n            'v': 28470,\n            'f': \"28470\",\n        },\n\"Rivera, Lilliam, writer.Unearthed : a Jessica Cruz story / written by Lilliam Rivera   art by Steph C.   letters by Gabriela Downie.\",\n\"Rivera, LilliamUnearthed: A Jessica Cruz Story\",\n{\n            'v': 0.5722245573997498,\n            'f': \"0.5722245573997498\",\n        }],\n [{\n            'v': 26074,\n            'f': \"26074\",\n        },\n\"Motayne, Maya, author.Oculta / Maya Motayne.\",\n\"Motayne, MayaOculta\\u00a0(Nocturna\\u00a0#2)\",\n{\n            'v': 0.5730254054069519,\n            'f': \"0.5730254054069519\",\n        }],\n [{\n            'v': 19403,\n            'f': \"19403\",\n        },\n\"Pimienta, Jose, author, illustrator.Suncatcher / Jose Pimienta.\",\n\"Pimienta, JoseSuncatcher: (A Graphic Novel)\",\n{\n            'v': 0.5858449339866638,\n            'f': \"0.5858449339866638\",\n        }],\n [{\n            'v': 28468,\n            'f': \"28468\",\n        },\n\"Bowles, David (David O.), author.Clockwork curandera. Volume 1, The witch owl parliament / created by David Bowles & Ra\\u00fal the Third   colors by Stacey Robinson   lettering by Damian Duffy.\",\n\"Bowles, DavidThe Witch Owl Parliament\\u00a0(Clockwork Curandera)\",\n{\n            'v': 0.5879411697387695,\n            'f': \"0.5879411697387695\",\n        }],\n [{\n            'v': 1250,\n            'f': \"1250\",\n        },\n\"Ramos, NoNieqa, author.The disturbed girl's dictionary / NoNieqa Ramos.\",\n\"Ramos, NonieqaThe Truth Is\",\n{\n            'v': 0.5894367694854736,\n            'f': \"0.5894367694854736\",\n        }],\n [{\n            'v': 13956,\n            'f': \"13956\",\n        },\n\"McLemore, Anna-Marie, author.Dark and deepest red / Anna-Marie McLemore.\",\n\"McLemore, Anna-MarieThe Mirror Season\",\n{\n            'v': 0.6029394268989563,\n            'f': \"0.6029394268989563\",\n        }],\n [{\n            'v': 28301,\n            'f': \"28301\",\n        },\n\"Martins, Gabriela, author.Like a love song / Gabriela Martins.\",\n\"Martins, GabrielaLike a Love Song\\u00a0(Underlined Paperbacks)\",\n{\n            'v': 0.6029469966888428,\n            'f': \"0.6029469966888428\",\n        }],\n [{\n            'v': 11544,\n            'f': \"11544\",\n        },\n\"M\\u00e9ndez, Yamile Saied, author.Where are you from? / by Yamile Saied M\\u00e9ndez   illustrated by Jaime Kim.\",\n\"M\\u00e9ndez, Yamile SaiedFuria\",\n{\n            'v': 0.6061026453971863,\n            'f': \"0.6061026453971863\",\n        }],\n [{\n            'v': 20819,\n            'f': \"20819\",\n        },\n\"C\\u00f3rdova, Zoraida, author.Wayward witch / Zoraida C\\u00f3rdova.\",\n\"C\\u00f3rdova, ZoraidaWayward Witch\\u00a0(Brooklyn Brujas\\u00a0#3)\",\n{\n            'v': 0.6069156527519226,\n            'f': \"0.6069156527519226\",\n        }],\n [{\n            'v': 17862,\n            'f': \"17862\",\n        },\n\"Forbes, Lani, author.The seventh sun / Lani Forbes.\",\n\"Forbes, LaniThe Seventh Sun\\u00a0(The Age of the Seventh Sun Series, 1)\",\n{\n            'v': 0.614993155002594,\n            'f': \"0.614993155002594\",\n        }],\n [{\n            'v': 6615,\n            'f': \"6615\",\n        },\n\"McLemore, Anna-Marie, author.Blanca & Roja / Anna-Marie McLemore.\",\n\"McLemore, Anna-MarieThe Mirror Season\",\n{\n            'v': 0.6231401562690735,\n            'f': \"0.6231401562690735\",\n        }],\n [{\n            'v': 11232,\n            'f': \"11232\",\n        },\n\"Motayne, Maya, author.Nocturna / Maya Motayne.\",\n\"Motayne, MayaNocturna\\u00a0(Nocturna\\u00a0#1)\",\n{\n            'v': 0.6260974407196045,\n            'f': \"0.6260974407196045\",\n        }],\n [{\n            'v': 16538,\n            'f': \"16538\",\n        },\n\"Silvera, Adam, 1990- author.Infinity son / Adam Silvera.\",\n\"Silvera, AdamInfinity Son\\u00a0(Infinity Cycle\\u00a0#1)\",\n{\n            'v': 0.6277055740356445,\n            'f': \"0.6277055740356445\",\n        }],\n [{\n            'v': 2964,\n            'f': \"2964\",\n        },\n\"Rivera, Gabby, author.America : fast and fuertona / Gabby Rivera, writer   VC's Travis Lanham, letterer.\",\n\"Rivera, GabbyAmerica Vol. 2: Fast and Fuertona\",\n{\n            'v': 0.6291530728340149,\n            'f': \"0.6291530728340149\",\n        }],\n [{\n            'v': 27521,\n            'f': \"27521\",\n        },\n\"Grey, Melissa, author.The buried  : no light   no contact   nowhere to hide / Melissa Grey.\",\n\"Grey, MelissaThe Buried\",\n{\n            'v': 0.6354143023490906,\n            'f': \"0.6354143023490906\",\n        }],\n [{\n            'v': 25140,\n            'f': \"25140\",\n        },\n\"C\\u00f3rdova, Zoraida, author.Illusionary / Zoraida C\\u00f3rdova.\",\n\"C\\u00f3rdova, ZoraidaIllusionary\\u00a0(Hollow Crown\\u00a0#2)\",\n{\n            'v': 0.6360752582550049,\n            'f': \"0.6360752582550049\",\n        }],\n [{\n            'v': 8173,\n            'f': \"8173\",\n        },\n\"Trujillo, Josh, author.Dodge City / John Trujillo, Cara McGee, Brittany Peer, Gon\\u00e7alo Lopes.\",\n\"Trujillo, JoshDodge City\",\n{\n            'v': 0.6411744356155396,\n            'f': \"0.6411744356155396\",\n        }],\n [{\n            'v': 20835,\n            'f': \"20835\",\n        },\n\"Stork, Francisco X., author.Illegal / Francisco X. Stork.\",\n\"Stork, Francisco XOn the Hook\",\n{\n            'v': 0.6429104804992676,\n            'f': \"0.6429104804992676\",\n        }],\n [{\n            'v': 27049,\n            'f': \"27049\",\n        },\n\"Tintera, Amy, author.All these warriors / by Amy Tintera.\",\n\"Tintera, AmyAll These Warriors\\u00a0(All These Monsters)\",\n{\n            'v': 0.6480791568756104,\n            'f': \"0.6480791568756104\",\n        }],\n [{\n            'v': 20212,\n            'f': \"20212\",\n        },\n\"Tintera, Amy, author.All these monsters / by Amy Tintera.\",\n\"Tintera, AmyAll These Monsters\\u00a0(All These Monsters\\u00a0#1)\",\n{\n            'v': 0.6480985283851624,\n            'f': \"0.6480985283851624\",\n        }],\n [{\n            'v': 24846,\n            'f': \"24846\",\n        },\n\"Monta\\u00f1a Ib\\u00e1\\u00f1ez, Francisco, author.The immortal boy / Francisco Monta\\u00f1a Ib\\u00e1\\u00f1ez   translated by David Bowles. El inmortal / Francisco Monta\\u00f1a Ib\\u00e1\\u00f1ez.\",\n\"Monta\\u00f1a Ib\\u00e1\\u00f1ez, FranciscoThe Immortal Boy\\u00a0(English, Spanish)\",\n{\n            'v': 0.6603622436523438,\n            'f': \"0.6603622436523438\",\n        }],\n [{\n            'v': 22740,\n            'f': \"22740\",\n        },\n\"Silvera, Adam, 1990- author.Infinity reaper / Adam Silvera.\",\n\"Silvera, AdamInfinity Reaper\\u00a0(Infinity Cycle\\u00a0#2)\",\n{\n            'v': 0.6608953475952148,\n            'f': \"0.6608953475952148\",\n        }],\n [{\n            'v': 17208,\n            'f': \"17208\",\n        },\n\"Smith, Eric (Eric A.), author.Don't read the comments / Eric Smith.\",\n\"Smith, EricDon't Read the Comments (Original)\",\n{\n            'v': 0.6660115718841553,\n            'f': \"0.6660115718841553\",\n        }],\n [{\n            'v': 19561,\n            'f': \"19561\",\n        },\n\"Jarzab, Anna, author.Breath like water / [by] Anna Jarzab.\",\n\"Jarzab, AnnaBreath Like Water (Original)\",\n{\n            'v': 0.683251142501831,\n            'f': \"0.683251142501831\",\n        }],\n [{\n            'v': 18082,\n            'f': \"18082\",\n        },\n\"Watson, Sarah (Television writer), author.Most likely / Sarah Watson.\",\n\"Watson, SarahMost Likely\",\n{\n            'v': 0.6878442168235779,\n            'f': \"0.6878442168235779\",\n        }],\n [{\n            'v': 22313,\n            'f': \"22313\",\n        },\n\"Martins, Vitor, 1991- author.Here the whole time / Vitor Martins   translated by Larissa Helena.\",\n\"Martins, VitorHere the Whole Time\",\n{\n            'v': 0.694342315196991,\n            'f': \"0.694342315196991\",\n        }],\n [{\n            'v': 10472,\n            'f': \"10472\",\n        },\n\"M\\u00e9ndez, Matt, author.Barely missing everything / Matt M\\u00e9ndez.\",\n\"Mendez, MattBarely Missing Everything\",\n{\n            'v': 0.6967882513999939,\n            'f': \"0.6967882513999939\",\n        }]],\n        columns: [[\"number\", \"index\"], [\"string\", \"holdings_match\"], [\"string\", \"booklist_match\"], [\"number\", \"conf\"]],\n        columnOptions: [{\"width\": \"1px\", \"className\": \"index_column\"}],\n        rowsPerPage: 25,\n        helpUrl: \"https://colab.research.google.com/notebooks/data_table.ipynb\",\n        suppressOutputScrolling: true,\n        minimumWidth: undefined,\n      });\n    ",
            "text/html": [
              "<div>\n",
              "<style scoped>\n",
              "    .dataframe tbody tr th:only-of-type {\n",
              "        vertical-align: middle;\n",
              "    }\n",
              "\n",
              "    .dataframe tbody tr th {\n",
              "        vertical-align: top;\n",
              "    }\n",
              "\n",
              "    .dataframe thead th {\n",
              "        text-align: right;\n",
              "    }\n",
              "</style>\n",
              "<table border=\"1\" class=\"dataframe\">\n",
              "  <thead>\n",
              "    <tr style=\"text-align: right;\">\n",
              "      <th></th>\n",
              "      <th>holdings_match</th>\n",
              "      <th>booklist_match</th>\n",
              "      <th>conf</th>\n",
              "    </tr>\n",
              "  </thead>\n",
              "  <tbody>\n",
              "    <tr>\n",
              "      <th>7173</th>\n",
              "      <td>de la Peña, Matt, author.Superman : dawnbreake...</td>\n",
              "      <td>de la Peña, MattWe Were Here</td>\n",
              "      <td>0.500979</td>\n",
              "    </tr>\n",
              "    <tr>\n",
              "      <th>13255</th>\n",
              "      <td>Roanhorse, Rebecca, author.Resistance reborn /...</td>\n",
              "      <td>Roanhorse, RebeccaPhoenix Song: Echo - Street ...</td>\n",
              "      <td>0.505537</td>\n",
              "    </tr>\n",
              "    <tr>\n",
              "      <th>21735</th>\n",
              "      <td>Allende, Isabel, author.City of the beasts / I...</td>\n",
              "      <td>Allende, IsabelCity of the Beasts (Memories of...</td>\n",
              "      <td>0.506190</td>\n",
              "    </tr>\n",
              "    <tr>\n",
              "      <th>8299</th>\n",
              "      <td>Roanhorse, Rebecca, author.Storm of locusts / ...</td>\n",
              "      <td>Roanhorse, RebeccaPhoenix Song: Echo - Street ...</td>\n",
              "      <td>0.511019</td>\n",
              "    </tr>\n",
              "    <tr>\n",
              "      <th>3088</th>\n",
              "      <td>Roanhorse, Rebecca, author.Trail of lightning ...</td>\n",
              "      <td>Roanhorse, RebeccaPhoenix Song: Echo - Street ...</td>\n",
              "      <td>0.513158</td>\n",
              "    </tr>\n",
              "    <tr>\n",
              "      <th>6560</th>\n",
              "      <td>Sotomayor, Sonia, 1954- author.The beloved wor...</td>\n",
              "      <td>Mendoza, SylviaSonia Sotomayor: A Biography</td>\n",
              "      <td>0.515296</td>\n",
              "    </tr>\n",
              "    <tr>\n",
              "      <th>2001</th>\n",
              "      <td>Albertalli, Becky, author.Leah on the offbeat ...</td>\n",
              "      <td>Albertalli, BeckyWhat If It's Us</td>\n",
              "      <td>0.517369</td>\n",
              "    </tr>\n",
              "    <tr>\n",
              "      <th>9018</th>\n",
              "      <td>Abel, Jessica, author, illustrator.Trish Trash...</td>\n",
              "      <td>Abel, JessicaTrish Trash #1: Rollergirl of Mar...</td>\n",
              "      <td>0.517502</td>\n",
              "    </tr>\n",
              "    <tr>\n",
              "      <th>24084</th>\n",
              "      <td>Thomas, Aiden, author.Lost in the Never Woods ...</td>\n",
              "      <td>Thomas, AidenCemetery Boys</td>\n",
              "      <td>0.518868</td>\n",
              "    </tr>\n",
              "    <tr>\n",
              "      <th>14284</th>\n",
              "      <td>Roanhorse, Rebecca, author.Race to the sun / R...</td>\n",
              "      <td>Roanhorse, RebeccaPhoenix Song: Echo - Street ...</td>\n",
              "      <td>0.520078</td>\n",
              "    </tr>\n",
              "    <tr>\n",
              "      <th>20117</th>\n",
              "      <td>Roanhorse, Rebecca, author.Black sun / Rebecca...</td>\n",
              "      <td>Roanhorse, RebeccaPhoenix Song: Echo - Street ...</td>\n",
              "      <td>0.522913</td>\n",
              "    </tr>\n",
              "    <tr>\n",
              "      <th>9549</th>\n",
              "      <td>Reynolds, Justin A., author.Opposite of always...</td>\n",
              "      <td>Reynolds, Justin AEarly Departures Easy Reads</td>\n",
              "      <td>0.523925</td>\n",
              "    </tr>\n",
              "    <tr>\n",
              "      <th>27805</th>\n",
              "      <td>Ahmed, Saladin, author.Miles Morales. vol. 5, ...</td>\n",
              "      <td>Ahmed, SaladinMiles Morales Vol. 5: The Clone ...</td>\n",
              "      <td>0.527190</td>\n",
              "    </tr>\n",
              "    <tr>\n",
              "      <th>24679</th>\n",
              "      <td>Albertalli, Becky, author.Kate in waiting / Be...</td>\n",
              "      <td>Albertalli, BeckyHere's to Us - Street Smart</td>\n",
              "      <td>0.530599</td>\n",
              "    </tr>\n",
              "    <tr>\n",
              "      <th>27478</th>\n",
              "      <td>Mejia, Tehlor Kay, author.Paola Santiago and t...</td>\n",
              "      <td>Mejia, Tehlor KayMiss Meteor</td>\n",
              "      <td>0.530789</td>\n",
              "    </tr>\n",
              "    <tr>\n",
              "      <th>3628</th>\n",
              "      <td>Safi, Aminah Mae, author.Not the girls you're ...</td>\n",
              "      <td>Safi, Aminah MaeThis Is All Your Fault</td>\n",
              "      <td>0.532428</td>\n",
              "    </tr>\n",
              "    <tr>\n",
              "      <th>11387</th>\n",
              "      <td>Safi, Aminah Mae, author.Tell me how you reall...</td>\n",
              "      <td>Safi, Aminah MaeThis Is All Your Fault</td>\n",
              "      <td>0.541280</td>\n",
              "    </tr>\n",
              "    <tr>\n",
              "      <th>24702</th>\n",
              "      <td>Ramos, NoNieqa, author.Your mama / NoNieqa Ram...</td>\n",
              "      <td>Ramos, NonieqaThe Truth Is</td>\n",
              "      <td>0.542688</td>\n",
              "    </tr>\n",
              "    <tr>\n",
              "      <th>27425</th>\n",
              "      <td>Garber, Romina, author.Cazadora : a novel / Ro...</td>\n",
              "      <td>Garber, RominaCazadora (Wolves of No World #2)</td>\n",
              "      <td>0.544589</td>\n",
              "    </tr>\n",
              "    <tr>\n",
              "      <th>12397</th>\n",
              "      <td>Keil, Michelle Ruiz, author.All of us with win...</td>\n",
              "      <td>Keil, Michelle RuizSummer in the City of Roses</td>\n",
              "      <td>0.548786</td>\n",
              "    </tr>\n",
              "    <tr>\n",
              "      <th>18855</th>\n",
              "      <td>Mejia, Tehlor Kay, author.Paola Santiago and t...</td>\n",
              "      <td>Mejia, Tehlor KayMiss Meteor</td>\n",
              "      <td>0.554992</td>\n",
              "    </tr>\n",
              "    <tr>\n",
              "      <th>17302</th>\n",
              "      <td>Older, Daniel José, author.Shadowshaper legacy...</td>\n",
              "      <td>Older, Daniel JoséShadowshaper Legacy (the Sha...</td>\n",
              "      <td>0.559234</td>\n",
              "    </tr>\n",
              "    <tr>\n",
              "      <th>24729</th>\n",
              "      <td>Stanley, Stan, author, illustrator, colorist, ...</td>\n",
              "      <td>Stanley, StanThe Hazards of Love Vol. 1, 1: Br...</td>\n",
              "      <td>0.564359</td>\n",
              "    </tr>\n",
              "    <tr>\n",
              "      <th>26612</th>\n",
              "      <td>Córdova, Zoraida. author.Incendiary / Zoraida ...</td>\n",
              "      <td>Córdova, ZoraidaIncendiary (Hollow Crown #1)</td>\n",
              "      <td>0.565956</td>\n",
              "    </tr>\n",
              "    <tr>\n",
              "      <th>19079</th>\n",
              "      <td>Garber, Romina, author.Lobizona / Romina Garber.</td>\n",
              "      <td>Garber, RominaLobizona (Wolves of No World #1)</td>\n",
              "      <td>0.567388</td>\n",
              "    </tr>\n",
              "    <tr>\n",
              "      <th>16546</th>\n",
              "      <td>Barajas, Henry, author.La voz de M.A.Y.O. : Ta...</td>\n",
              "      <td>Barajas, HenryLa Voz de M.A.Y.O Rambo</td>\n",
              "      <td>0.568760</td>\n",
              "    </tr>\n",
              "    <tr>\n",
              "      <th>28470</th>\n",
              "      <td>Rivera, Lilliam, writer.Unearthed : a Jessica ...</td>\n",
              "      <td>Rivera, LilliamUnearthed: A Jessica Cruz Story</td>\n",
              "      <td>0.572225</td>\n",
              "    </tr>\n",
              "    <tr>\n",
              "      <th>26074</th>\n",
              "      <td>Motayne, Maya, author.Oculta / Maya Motayne.</td>\n",
              "      <td>Motayne, MayaOculta (Nocturna #2)</td>\n",
              "      <td>0.573025</td>\n",
              "    </tr>\n",
              "    <tr>\n",
              "      <th>19403</th>\n",
              "      <td>Pimienta, Jose, author, illustrator.Suncatcher...</td>\n",
              "      <td>Pimienta, JoseSuncatcher: (A Graphic Novel)</td>\n",
              "      <td>0.585845</td>\n",
              "    </tr>\n",
              "    <tr>\n",
              "      <th>28468</th>\n",
              "      <td>Bowles, David (David O.), author.Clockwork cur...</td>\n",
              "      <td>Bowles, DavidThe Witch Owl Parliament (Clockwo...</td>\n",
              "      <td>0.587941</td>\n",
              "    </tr>\n",
              "    <tr>\n",
              "      <th>1250</th>\n",
              "      <td>Ramos, NoNieqa, author.The disturbed girl's di...</td>\n",
              "      <td>Ramos, NonieqaThe Truth Is</td>\n",
              "      <td>0.589437</td>\n",
              "    </tr>\n",
              "    <tr>\n",
              "      <th>13956</th>\n",
              "      <td>McLemore, Anna-Marie, author.Dark and deepest ...</td>\n",
              "      <td>McLemore, Anna-MarieThe Mirror Season</td>\n",
              "      <td>0.602939</td>\n",
              "    </tr>\n",
              "    <tr>\n",
              "      <th>28301</th>\n",
              "      <td>Martins, Gabriela, author.Like a love song / G...</td>\n",
              "      <td>Martins, GabrielaLike a Love Song (Underlined ...</td>\n",
              "      <td>0.602947</td>\n",
              "    </tr>\n",
              "    <tr>\n",
              "      <th>11544</th>\n",
              "      <td>Méndez, Yamile Saied, author.Where are you fro...</td>\n",
              "      <td>Méndez, Yamile SaiedFuria</td>\n",
              "      <td>0.606103</td>\n",
              "    </tr>\n",
              "    <tr>\n",
              "      <th>20819</th>\n",
              "      <td>Córdova, Zoraida, author.Wayward witch / Zorai...</td>\n",
              "      <td>Córdova, ZoraidaWayward Witch (Brooklyn Brujas...</td>\n",
              "      <td>0.606916</td>\n",
              "    </tr>\n",
              "    <tr>\n",
              "      <th>17862</th>\n",
              "      <td>Forbes, Lani, author.The seventh sun / Lani Fo...</td>\n",
              "      <td>Forbes, LaniThe Seventh Sun (The Age of the Se...</td>\n",
              "      <td>0.614993</td>\n",
              "    </tr>\n",
              "    <tr>\n",
              "      <th>6615</th>\n",
              "      <td>McLemore, Anna-Marie, author.Blanca &amp; Roja / A...</td>\n",
              "      <td>McLemore, Anna-MarieThe Mirror Season</td>\n",
              "      <td>0.623140</td>\n",
              "    </tr>\n",
              "    <tr>\n",
              "      <th>11232</th>\n",
              "      <td>Motayne, Maya, author.Nocturna / Maya Motayne.</td>\n",
              "      <td>Motayne, MayaNocturna (Nocturna #1)</td>\n",
              "      <td>0.626097</td>\n",
              "    </tr>\n",
              "    <tr>\n",
              "      <th>16538</th>\n",
              "      <td>Silvera, Adam, 1990- author.Infinity son / Ada...</td>\n",
              "      <td>Silvera, AdamInfinity Son (Infinity Cycle #1)</td>\n",
              "      <td>0.627706</td>\n",
              "    </tr>\n",
              "    <tr>\n",
              "      <th>2964</th>\n",
              "      <td>Rivera, Gabby, author.America : fast and fuert...</td>\n",
              "      <td>Rivera, GabbyAmerica Vol. 2: Fast and Fuertona</td>\n",
              "      <td>0.629153</td>\n",
              "    </tr>\n",
              "    <tr>\n",
              "      <th>27521</th>\n",
              "      <td>Grey, Melissa, author.The buried  : no light  ...</td>\n",
              "      <td>Grey, MelissaThe Buried</td>\n",
              "      <td>0.635414</td>\n",
              "    </tr>\n",
              "    <tr>\n",
              "      <th>25140</th>\n",
              "      <td>Córdova, Zoraida, author.Illusionary / Zoraida...</td>\n",
              "      <td>Córdova, ZoraidaIllusionary (Hollow Crown #2)</td>\n",
              "      <td>0.636075</td>\n",
              "    </tr>\n",
              "    <tr>\n",
              "      <th>8173</th>\n",
              "      <td>Trujillo, Josh, author.Dodge City / John Truji...</td>\n",
              "      <td>Trujillo, JoshDodge City</td>\n",
              "      <td>0.641174</td>\n",
              "    </tr>\n",
              "    <tr>\n",
              "      <th>20835</th>\n",
              "      <td>Stork, Francisco X., author.Illegal / Francisc...</td>\n",
              "      <td>Stork, Francisco XOn the Hook</td>\n",
              "      <td>0.642910</td>\n",
              "    </tr>\n",
              "    <tr>\n",
              "      <th>27049</th>\n",
              "      <td>Tintera, Amy, author.All these warriors / by A...</td>\n",
              "      <td>Tintera, AmyAll These Warriors (All These Mons...</td>\n",
              "      <td>0.648079</td>\n",
              "    </tr>\n",
              "    <tr>\n",
              "      <th>20212</th>\n",
              "      <td>Tintera, Amy, author.All these monsters / by A...</td>\n",
              "      <td>Tintera, AmyAll These Monsters (All These Mons...</td>\n",
              "      <td>0.648099</td>\n",
              "    </tr>\n",
              "    <tr>\n",
              "      <th>24846</th>\n",
              "      <td>Montaña Ibáñez, Francisco, author.The immortal...</td>\n",
              "      <td>Montaña Ibáñez, FranciscoThe Immortal Boy (Eng...</td>\n",
              "      <td>0.660362</td>\n",
              "    </tr>\n",
              "    <tr>\n",
              "      <th>22740</th>\n",
              "      <td>Silvera, Adam, 1990- author.Infinity reaper / ...</td>\n",
              "      <td>Silvera, AdamInfinity Reaper (Infinity Cycle #2)</td>\n",
              "      <td>0.660895</td>\n",
              "    </tr>\n",
              "    <tr>\n",
              "      <th>17208</th>\n",
              "      <td>Smith, Eric (Eric A.), author.Don't read the c...</td>\n",
              "      <td>Smith, EricDon't Read the Comments (Original)</td>\n",
              "      <td>0.666012</td>\n",
              "    </tr>\n",
              "    <tr>\n",
              "      <th>19561</th>\n",
              "      <td>Jarzab, Anna, author.Breath like water / [by] ...</td>\n",
              "      <td>Jarzab, AnnaBreath Like Water (Original)</td>\n",
              "      <td>0.683251</td>\n",
              "    </tr>\n",
              "    <tr>\n",
              "      <th>18082</th>\n",
              "      <td>Watson, Sarah (Television writer), author.Most...</td>\n",
              "      <td>Watson, SarahMost Likely</td>\n",
              "      <td>0.687844</td>\n",
              "    </tr>\n",
              "    <tr>\n",
              "      <th>22313</th>\n",
              "      <td>Martins, Vitor, 1991- author.Here the whole ti...</td>\n",
              "      <td>Martins, VitorHere the Whole Time</td>\n",
              "      <td>0.694342</td>\n",
              "    </tr>\n",
              "    <tr>\n",
              "      <th>10472</th>\n",
              "      <td>Méndez, Matt, author.Barely missing everything...</td>\n",
              "      <td>Mendez, MattBarely Missing Everything</td>\n",
              "      <td>0.696788</td>\n",
              "    </tr>\n",
              "  </tbody>\n",
              "</table>\n",
              "</div>"
            ],
            "text/plain": [
              "                                          holdings_match  ...      conf\n",
              "7173   de la Peña, Matt, author.Superman : dawnbreake...  ...  0.500979\n",
              "13255  Roanhorse, Rebecca, author.Resistance reborn /...  ...  0.505537\n",
              "21735  Allende, Isabel, author.City of the beasts / I...  ...  0.506190\n",
              "8299   Roanhorse, Rebecca, author.Storm of locusts / ...  ...  0.511019\n",
              "3088   Roanhorse, Rebecca, author.Trail of lightning ...  ...  0.513158\n",
              "6560   Sotomayor, Sonia, 1954- author.The beloved wor...  ...  0.515296\n",
              "2001   Albertalli, Becky, author.Leah on the offbeat ...  ...  0.517369\n",
              "9018   Abel, Jessica, author, illustrator.Trish Trash...  ...  0.517502\n",
              "24084  Thomas, Aiden, author.Lost in the Never Woods ...  ...  0.518868\n",
              "14284  Roanhorse, Rebecca, author.Race to the sun / R...  ...  0.520078\n",
              "20117  Roanhorse, Rebecca, author.Black sun / Rebecca...  ...  0.522913\n",
              "9549   Reynolds, Justin A., author.Opposite of always...  ...  0.523925\n",
              "27805  Ahmed, Saladin, author.Miles Morales. vol. 5, ...  ...  0.527190\n",
              "24679  Albertalli, Becky, author.Kate in waiting / Be...  ...  0.530599\n",
              "27478  Mejia, Tehlor Kay, author.Paola Santiago and t...  ...  0.530789\n",
              "3628   Safi, Aminah Mae, author.Not the girls you're ...  ...  0.532428\n",
              "11387  Safi, Aminah Mae, author.Tell me how you reall...  ...  0.541280\n",
              "24702  Ramos, NoNieqa, author.Your mama / NoNieqa Ram...  ...  0.542688\n",
              "27425  Garber, Romina, author.Cazadora : a novel / Ro...  ...  0.544589\n",
              "12397  Keil, Michelle Ruiz, author.All of us with win...  ...  0.548786\n",
              "18855  Mejia, Tehlor Kay, author.Paola Santiago and t...  ...  0.554992\n",
              "17302  Older, Daniel José, author.Shadowshaper legacy...  ...  0.559234\n",
              "24729  Stanley, Stan, author, illustrator, colorist, ...  ...  0.564359\n",
              "26612  Córdova, Zoraida. author.Incendiary / Zoraida ...  ...  0.565956\n",
              "19079   Garber, Romina, author.Lobizona / Romina Garber.  ...  0.567388\n",
              "16546  Barajas, Henry, author.La voz de M.A.Y.O. : Ta...  ...  0.568760\n",
              "28470  Rivera, Lilliam, writer.Unearthed : a Jessica ...  ...  0.572225\n",
              "26074       Motayne, Maya, author.Oculta / Maya Motayne.  ...  0.573025\n",
              "19403  Pimienta, Jose, author, illustrator.Suncatcher...  ...  0.585845\n",
              "28468  Bowles, David (David O.), author.Clockwork cur...  ...  0.587941\n",
              "1250   Ramos, NoNieqa, author.The disturbed girl's di...  ...  0.589437\n",
              "13956  McLemore, Anna-Marie, author.Dark and deepest ...  ...  0.602939\n",
              "28301  Martins, Gabriela, author.Like a love song / G...  ...  0.602947\n",
              "11544  Méndez, Yamile Saied, author.Where are you fro...  ...  0.606103\n",
              "20819  Córdova, Zoraida, author.Wayward witch / Zorai...  ...  0.606916\n",
              "17862  Forbes, Lani, author.The seventh sun / Lani Fo...  ...  0.614993\n",
              "6615   McLemore, Anna-Marie, author.Blanca & Roja / A...  ...  0.623140\n",
              "11232     Motayne, Maya, author.Nocturna / Maya Motayne.  ...  0.626097\n",
              "16538  Silvera, Adam, 1990- author.Infinity son / Ada...  ...  0.627706\n",
              "2964   Rivera, Gabby, author.America : fast and fuert...  ...  0.629153\n",
              "27521  Grey, Melissa, author.The buried  : no light  ...  ...  0.635414\n",
              "25140  Córdova, Zoraida, author.Illusionary / Zoraida...  ...  0.636075\n",
              "8173   Trujillo, Josh, author.Dodge City / John Truji...  ...  0.641174\n",
              "20835  Stork, Francisco X., author.Illegal / Francisc...  ...  0.642910\n",
              "27049  Tintera, Amy, author.All these warriors / by A...  ...  0.648079\n",
              "20212  Tintera, Amy, author.All these monsters / by A...  ...  0.648099\n",
              "24846  Montaña Ibáñez, Francisco, author.The immortal...  ...  0.660362\n",
              "22740  Silvera, Adam, 1990- author.Infinity reaper / ...  ...  0.660895\n",
              "17208  Smith, Eric (Eric A.), author.Don't read the c...  ...  0.666012\n",
              "19561  Jarzab, Anna, author.Breath like water / [by] ...  ...  0.683251\n",
              "18082  Watson, Sarah (Television writer), author.Most...  ...  0.687844\n",
              "22313  Martins, Vitor, 1991- author.Here the whole ti...  ...  0.694342\n",
              "10472  Méndez, Matt, author.Barely missing everything...  ...  0.696788\n",
              "\n",
              "[53 rows x 3 columns]"
            ]
          },
          "metadata": {},
          "execution_count": 13
        }
      ]
    },
    {
      "cell_type": "markdown",
      "metadata": {
        "id": "b73rEq_bXQsJ"
      },
      "source": [
        "Enter the confidence value you wish to use for determining correct matches.  Any value greater than or equal the number you enter will be considered a match."
      ]
    },
    {
      "cell_type": "code",
      "metadata": {
        "colab": {
          "base_uri": "https://localhost:8080/"
        },
        "id": "ITNACPmPtGwL",
        "outputId": "706959e2-fc26-4b1a-bd40-7bbafd745d79"
      },
      "source": [
        "match_conf = float(input(\"Select confidence value for determining correct matches\"))"
      ],
      "execution_count": 14,
      "outputs": [
        {
          "name": "stdout",
          "output_type": "stream",
          "text": [
            "Select confidence value for determining correct matches.559\n"
          ]
        }
      ]
    },
    {
      "cell_type": "markdown",
      "metadata": {
        "id": "6vZHzDWUNYik"
      },
      "source": [
        "**Percentage of Titles from list that are in your collection**"
      ]
    },
    {
      "cell_type": "code",
      "metadata": {
        "colab": {
          "base_uri": "https://localhost:8080/"
        },
        "id": "X_WR0Yt4RqHr",
        "outputId": "cfd8b81c-a007-4eb9-fc54-87835cc9f1a6"
      },
      "source": [
        "pct_held = (len(mts.loc[mts['conf'] >= match_conf]) / len(booklist_df)) * 100\n",
        "print('You own '+str(round(pct_held, 2))+'% of the titles in the booklist')"
      ],
      "execution_count": 15,
      "outputs": [
        {
          "output_type": "stream",
          "name": "stdout",
          "text": [
            "You own 43.23% of the titles in the booklist\n"
          ]
        }
      ]
    },
    {
      "cell_type": "markdown",
      "metadata": {
        "id": "rlTi-sgXNYWd"
      },
      "source": [
        "Merge the holdings dataframe with the instances where a match has been found"
      ]
    },
    {
      "cell_type": "code",
      "metadata": {
        "id": "90ULiIxr56Vr"
      },
      "source": [
        "found_results = holdings_df.reset_index().merge(mts.loc[mts['conf'] >= match_conf], left_on='HoldingsMatch', right_on='holdings_match').set_index('index')\n",
        "#found_results = found_results.rename(columns=str.capitalize)"
      ],
      "execution_count": 16,
      "outputs": []
    },
    {
      "cell_type": "markdown",
      "metadata": {
        "id": "LTwQKHXENNJh"
      },
      "source": [
        "**Titles Found in Your Collection**"
      ]
    },
    {
      "cell_type": "code",
      "metadata": {
        "colab": {
          "base_uri": "https://localhost:8080/",
          "height": 637
        },
        "id": "5Q98o0kOjlIl",
        "outputId": "52360234-31d2-45b8-df9b-c725b06d3930"
      },
      "source": [
        "found_results[holdings_headers]"
      ],
      "execution_count": 17,
      "outputs": [
        {
          "output_type": "execute_result",
          "data": {
            "application/vnd.google.colaboratory.module+javascript": "\n      import \"https://ssl.gstatic.com/colaboratory/data_table/a6224c040fa35dcf/data_table.js\";\n\n      window.createDataTable({\n        data: [[{\n            'v': 1282,\n            'f': \"1282\",\n        },\n\"b37139939\",\n\"The disturbed girl's dictionary / NoNieqa Ramos.\",\n\"Ramos, NoNieqa, author.\",\n\"\"],\n [{\n            'v': 1559,\n            'f': \"1559\",\n        },\n\"b37167741\",\n\"The poet X / a novel by Elizabeth Acevedo.\",\n\"Acevedo, Elizabeth, author.\",\n\"\"],\n [{\n            'v': 3063,\n            'f': \"3063\",\n        },\n\"b37340372\",\n\"Photographic : the life of Graciela Iturbide / Isabel Quintero + Zeke Pena.\",\n\"Quintero, Isabel, author.\",\n\"\"],\n [{\n            'v': 3064,\n            'f': \"3064\",\n        },\n\"b37340396\",\n\"America : fast and fuertona / Gabby Rivera, writer   VC's Travis Lanham, letterer.\",\n\"Rivera, Gabby, author.\",\n\"\"],\n [{\n            'v': 4951,\n            'f': \"4951\",\n        },\n\"b37557130\",\n\"What if it's us / Becky Albertalli & Adam Silvera.\",\n\"Albertalli, Becky, author.\",\n\"\"],\n [{\n            'v': 6855,\n            'f': \"6855\",\n        },\n\"b3772387x\",\n\"Blanca & Roja / Anna-Marie McLemore.\",\n\"McLemore, Anna-Marie, author.\",\n\"\"],\n [{\n            'v': 7257,\n            'f': \"7257\",\n        },\n\"b37761663\",\n\"Odd one out / Nic Stone.\",\n\"Stone, Nic, author.\",\n\"\"],\n [{\n            'v': 7581,\n            'f': \"7581\",\n        },\n\"b37794875\",\n\"Spider-Man spider-verse : Miles Morales.\",\n\"Bendis, Brian Michael, author.\",\n\"\"],\n [{\n            'v': 8471,\n            'f': \"8471\",\n        },\n\"b37909745\",\n\"Dodge City / John Trujillo, Cara McGee, Brittany Peer, Gon\\u00e7alo Lopes.\",\n\"Trujillo, Josh, author.\",\n\"\"],\n [{\n            'v': 8892,\n            'f': \"8892\",\n        },\n\"b38007162\",\n\"We set the dark on fire / Tehlor Kay Mejia.\",\n\"Mejia, Tehlor Kay, author.\",\n\"\"],\n [{\n            'v': 9740,\n            'f': \"9740\",\n        },\n\"b38097175\",\n\"They both die at the end / Adam Silvera.\",\n\"Silvera, Adam, 1990- author.\",\n\"\"],\n [{\n            'v': 9900,\n            'f': \"9900\",\n        },\n\"b38112115\",\n\"Don't date Rosa Santos / Nina Moreno.\",\n\"Moreno, Nina, author.\",\n\"\"],\n [{\n            'v': 10836,\n            'f': \"10836\",\n        },\n\"b38192901\",\n\"Barely missing everything / Matt M\\u00e9ndez.\",\n\"M\\u00e9ndez, Matt, author.\",\n\"\"],\n [{\n            'v': 11620,\n            'f': \"11620\",\n        },\n\"b38284133\",\n\"Nocturna / Maya Motayne.\",\n\"Motayne, Maya, author.\",\n\"\"],\n [{\n            'v': 11748,\n            'f': \"11748\",\n        },\n\"b38295908\",\n\"With the fire on high / Elizabeth Acevedo.\",\n\"Acevedo, Elizabeth, author.\",\n\"\"],\n [{\n            'v': 11941,\n            'f': \"11941\",\n        },\n\"b38311276\",\n\"Where are you from? / by Yamile Saied M\\u00e9ndez   illustrated by Jaime Kim.\",\n\"M\\u00e9ndez, Yamile Saied, author.\",\n\"\"],\n [{\n            'v': 12943,\n            'f': \"12943\",\n        },\n\"b38419580\",\n\"The Poet X / by Elizabeth Acevedo.\",\n\"Acevedo, Elizabeth, author.\",\n\"\"],\n [{\n            'v': 13355,\n            'f': \"13355\",\n        },\n\"b38499873\",\n\"Stage dreams / Melanie Gillman.\",\n\"Gillman, Melanie, author, illustrator.\",\n\"\"],\n [{\n            'v': 14230,\n            'f': \"14230\",\n        },\n\"b38554513\",\n\"The truth is / NoNieqa Ramos.\",\n\"Ramos, NoNieqa, author.\",\n\"\"],\n [{\n            'v': 14462,\n            'f': \"14462\",\n        },\n\"b38567829\",\n\"Dark and deepest red / Anna-Marie McLemore.\",\n\"McLemore, Anna-Marie, author.\",\n\"\"],\n [{\n            'v': 15122,\n            'f': \"15122\",\n        },\n\"b38609885\",\n\"Champions by Jim Zub. Volume 2 / Jim Zub   illustrated by Steven Cummings.\",\n\"Zub, Jim, author.\",\n\"\"],\n [{\n            'v': 15454,\n            'f': \"15454\",\n        },\n\"b38646080\",\n\"Jackpot / Nic Stone.\",\n\"Stone, Nic, author.\",\n\"\"],\n [{\n            'v': 15828,\n            'f': \"15828\",\n        },\n\"b38685462\",\n\"The library of lost things / Laura Taylor Namey.\",\n\"Namey, Laura Taylor, author.\",\n\"\"],\n [{\n            'v': 16028,\n            'f': \"16028\",\n        },\n\"b38714243\",\n\"Gravity / Sarah Deming.\",\n\"Deming, Sarah, author.\",\n\"\"],\n [{\n            'v': 16217,\n            'f': \"16217\",\n        },\n\"b38732026\",\n\"Woven in moonlight / Isabel Iba\\u00f1ez.\",\n\"Iba\\u00f1ez, Isabel (Novelist), author.\",\n\"\"],\n [{\n            'v': 17139,\n            'f': \"17139\",\n        },\n\"b3882789x\",\n\"Infinity son / Adam Silvera.\",\n\"Silvera, Adam, 1990- author.\",\n\"\"],\n [{\n            'v': 17148,\n            'f': \"17148\",\n        },\n\"b38829411\",\n\"La voz de M.A.Y.O. : Tata Rambo. Volume 1 / created by Henry Barajas   art, J. Gonzo   letter art, Bernardo Brice   editor, Claire Napier.\",\n\"Barajas, Henry, author.\",\n\"\"],\n [{\n            'v': 17402,\n            'f': \"17402\",\n        },\n\"b38865622\",\n\"We unleash the merciless storm / Tehlor Kay Mejia.\",\n\"Mejia, Tehlor Kay, author.\",\n\"\"],\n [{\n            'v': 17816,\n            'f': \"17816\",\n        },\n\"b38911607\",\n\"How to build a heart / Maria Padian.\",\n\"Padian, Maria, author.\",\n\"\"],\n [{\n            'v': 17819,\n            'f': \"17819\",\n        },\n\"b38911723\",\n\"Don't read the comments / Eric Smith.\",\n\"Smith, Eric (Eric A.), author.\",\n\"\"],\n [{\n            'v': 17915,\n            'f': \"17915\",\n        },\n\"b38919242\",\n\"Shadowshaper legacy / Daniel Jos\\u00e9 Older   [map by Tim Paul].\",\n\"Older, Daniel Jos\\u00e9, author.\",\n\"\"],\n [{\n            'v': 18406,\n            'f': \"18406\",\n        },\n\"b38960679\",\n\"Only mostly devastated / Sophie Gonzales.\",\n\"Gonzales, S., 1992- author.\",\n\"\"],\n [{\n            'v': 18420,\n            'f': \"18420\",\n        },\n\"b38960916\",\n\"The new David Espinoza / Fred Aceves.\",\n\"Aceves, Fred, author.\",\n\"\"],\n [{\n            'v': 18488,\n            'f': \"18488\",\n        },\n\"b38975713\",\n\"The seventh sun / Lani Forbes.\",\n\"Forbes, Lani, author.\",\n\"\"],\n [{\n            'v': 18718,\n            'f': \"18718\",\n        },\n\"b38993934\",\n\"Tigers, not daughters / Samantha Mabry.\",\n\"Mabry, Samantha, author.\",\n\"\"],\n [{\n            'v': 18719,\n            'f': \"18719\",\n        },\n\"b38993995\",\n\"Most likely / Sarah Watson.\",\n\"Watson, Sarah (Television writer), author.\",\n\"\"],\n [{\n            'v': 19368,\n            'f': \"19368\",\n        },\n\"b39067464\",\n\"Clap when you land / Elizabeth Acevedo.\",\n\"Acevedo, Elizabeth, author.\",\n\"\"],\n [{\n            'v': 19433,\n            'f': \"19433\",\n        },\n\"b39071753\",\n\"Don't ask me where I'm from / Jennifer De Leon.\",\n\"De Leon, Jennifer, 1979- author.\",\n\"\"],\n [{\n            'v': 19741,\n            'f': \"19741\",\n        },\n\"b39100108\",\n\"Lobizona / Romina Garber.\",\n\"Garber, Romina, author.\",\n\"\"],\n [{\n            'v': 19742,\n            'f': \"19742\",\n        },\n\"b39100121\",\n\"Running / Natalia Sylvester.\",\n\"Sylvester, Natalia, author.\",\n\"\"],\n [{\n            'v': 19991,\n            'f': \"19991\",\n        },\n\"b39143806\",\n\"We are not from here / Jenny Torres Sanchez.\",\n\"Torres Sanchez, Jenny, author.\",\n\"\"],\n [{\n            'v': 20074,\n            'f': \"20074\",\n        },\n\"b39159565\",\n\"Suncatcher / Jose Pimienta.\",\n\"Pimienta, Jose, author, illustrator.\",\n\"\"],\n [{\n            'v': 20076,\n            'f': \"20076\",\n        },\n\"b39159590\",\n\"Cemetery boys / Aiden Thomas.\",\n\"Thomas, Aiden, author.\",\n\"\"],\n [{\n            'v': 20223,\n            'f': \"20223\",\n        },\n\"b39165401\",\n\"This is all your fault / Aminah Mae Safi.\",\n\"Safi, Aminah Mae, author.\",\n\"\"],\n [{\n            'v': 20236,\n            'f': \"20236\",\n        },\n\"b39165553\",\n\"Breath like water / [by] Anna Jarzab.\",\n\"Jarzab, Anna, author.\",\n\"\"],\n [{\n            'v': 20918,\n            'f': \"20918\",\n        },\n\"b39372285\",\n\"All these monsters / by Amy Tintera.\",\n\"Tintera, Amy, author.\",\n\"\"],\n [{\n            'v': 21167,\n            'f': \"21167\",\n        },\n\"b39380245\",\n\"Sia Martinez and the moonlit beginning of everything / Raquel Vasquez Gilliland.\",\n\"Vasquez Gilliland, Raquel, author.\",\n\"\"],\n [{\n            'v': 21186,\n            'f': \"21186\",\n        },\n\"b39381365\",\n\"Early departures / Justin A. Reynolds.\",\n\"Reynolds, Justin A., author.\",\n\"\"],\n [{\n            'v': 21187,\n            'f': \"21187\",\n        },\n\"b39381377\",\n\"Sanctuary / Paola Mendoza & Abby Sher.\",\n\"Mendoza, Paola, author.\",\n\"\"],\n [{\n            'v': 21282,\n            'f': \"21282\",\n        },\n\"b39384317\",\n\"Each of us a desert / Mark Oshiro.\",\n\"Oshiro, Mark, author.\",\n\"\"],\n [{\n            'v': 21541,\n            'f': \"21541\",\n        },\n\"b39400281\",\n\"Wayward witch / Zoraida C\\u00f3rdova.\",\n\"C\\u00f3rdova, Zoraida, author.\",\n\"\"],\n [{\n            'v': 21557,\n            'f': \"21557\",\n        },\n\"b39400724\",\n\"Illegal / Francisco X. Stork.\",\n\"Stork, Francisco X., author.\",\n\"\"],\n [{\n            'v': 21722,\n            'f': \"21722\",\n        },\n\"b39409727\",\n\"Furia / Yamile Saied M\\u00e9ndez.\",\n\"M\\u00e9ndez, Yamile Saied, author.\",\n\"\"],\n [{\n            'v': 21750,\n            'f': \"21750\",\n        },\n\"b39410304\",\n\"Never look back / Lilliam Rivera.\",\n\"Rivera, Lilliam, author.\",\n\"\"],\n [{\n            'v': 22267,\n            'f': \"22267\",\n        },\n\"b39451379\",\n\"Blazewrath games / Amparo Ortiz.\",\n\"Ortiz, Amparo, author.\",\n\"\"],\n [{\n            'v': 22558,\n            'f': \"22558\",\n        },\n\"b39470003\",\n\"Miss Meteor / Tehlor Kay Mejia and Anna-Marie McLemore.\",\n\"Mejia, Tehlor Kay, author.\",\n\"\"],\n [{\n            'v': 22608,\n            'f': \"22608\",\n        },\n\"b39475220\",\n\"Historically inaccurate / Shay Bravo.\",\n\"Bravo, Shay, author.\",\n\"\"],\n [{\n            'v': 22960,\n            'f': \"22960\",\n        },\n\"b39599607\",\n\"This is how we fly / Anna Meriano.\",\n\"Meriano, Anna, author.\",\n\"\"],\n [{\n            'v': 22993,\n            'f': \"22993\",\n        },\n\"b39601705\",\n\"A Cuban girl's guide to tea and tomorrow / Laura Taylor Namey.\",\n\"Namey, Laura Taylor, author.\",\n\"\"],\n [{\n            'v': 23066,\n            'f': \"23066\",\n        },\n\"b39608323\",\n\"Here the whole time / Vitor Martins   translated by Larissa Helena.\",\n\"Martins, Vitor, 1991- author.\",\n\"\"],\n [{\n            'v': 23232,\n            'f': \"23232\",\n        },\n\"b39635314\",\n\"Once upon a quincea\\u00f1era / Monica Gomez-Hira.\",\n\"Gomez-Hira, Monica, author.\",\n\"\"],\n [{\n            'v': 23234,\n            'f': \"23234\",\n        },\n\"b3963534x\",\n\"Fat chance, Charlie Vega / Crystal Maldonado.\",\n\"Maldonado, Crystal, author.\",\n\"\"],\n [{\n            'v': 23237,\n            'f': \"23237\",\n        },\n\"b39635387\",\n\"The liar's guide to the night sky / Brianna R. Shrum.\",\n\"Shrum, Brianna R., author.\",\n\"\"],\n [{\n            'v': 23391,\n            'f': \"23391\",\n        },\n\"b39647067\",\n\"Written in starlight / Isabel Iba\\u00f1ez.\",\n\"Iba\\u00f1ez, Isabel (Novelist), author.\",\n\"\"],\n [{\n            'v': 23406,\n            'f': \"23406\",\n        },\n\"b39647365\",\n\"Your heart, my sky : love in a time of hunger / Margarita Engle.\",\n\"Engle, Margarita, author.\",\n\"\"],\n [{\n            'v': 23501,\n            'f': \"23501\",\n        },\n\"b39654084\",\n\"Infinity reaper / Adam Silvera.\",\n\"Silvera, Adam, 1990- author.\",\n\"\"],\n [{\n            'v': 23809,\n            'f': \"23809\",\n        },\n\"b39691603\",\n\"Spider-Man: Miles Morales.\",\n\"\",\n\"\"],\n [{\n            'v': 24035,\n            'f': \"24035\",\n        },\n\"b39707465\",\n\"We are the ashes, we are the fire / Joy McCullough   with illuminations by Maia Kobabe.\",\n\"McCullough, Joy, author.\",\n\"\"],\n [{\n            'v': 24044,\n            'f': \"24044\",\n        },\n\"b39708081\",\n\"Love in English / Maria E. Andreu.\",\n\"Andreu, Maria E., author.\",\n\"\"],\n [{\n            'v': 24529,\n            'f': \"24529\",\n        },\n\"b39756154\",\n\"The mirror season / Anna-Marie McLemore.\",\n\"McLemore, Anna-Marie, author.\",\n\"\"],\n [{\n            'v': 24934,\n            'f': \"24934\",\n        },\n\"b39782219\",\n\"Somewhere between bitter and sweet / Laekan Zea Kemp.\",\n\"Kemp, Laekan Zea, author.\",\n\"\"],\n [{\n            'v': 25172,\n            'f': \"25172\",\n        },\n\"b3981287x\",\n\"She's too pretty to burn / Wendy Heard.\",\n\"Heard, Wendy, author.\",\n\"\"],\n [{\n            'v': 25298,\n            'f': \"25298\",\n        },\n\"b39817222\",\n\"Meet cute diary / Emery Lee.\",\n\"Lee, Emery, author.\",\n\"\"],\n [{\n            'v': 25533,\n            'f': \"25533\",\n        },\n\"b39837361\",\n\"The hazards of love. Book 1, Bright world / writing, art, colors, and letters by Stan Stanley.\",\n\"Stanley, Stan, author, illustrator, colorist, letterer.\",\n\"\"],\n [{\n            'v': 25653,\n            'f': \"25653\",\n        },\n\"b3984237x\",\n\"The immortal boy / Francisco Monta\\u00f1a Ib\\u00e1\\u00f1ez   translated by David Bowles. El inmortal / Francisco Monta\\u00f1a Ib\\u00e1\\u00f1ez.\",\n\"Monta\\u00f1a Ib\\u00e1\\u00f1ez, Francisco, author.\",\n\"\"],\n [{\n            'v': 25953,\n            'f': \"25953\",\n        },\n\"b39874102\",\n\"Illusionary / Zoraida C\\u00f3rdova.\",\n\"C\\u00f3rdova, Zoraida, author.\",\n\"\"],\n [{\n            'v': 25968,\n            'f': \"25968\",\n        },\n\"b39874394\",\n\"Indivisible / by Daniel Aleman.\",\n\"Aleman, Daniel, author.\",\n\"\"],\n [{\n            'v': 26910,\n            'f': \"26910\",\n        },\n\"b39946253\",\n\"Fire with fire / Destiny Soria.\",\n\"Soria, Destiny, author.\",\n\"\"],\n [{\n            'v': 26913,\n            'f': \"26913\",\n        },\n\"b39946290\",\n\"Oculta / Maya Motayne.\",\n\"Motayne, Maya, author.\",\n\"\"],\n [{\n            'v': 27231,\n            'f': \"27231\",\n        },\n\"b39976610\",\n\"On the hook / Francisco X. Stork.\",\n\"Stork, Francisco X., author.\",\n\"\"],\n [{\n            'v': 27269,\n            'f': \"27269\",\n        },\n\"b39986147\",\n\"Don't hate the player / Alexis Nedd.\",\n\"Nedd, Alexis, author.\",\n\"\"],\n [{\n            'v': 27365,\n            'f': \"27365\",\n        },\n\"b39996931\",\n\"Fifteen hundred miles from the sun : a novel / Jonny Garza Villa.\",\n\"Villa, Jonny Garza, author.\",\n\"\"],\n [{\n            'v': 27463,\n            'f': \"27463\",\n        },\n\"b40010065\",\n\"Incendiary / Zoraida Cordova.\",\n\"C\\u00f3rdova, Zoraida. author.\",\n\"\"],\n [{\n            'v': 27916,\n            'f': \"27916\",\n        },\n\"b40109999\",\n\"All these warriors / by Amy Tintera.\",\n\"Tintera, Amy, author.\",\n\"\"],\n [{\n            'v': 27917,\n            'f': \"27917\",\n        },\n\"b40110011\",\n\"The great big one / J.C. Geiger.\",\n\"Geiger, J. C. (Jeffrey Clayton), 1979- author.\",\n\"\"],\n [{\n            'v': 27918,\n            'f': \"27918\",\n        },\n\"b40110035\",\n\"The right side of reckless / Whitney D. Grandison.\",\n\"Grandison, Whitney D., author.\",\n\"\"],\n [{\n            'v': 28417,\n            'f': \"28417\",\n        },\n\"b40185023\",\n\"The buried  : no light   no contact   nowhere to hide / Melissa Grey.\",\n\"Grey, Melissa, author.\",\n\"\"],\n [{\n            'v': 28439,\n            'f': \"28439\",\n        },\n\"b40185527\",\n\"Aristotle and Dante dive into the waters of the world / Benjamin Alire Saenz.\",\n\"S\\u00e1enz, Benjamin Alire, author.\",\n\"\"],\n [{\n            'v': 28446,\n            'f': \"28446\",\n        },\n\"b40185655\",\n\"We light up the sky / by Lilliam Rivera.\",\n\"Rivera, Lilliam, author.\",\n\"\"],\n [{\n            'v': 28450,\n            'f': \"28450\",\n        },\n\"b40185758\",\n\"Where I belong / Marcia Argueta Mickelson.\",\n\"Mickelson, Marcia Argueta, 1973- author.\",\n\"\"],\n [{\n            'v': 28455,\n            'f': \"28455\",\n        },\n\"b40185813\",\n\"Summer in the city of roses / Michelle Ruiz Keil.\",\n\"Keil, Michelle Ruiz, author.\",\n\"\"],\n [{\n            'v': 28461,\n            'f': \"28461\",\n        },\n\"b40185916\",\n\"How Moon Fuentez fell in love with the universe / by Raquel Vasquez Gilliland.\",\n\"Vasquez Gilliland, Raquel, author.\",\n\"\"],\n [{\n            'v': 28477,\n            'f': \"28477\",\n        },\n\"b4018612x\",\n\"When we make it / Elisabet Velasquez.\",\n\"Velasquez, Elisabet, author.\",\n\"\"],\n [{\n            'v': 28485,\n            'f': \"28485\",\n        },\n\"b4018626x\",\n\"Everything within and in between / Nikki Barthelmess.\",\n\"Barthelmess, Nikki, author.\",\n\"\"],\n [{\n            'v': 28488,\n            'f': \"28488\",\n        },\n\"b40186295\",\n\"Our way back to always / Nina Moreno.\",\n\"Moreno, Nina (Young adult fiction writer), author.\",\n\"\"],\n [{\n            'v': 28516,\n            'f': \"28516\",\n        },\n\"b40186908\",\n\"Living beyond borders : growing up Mexican in America / edited by Margarita Longoria.\",\n\"\",\n\"\"],\n [{\n            'v': 29206,\n            'f': \"29206\",\n        },\n\"b40232542\",\n\"Like a love song / Gabriela Martins.\",\n\"Martins, Gabriela, author.\",\n\"\"],\n [{\n            'v': 29373,\n            'f': \"29373\",\n        },\n\"b40248847\",\n\"Clockwork curandera. Volume 1, The witch owl parliament / created by David Bowles & Ra\\u00fal the Third   colors by Stacey Robinson   lettering by Damian Duffy.\",\n\"Bowles, David (David O.), author.\",\n\"\"],\n [{\n            'v': 29375,\n            'f': \"29375\",\n        },\n\"b40248914\",\n\"Unearthed : a Jessica Cruz story / written by Lilliam Rivera   art by Steph C.   letters by Gabriela Downie.\",\n\"Rivera, Lilliam, writer.\",\n\"\"]],\n        columns: [[\"number\", \"index\"], [\"string\", \"record num\"], [\"string\", \"title\"], [\"string\", \"author\"], [\"string\", \"publish year\"]],\n        columnOptions: [{\"width\": \"1px\", \"className\": \"index_column\"}],\n        rowsPerPage: 25,\n        helpUrl: \"https://colab.research.google.com/notebooks/data_table.ipynb\",\n        suppressOutputScrolling: true,\n        minimumWidth: undefined,\n      });\n    ",
            "text/html": [
              "<div>\n",
              "<style scoped>\n",
              "    .dataframe tbody tr th:only-of-type {\n",
              "        vertical-align: middle;\n",
              "    }\n",
              "\n",
              "    .dataframe tbody tr th {\n",
              "        vertical-align: top;\n",
              "    }\n",
              "\n",
              "    .dataframe thead th {\n",
              "        text-align: right;\n",
              "    }\n",
              "</style>\n",
              "<table border=\"1\" class=\"dataframe\">\n",
              "  <thead>\n",
              "    <tr style=\"text-align: right;\">\n",
              "      <th></th>\n",
              "      <th>record num</th>\n",
              "      <th>title</th>\n",
              "      <th>author</th>\n",
              "      <th>publish year</th>\n",
              "    </tr>\n",
              "    <tr>\n",
              "      <th>index</th>\n",
              "      <th></th>\n",
              "      <th></th>\n",
              "      <th></th>\n",
              "      <th></th>\n",
              "    </tr>\n",
              "  </thead>\n",
              "  <tbody>\n",
              "    <tr>\n",
              "      <th>1282</th>\n",
              "      <td>b37139939</td>\n",
              "      <td>The disturbed girl's dictionary / NoNieqa Ramos.</td>\n",
              "      <td>Ramos, NoNieqa, author.</td>\n",
              "      <td></td>\n",
              "    </tr>\n",
              "    <tr>\n",
              "      <th>1559</th>\n",
              "      <td>b37167741</td>\n",
              "      <td>The poet X / a novel by Elizabeth Acevedo.</td>\n",
              "      <td>Acevedo, Elizabeth, author.</td>\n",
              "      <td></td>\n",
              "    </tr>\n",
              "    <tr>\n",
              "      <th>3063</th>\n",
              "      <td>b37340372</td>\n",
              "      <td>Photographic : the life of Graciela Iturbide /...</td>\n",
              "      <td>Quintero, Isabel, author.</td>\n",
              "      <td></td>\n",
              "    </tr>\n",
              "    <tr>\n",
              "      <th>3064</th>\n",
              "      <td>b37340396</td>\n",
              "      <td>America : fast and fuertona / Gabby Rivera, wr...</td>\n",
              "      <td>Rivera, Gabby, author.</td>\n",
              "      <td></td>\n",
              "    </tr>\n",
              "    <tr>\n",
              "      <th>4951</th>\n",
              "      <td>b37557130</td>\n",
              "      <td>What if it's us / Becky Albertalli &amp; Adam Silv...</td>\n",
              "      <td>Albertalli, Becky, author.</td>\n",
              "      <td></td>\n",
              "    </tr>\n",
              "    <tr>\n",
              "      <th>...</th>\n",
              "      <td>...</td>\n",
              "      <td>...</td>\n",
              "      <td>...</td>\n",
              "      <td>...</td>\n",
              "    </tr>\n",
              "    <tr>\n",
              "      <th>28488</th>\n",
              "      <td>b40186295</td>\n",
              "      <td>Our way back to always / Nina Moreno.</td>\n",
              "      <td>Moreno, Nina (Young adult fiction writer), aut...</td>\n",
              "      <td></td>\n",
              "    </tr>\n",
              "    <tr>\n",
              "      <th>28516</th>\n",
              "      <td>b40186908</td>\n",
              "      <td>Living beyond borders : growing up Mexican in ...</td>\n",
              "      <td></td>\n",
              "      <td></td>\n",
              "    </tr>\n",
              "    <tr>\n",
              "      <th>29206</th>\n",
              "      <td>b40232542</td>\n",
              "      <td>Like a love song / Gabriela Martins.</td>\n",
              "      <td>Martins, Gabriela, author.</td>\n",
              "      <td></td>\n",
              "    </tr>\n",
              "    <tr>\n",
              "      <th>29373</th>\n",
              "      <td>b40248847</td>\n",
              "      <td>Clockwork curandera. Volume 1, The witch owl p...</td>\n",
              "      <td>Bowles, David (David O.), author.</td>\n",
              "      <td></td>\n",
              "    </tr>\n",
              "    <tr>\n",
              "      <th>29375</th>\n",
              "      <td>b40248914</td>\n",
              "      <td>Unearthed : a Jessica Cruz story / written by ...</td>\n",
              "      <td>Rivera, Lilliam, writer.</td>\n",
              "      <td></td>\n",
              "    </tr>\n",
              "  </tbody>\n",
              "</table>\n",
              "<p>99 rows × 4 columns</p>\n",
              "</div>"
            ],
            "text/plain": [
              "      record num  ... publish year\n",
              "index             ...             \n",
              "1282   b37139939  ...             \n",
              "1559   b37167741  ...             \n",
              "3063   b37340372  ...             \n",
              "3064   b37340396  ...             \n",
              "4951   b37557130  ...             \n",
              "...          ...  ...          ...\n",
              "28488  b40186295  ...             \n",
              "28516  b40186908  ...             \n",
              "29206  b40232542  ...             \n",
              "29373  b40248847  ...             \n",
              "29375  b40248914  ...             \n",
              "\n",
              "[99 rows x 4 columns]"
            ]
          },
          "metadata": {},
          "execution_count": 17
        }
      ]
    },
    {
      "cell_type": "markdown",
      "metadata": {
        "id": "-h-VhKIKaOeZ"
      },
      "source": [
        "Download results to an Excel file"
      ]
    },
    {
      "cell_type": "code",
      "metadata": {
        "colab": {
          "base_uri": "https://localhost:8080/",
          "height": 17
        },
        "id": "wLTAiD5GTzNI",
        "outputId": "f4a1ee17-52a8-4506-d42a-89719fce32db"
      },
      "source": [
        "found_results[holdings_headers].to_excel(\"found_results.xlsx\")\n",
        "files.download('/content/found_results.xlsx')"
      ],
      "execution_count": 18,
      "outputs": [
        {
          "output_type": "display_data",
          "data": {
            "application/javascript": [
              "\n",
              "    async function download(id, filename, size) {\n",
              "      if (!google.colab.kernel.accessAllowed) {\n",
              "        return;\n",
              "      }\n",
              "      const div = document.createElement('div');\n",
              "      const label = document.createElement('label');\n",
              "      label.textContent = `Downloading \"${filename}\": `;\n",
              "      div.appendChild(label);\n",
              "      const progress = document.createElement('progress');\n",
              "      progress.max = size;\n",
              "      div.appendChild(progress);\n",
              "      document.body.appendChild(div);\n",
              "\n",
              "      const buffers = [];\n",
              "      let downloaded = 0;\n",
              "\n",
              "      const channel = await google.colab.kernel.comms.open(id);\n",
              "      // Send a message to notify the kernel that we're ready.\n",
              "      channel.send({})\n",
              "\n",
              "      for await (const message of channel.messages) {\n",
              "        // Send a message to notify the kernel that we're ready.\n",
              "        channel.send({})\n",
              "        if (message.buffers) {\n",
              "          for (const buffer of message.buffers) {\n",
              "            buffers.push(buffer);\n",
              "            downloaded += buffer.byteLength;\n",
              "            progress.value = downloaded;\n",
              "          }\n",
              "        }\n",
              "      }\n",
              "      const blob = new Blob(buffers, {type: 'application/binary'});\n",
              "      const a = document.createElement('a');\n",
              "      a.href = window.URL.createObjectURL(blob);\n",
              "      a.download = filename;\n",
              "      div.appendChild(a);\n",
              "      a.click();\n",
              "      div.remove();\n",
              "    }\n",
              "  "
            ],
            "text/plain": [
              "<IPython.core.display.Javascript object>"
            ]
          },
          "metadata": {}
        },
        {
          "output_type": "display_data",
          "data": {
            "application/javascript": [
              "download(\"download_3f23c3ad-fe09-4bc2-b82a-d09ae28ee5fc\", \"found_results.xlsx\", 11372)"
            ],
            "text/plain": [
              "<IPython.core.display.Javascript object>"
            ]
          },
          "metadata": {}
        }
      ]
    },
    {
      "cell_type": "markdown",
      "metadata": {
        "id": "Rw9Hd929ao5p"
      },
      "source": [
        "Create missing dataframe containing the titles from the booklist that were not matched to your holdings"
      ]
    },
    {
      "cell_type": "code",
      "metadata": {
        "id": "3ZcCIo2Ojgng"
      },
      "source": [
        "booklist_found = booklist_df.reset_index().merge(mts.loc[mts['conf'] >= match_conf], left_on='BooklistMatch', right_on='booklist_match').set_index('index')\n",
        "common = booklist_df.merge(booklist_found, how='outer', left_index=True, right_index=True)\n",
        "common = common[common[['conf']].notna().all(axis=1)]\n",
        "missing = booklist_df.merge(common, how='outer', left_index=True, right_index=True)"
      ],
      "execution_count": 19,
      "outputs": []
    },
    {
      "cell_type": "markdown",
      "metadata": {
        "id": "_uZJOGumNDKr"
      },
      "source": [
        "**Titles Not in your collection**"
      ]
    },
    {
      "cell_type": "code",
      "metadata": {
        "colab": {
          "base_uri": "https://localhost:8080/",
          "height": 1050
        },
        "id": "e5vezPTxFPNg",
        "outputId": "3359bf22-9a82-41a1-8fd8-917fe645be64"
      },
      "source": [
        "missing = missing[missing['conf'].isnull()][booklist_headers]\n",
        "missing"
      ],
      "execution_count": 20,
      "outputs": [
        {
          "output_type": "execute_result",
          "data": {
            "application/vnd.google.colaboratory.module+javascript": "\n      import \"https://ssl.gstatic.com/colaboratory/data_table/a6224c040fa35dcf/data_table.js\";\n\n      window.createDataTable({\n        data: [[{\n            'v': 0,\n            'f': \"0\",\n        },\n\"\\u00bfsabes Qui\\u00e9n Es Zapata? / Do You Know Who Zapata Is?\\u00a0(Spanish)\",\n\"Leyva, Amaranta\",\n{\n            'v': 9786073183574,\n            'f': \"9786073183574\",\n        },\n\"Paperback\",\n\"Alfaguara Infantil\",\n\"2020-06-23 00:00:00\",\n{\n            'v': 12.95,\n            'f': \"12.95\",\n        }],\n [{\n            'v': 1,\n            'f': \"1\",\n        },\n\"21: The Story of Roberto Clemente\",\n\"Santiago, Wilfred\",\n{\n            'v': 9781606997758,\n            'f': \"9781606997758\",\n        },\n\"Paperback\",\n\"Fantagraphics Books\",\n\"2014-09-21 00:00:00\",\n{\n            'v': 19.99,\n            'f': \"19.99\",\n        }],\n [{\n            'v': 3,\n            'f': \"3\",\n        },\n\"Absolute Carnage: Miles Morales\",\n\"Ahmed, Saladin\",\n{\n            'v': 9781302920142,\n            'f': \"9781302920142\",\n        },\n\"Paperback\",\n\"Marvel\",\n\"2020-01-28 00:00:00\",\n{\n            'v': 15.99,\n            'f': \"15.99\",\n        }],\n [{\n            'v': 4,\n            'f': \"4\",\n        },\n\"Albert Pujols\\u00a0(Beisbol! Latino Heroes of Major League Baseball)\",\n\"Leventhal, Josh\",\n{\n            'v': 9781680720495,\n            'f': \"9781680720495\",\n        },\n\"Hardcover\",\n\"Black Rabbit Books/Bolt\",\n\"2017-09-01 00:00:00\",\n{\n            'v': 32.8,\n            'f': \"32.8\",\n        }],\n [{\n            'v': 5,\n            'f': \"5\",\n        },\n\"Alexandria Ocasio-Cortez: Political Headliner\\u00a0(Gateway Biographies)\",\n\"Leigh, Anna\",\n{\n            'v': 9781541588875,\n            'f': \"9781541588875\",\n        },\n\"Paperback\",\n\"Lerner Publications (Tm)\",\n\"2020-01-01 00:00:00\",\n{\n            'v': 10.99,\n            'f': \"10.99\",\n        }],\n [{\n            'v': 6,\n            'f': \"6\",\n        },\n\"Alicia Alonso: Prima Ballerina\",\n\"Bernier-Grand, Carmen\",\n{\n            'v': 9781477810743,\n            'f': \"9781477810743\",\n        },\n\"Paperback\",\n\"Two Lions\",\n\"2019-01-15 00:00:00\",\n{\n            'v': 9.99,\n            'f': \"9.99\",\n        }],\n [{\n            'v': 9,\n            'f': \"9\",\n        },\n\"America Chavez: Made in the USA\",\n\"Vazquez, Kalinda\",\n{\n            'v': 9781302924454,\n            'f': \"9781302924454\",\n        },\n\"Paperback\",\n\"Marvel\",\n\"2021-11-02 00:00:00\",\n{\n            'v': 15.99,\n            'f': \"15.99\",\n        }],\n [{\n            'v': 11,\n            'f': \"11\",\n        },\n\"Arana: Here Comes the Spider-Girl Gn-Tpb\",\n\"Avery, Fiona\",\n{\n            'v': 9781302926465,\n            'f': \"9781302926465\",\n        },\n\"Paperback\",\n\"Marvel\",\n\"2021-01-05 00:00:00\",\n{\n            'v': 12.99,\n            'f': \"12.99\",\n        }],\n [{\n            'v': 12,\n            'f': \"12\",\n        },\n\"Aristotle and Dante Discover the Secrets of the Universe\\u00a0(Aristotle and Dante)\",\n\"S\\u00e1enz, Benjamin Alire\",\n{\n            'v': 9781442408920,\n            'f': \"9781442408920\",\n        },\n\"Hardcover\",\n\"Simon & Schuster Books for Young Readers\",\n\"2012-02-21 00:00:00\",\n{\n            'v': 24.99,\n            'f': \"24.99\",\n        }],\n [{\n            'v': 14,\n            'f': \"14\",\n        },\n\"Barbados\\u00a0(Cultures of the World (Third Edition)(R))\",\n\"Bryan, Bethany\",\n{\n            'v': 9781502647306,\n            'f': \"9781502647306\",\n        },\n\"Library Binding\",\n\"Cavendish Square Publishing\",\n\"2019-04-30 00:00:00\",\n{\n            'v': 47.07,\n            'f': \"47.07\",\n        }],\n [{\n            'v': 16,\n            'f': \"16\",\n        },\n\"Before We Were Free\",\n\"Alvarez, Julia\",\n{\n            'v': 9780399555497,\n            'f': \"9780399555497\",\n        },\n\"Paperback\",\n\"Ember\",\n\"2018-03-27 00:00:00\",\n{\n            'v': 8.99,\n            'f': \"8.99\",\n        }],\n [{\n            'v': 17,\n            'f': \"17\",\n        },\n\"Blackbird Volume 1\",\n\"Humphries, Sam\",\n{\n            'v': 9781534312593,\n            'f': \"9781534312593\",\n        },\n\"Paperback\",\n\"Image Comics\",\n\"2019-05-14 00:00:00\",\n{\n            'v': 16.99,\n            'f': \"16.99\",\n        }],\n [{\n            'v': 19,\n            'f': \"19\",\n        },\n\"Blue Beetle Vol. 2: Hard Choices (Rebirth)\",\n\"Giffen, Keith\",\n{\n            'v': 9781401275075,\n            'f': \"9781401275075\",\n        },\n\"Paperback\",\n\"DC Comics\",\n\"2018-01-02 00:00:00\",\n{\n            'v': 16.99,\n            'f': \"16.99\",\n        }],\n [{\n            'v': 20,\n            'f': \"20\",\n        },\n\"Blue Beetle Vol. 3: Road to Nowhere\",\n\"Sebela, Christopher\",\n{\n            'v': 9781401280833,\n            'f': \"9781401280833\",\n        },\n\"Paperback\",\n\"DC Comics\",\n\"2018-07-17 00:00:00\",\n{\n            'v': 16.99,\n            'f': \"16.99\",\n        }],\n [{\n            'v': 21,\n            'f': \"21\",\n        },\n\"Bolivia (Enchantment of the World) (Library Edition) (Library)\\u00a0(Enchantment of the World)\",\n\"Yomtov, Nel\",\n{\n            'v': 9780531126943,\n            'f': \"9780531126943\",\n        },\n\"Hardcover\",\n\"C. Press/F. Watts Trade\",\n\"2019-02-01 00:00:00\",\n{\n            'v': 40.0,\n            'f': \"40.0\",\n        }],\n [{\n            'v': 23,\n            'f': \"23\",\n        },\n\"Cane Warriors\",\n\"Wheatle, Alex\",\n{\n            'v': 9781617759062,\n            'f': \"9781617759062\",\n        },\n\"Hardcover\",\n\"Black Sheep\",\n\"2020-10-20 00:00:00\",\n{\n            'v': 33.95,\n            'f': \"33.95\",\n        }],\n [{\n            'v': 24,\n            'f': \"24\",\n        },\n\"Cazadora\\u00a0(Wolves of No World\\u00a0#2)\",\n\"Garber, Romina\",\n{\n            'v': 9781250239150,\n            'f': \"9781250239150\",\n        },\n\"Hardcover\",\n\"Wednesday Books\",\n\"2021-08-17 00:00:00\",\n{\n            'v': 18.99,\n            'f': \"18.99\",\n        }],\n [{\n            'v': 26,\n            'f': \"26\",\n        },\n\"C\\u00e9sar Ch\\u00e1vez: Fighting for Migrant Farmworkers\\u00a0(Rebels with a Cause)\",\n\"Gay, Kathlyn\",\n{\n            'v': 9780766089518,\n            'f': \"9780766089518\",\n        },\n\"Library Binding\",\n\"Enslow Publishing\",\n\"2017-07-30 00:00:00\",\n{\n            'v': 37.27,\n            'f': \"37.27\",\n        }],\n [{\n            'v': 27,\n            'f': \"27\",\n        },\n\"Champions by Jim Zub Vol. 1: Beat the Devil\",\n\"Zub, Jim\",\n{\n            'v': 9781302916718,\n            'f': \"9781302916718\",\n        },\n\"Paperback\",\n\"Marvel\",\n\"2019-08-20 00:00:00\",\n{\n            'v': 17.99,\n            'f': \"17.99\",\n        }],\n [{\n            'v': 29,\n            'f': \"29\",\n        },\n\"City of the Beasts\\u00a0(Memories of the Eagle and the Jaguar\\u00a0#1)\\u00a0Easy Reads\",\n\"Allende, Isabel\",\n{\n            'v': 9780063062900,\n            'f': \"9780063062900\",\n        },\n\"Paperback\",\n\"Katherine Tegen Books\",\n\"2021-01-05 00:00:00\",\n{\n            'v': 10.99,\n            'f': \"10.99\",\n        }],\n [{\n            'v': 31,\n            'f': \"31\",\n        },\n\"Cristiano Ronaldo\\u00a0(Soccer Superstars)\",\n\"Spragg, Iain\",\n{\n            'v': 9781725340336,\n            'f': \"9781725340336\",\n        },\n\"Paperback\",\n\"Rosen Young Adult\",\n\"2019-07-30 00:00:00\",\n{\n            'v': 12.95,\n            'f': \"12.95\",\n        }],\n [{\n            'v': 32,\n            'f': \"32\",\n        },\n\"Cristiano Ronaldo: World-Beater\\u00a0(At the Top of Their Game)\",\n\"Doyle, Brian\",\n{\n            'v': 9781502628343,\n            'f': \"9781502628343\",\n        },\n\"Library Binding\",\n\"Cavendish Square Publishing\",\n\"2017-07-30 00:00:00\",\n{\n            'v': 42.79,\n            'f': \"42.79\",\n        }],\n [{\n            'v': 33,\n            'f': \"33\",\n        },\n\"Cuarto Oscuro: Recuerdos En Blanco Y Negro (Spanish Translation)\\u00a0(Spanish)\",\n\"Weaver, Lila Quintero\",\n{\n            'v': 9780817359072,\n            'f': \"9780817359072\",\n        },\n\"Paperback\",\n\"University Alabama Press\",\n\"2018-01-09 00:00:00\",\n{\n            'v': 24.95,\n            'f': \"24.95\",\n        }],\n [{\n            'v': 35,\n            'f': \"35\",\n        },\n\"Dolores Huerta Stands Strong: The Woman Who Demanded Justice\\u00a0(Biographies for Young Readers)\",\n\"Brill, Marlene Targ\",\n{\n            'v': 9780821423295,\n            'f': \"9780821423295\",\n        },\n\"Hardcover\",\n\"Ohio University Press\",\n\"2018-08-16 00:00:00\",\n{\n            'v': 32.95,\n            'f': \"32.95\",\n        }],\n [{\n            'v': 36,\n            'f': \"36\",\n        },\n\"Dominican Republic (Enchantment of the World) (Library Edition) (Library)\\u00a0(Enchantment of the World)\",\n\"Rogers, Barbara Radcliffe\",\n{\n            'v': 9780531126967,\n            'f': \"9780531126967\",\n        },\n\"Hardcover\",\n\"C. Press/F. Watts Trade\",\n\"2019-02-01 00:00:00\",\n{\n            'v': 40.0,\n            'f': \"40.0\",\n        }],\n [{\n            'v': 41,\n            'f': \"41\",\n        },\n\"Dragonblood Ring\",\n\"Ortiz, Amparo\",\n{\n            'v': 9781645673163,\n            'f': \"9781645673163\",\n        },\n\"Hardcover\",\n\"Page Street Kids\",\n\"2021-10-12 00:00:00\",\n{\n            'v': 18.99,\n            'f': \"18.99\",\n        }],\n [{\n            'v': 44,\n            'f': \"44\",\n        },\n\"Epic Athletes: Lionel Messi\\u00a0(Epic Athletes, 6)\",\n\"Wetzel, Dan\",\n{\n            'v': 9781250295811,\n            'f': \"9781250295811\",\n        },\n\"Hardcover\",\n\"Henry Holt & Company\",\n\"2019-11-12 00:00:00\",\n{\n            'v': 16.99,\n            'f': \"16.99\",\n        }],\n [{\n            'v': 47,\n            'f': \"47\",\n        },\n\"Felix Hernandez\\u00a0(Beisbol! Latino Heroes of Major League Baseball)\",\n\"Leventhal, Josh\",\n{\n            'v': 9781680720471,\n            'f': \"9781680720471\",\n        },\n\"Hardcover\",\n\"Black Rabbit Books/Bolt\",\n\"2017-09-01 00:00:00\",\n{\n            'v': 32.8,\n            'f': \"32.8\",\n        }],\n [{\n            'v': 50,\n            'f': \"50\",\n        },\n\"Forget This Ever Happened\",\n\"Clarke, Cassandra Rose\",\n{\n            'v': 9780823446087,\n            'f': \"9780823446087\",\n        },\n\"Hardcover\",\n\"Holiday House\",\n\"2020-10-06 00:00:00\",\n{\n            'v': 18.99,\n            'f': \"18.99\",\n        }],\n [{\n            'v': 51,\n            'f': \"51\",\n        },\n\"Frida Kahlo\\u00a0(Genius)\",\n\"Munoz, Isabel\",\n{\n            'v': 9788854413603,\n            'f': \"9788854413603\",\n        },\n\"Hardcover\",\n\"White Star Kids\",\n\"2019-03-05 00:00:00\",\n{\n            'v': 9.95,\n            'f': \"9.95\",\n        }],\n [{\n            'v': 52,\n            'f': \"52\",\n        },\n\"Frida Kahlo: Artist and Activist\\u00a0(Gateway Biographies)\",\n\"Doeden, Matt\",\n{\n            'v': 9781541588882,\n            'f': \"9781541588882\",\n        },\n\"Paperback\",\n\"Lerner Publications (Tm)\",\n\"2020-01-01 00:00:00\",\n{\n            'v': 10.99,\n            'f': \"10.99\",\n        }],\n [{\n            'v': 53,\n            'f': \"53\",\n        },\n\"From Farmworker to Astronaut/de Campesino a Astronauta: My Path to the Stars/Mi Viaje a Las Estrellas\\u00a0(Spanish, English)\",\n\"Hernandez, Jose M\",\n{\n            'v': 9781558858688,\n            'f': \"9781558858688\",\n        },\n\"Paperback\",\n\"Pinata Books\",\n\"2019-10-31 00:00:00\",\n{\n            'v': 10.95,\n            'f': \"10.95\",\n        }],\n [{\n            'v': 55,\n            'f': \"55\",\n        },\n\"Gabi, a Girl in Pieces\\u00a0(Junior Library Guild Selection)\\u00a0Easy Reads\",\n\"Quintero, Isabel\",\n{\n            'v': 9781935955948,\n            'f': \"9781935955948\",\n        },\n\"Hardcover\",\n\"Cinco Puntos Press\",\n\"2014-10-14 00:00:00\",\n{\n            'v': 17.95,\n            'f': \"17.95\",\n        }],\n [{\n            'v': 56,\n            'f': \"56\",\n        },\n\"Germ\\u00e1n Garmendia: Star Chilean Gamer with 10 Billion+ Views\\u00a0(Top Video Gamers in the World)\",\n\"Hall, Kevin\",\n{\n            'v': 9781725346062,\n            'f': \"9781725346062\",\n        },\n\"Paperback\",\n\"Rosen Central\",\n\"2019-07-30 00:00:00\",\n{\n            'v': 11.75,\n            'f': \"11.75\",\n        }],\n [{\n            'v': 57,\n            'f': \"57\",\n        },\n\"Goodbye, My Havana: The Life and Times of a Gringa in Revolutionary Cuba\",\n\"Veltfort, Anna\",\n{\n            'v': 9781503610491,\n            'f': \"9781503610491\",\n        },\n\"Paperback\",\n\"Redwood Press\",\n\"2019-10-08 00:00:00\",\n{\n            'v': 24.0,\n            'f': \"24.0\",\n        }],\n [{\n            'v': 59,\n            'f': \"59\",\n        },\n\"Growing Up in Brazil\\u00a0(Growing Up Around the World)\",\n\"Allen, John\",\n{\n            'v': 9781682822050,\n            'f': \"9781682822050\",\n        },\n\"Hardcover\",\n\"Referencepoint Press\",\n\"2017-09-15 00:00:00\",\n{\n            'v': 31.95,\n            'f': \"31.95\",\n        }],\n [{\n            'v': 60,\n            'f': \"60\",\n        },\n\"Growing Up in Mexico\\u00a0(Growing Up Around the World)\",\n\"Sheen, Barbara\",\n{\n            'v': 9781682822210,\n            'f': \"9781682822210\",\n        },\n\"Hardcover\",\n\"Referencepoint Press\",\n\"2017-09-15 00:00:00\",\n{\n            'v': 31.95,\n            'f': \"31.95\",\n        }],\n [{\n            'v': 61,\n            'f': \"61\",\n        },\n\"Guyana\\u00a0(Cultures of the World (Third Edition)(R))\",\n\"Nevins, Debbie\",\n{\n            'v': 9781502647467,\n            'f': \"9781502647467\",\n        },\n\"Library Binding\",\n\"Cavendish Square Publishing\",\n\"2019-07-30 00:00:00\",\n{\n            'v': 47.07,\n            'f': \"47.07\",\n        }],\n [{\n            'v': 62,\n            'f': \"62\",\n        },\n\"Hab\\u00eda una Vez...Mexicanas Que Hicieron Historia\\u00a0(Spanish)\",\n\"Orozco, Fa\",\n{\n            'v': 9786073176040,\n            'f': \"9786073176040\",\n        },\n\"Paperback\",\n\"Alfaguara Juvenil\",\n\"2019-06-25 00:00:00\",\n{\n            'v': 19.95,\n            'f': \"19.95\",\n        }],\n [{\n            'v': 64,\n            'f': \"64\",\n        },\n\"Here's to Us\\u00a0- Street Smart\",\n\"Albertalli, Becky\",\n{\n            'v': 9780063071636,\n            'f': \"9780063071636\",\n        },\n\"Hardcover\",\n\"Quill Tree Books\",\n\"2021-12-28 00:00:00\",\n{\n            'v': 19.99,\n            'f': \"19.99\",\n        }],\n [{\n            'v': 65,\n            'f': \"65\",\n        },\n\"Hispanic in America\\u00a0(Bias in America)\",\n\"Gallagher, Jim\",\n{\n            'v': 9781682828939,\n            'f': \"9781682828939\",\n        },\n\"Hardcover\",\n\"Referencepoint Press\",\n\"2020-08-01 00:00:00\",\n{\n            'v': 31.95,\n            'f': \"31.95\",\n        }],\n [{\n            'v': 67,\n            'f': \"67\",\n        },\n\"Home\",\n\"Anta, Julio\",\n{\n            'v': 9781534319974,\n            'f': \"9781534319974\",\n        },\n\"Paperback\",\n\"Image Comics\",\n\"2021-11-23 00:00:00\",\n{\n            'v': 16.99,\n            'f': \"16.99\",\n        }],\n [{\n            'v': 68,\n            'f': \"68\",\n        },\n\"Honduras\\u00a0(Cultures of the World (Third Edition)(R))\",\n\"Wehner, Lauren\",\n{\n            'v': 9781502641021,\n            'f': \"9781502641021\",\n        },\n\"Library Binding\",\n\"Cavendish Square Publishing\",\n\"2018-12-30 00:00:00\",\n{\n            'v': 47.07,\n            'f': \"47.07\",\n        }],\n [{\n            'v': 71,\n            'f': \"71\",\n        },\n\"I Am Not Your Perfect Mexican Daughter\",\n\"S\\u00e1nchez, Erika L\",\n{\n            'v': 9781524700485,\n            'f': \"9781524700485\",\n        },\n\"Hardcover\",\n\"Alfred A. Knopf Books for Young Readers\",\n\"2017-10-17 00:00:00\",\n{\n            'v': 17.99,\n            'f': \"17.99\",\n        }],\n [{\n            'v': 72,\n            'f': \"72\",\n        },\n\"Illegal: A Disappeared Novel, 2\",\n\"Stork, Francisco X\",\n{\n            'v': 9781338310559,\n            'f': \"9781338310559\",\n        },\n\"Hardcover\",\n\"Scholastic Press\",\n\"2020-08-04 00:00:00\",\n{\n            'v': 18.99,\n            'f': \"18.99\",\n        }],\n [{\n            'v': 78,\n            'f': \"78\",\n        },\n\"It's All Love: Reflections for Your Heart & Soul\",\n\"Ortega, Jenna\",\n{\n            'v': 9780593174562,\n            'f': \"9780593174562\",\n        },\n\"Hardcover\",\n\"Random House Books for Young Readers\",\n\"2021-01-05 00:00:00\",\n{\n            'v': 16.99,\n            'f': \"16.99\",\n        }],\n [{\n            'v': 80,\n            'f': \"80\",\n        },\n\"Jonesy Vol. 2, 2\\u00a0(Jonesy\\u00a0#2)\",\n\"Humphries, Sam\",\n{\n            'v': 9781608869992,\n            'f': \"9781608869992\",\n        },\n\"Paperback\",\n\"Boom! Studios\",\n\"2017-05-09 00:00:00\",\n{\n            'v': 14.99,\n            'f': \"14.99\",\n        }],\n [{\n            'v': 81,\n            'f': \"81\",\n        },\n\"Jonesy Vol. 3, 3\\u00a0(Jonesy\\u00a0#3)\",\n\"Humphries, Sam\",\n{\n            'v': 9781684150168,\n            'f': \"9781684150168\",\n        },\n\"Paperback\",\n\"Boom Box\",\n\"2017-09-19 00:00:00\",\n{\n            'v': 14.99,\n            'f': \"14.99\",\n        }],\n [{\n            'v': 82,\n            'f': \"82\",\n        },\n\"Jose Altuve\\u00a0(Beisbol! Latino Heroes of Major League Baseball)\",\n\"Leventhal, Josh\",\n{\n            'v': 9781680720440,\n            'f': \"9781680720440\",\n        },\n\"Hardcover\",\n\"Black Rabbit Books/Bolt\",\n\"2017-09-01 00:00:00\",\n{\n            'v': 32.8,\n            'f': \"32.8\",\n        }],\n [{\n            'v': 83,\n            'f': \"83\",\n        },\n\"Jose Altuve: Baseball Superstar\\u00a0(Star Athletes)\",\n\"Sandalow, Brian\",\n{\n            'v': 9781532119873,\n            'f': \"9781532119873\",\n        },\n\"Library Binding\",\n\"Essential Library\",\n\"2019-08-01 00:00:00\",\n{\n            'v': 37.07,\n            'f': \"37.07\",\n        }],\n [{\n            'v': 84,\n            'f': \"84\",\n        },\n\"Journey Into Mexico: The Revenge of Supay\",\n\"Grand, Alex\",\n{\n            'v': 9781736547663,\n            'f': \"9781736547663\",\n        },\n\"Paperback\",\n\"Comic Book Historians\",\n\"2021-03-01 00:00:00\",\n{\n            'v': 21.99,\n            'f': \"21.99\",\n        }],\n [{\n            'v': 85,\n            'f': \"85\",\n        },\n\"Juliet Takes a Breath: The Graphic Novel\",\n\"Rivera, Gabby\",\n{\n            'v': 9781684156115,\n            'f': \"9781684156115\",\n        },\n\"Paperback\",\n\"Boom Box\",\n\"2020-12-01 00:00:00\",\n{\n            'v': 14.99,\n            'f': \"14.99\",\n        }],\n [{\n            'v': 87,\n            'f': \"87\",\n        },\n\"Labyrinth Lost\\u00a0(Brooklyn Brujas\\u00a0#1)\",\n\"C\\u00f3rdova, Zoraida\",\n{\n            'v': 9781492623168,\n            'f': \"9781492623168\",\n        },\n\"Paperback\",\n\"Sourcebooks Fire\",\n\"2017-08-01 00:00:00\",\n{\n            'v': 10.99,\n            'f': \"10.99\",\n        }],\n [{\n            'v': 88,\n            'f': \"88\",\n        },\n\"Life and Culture in Latin America\\u00a0(People Around the World)\",\n\"Morlock, Rachael\",\n{\n            'v': 9781725321564,\n            'f': \"9781725321564\",\n        },\n\"Paperback\",\n\"PowerKids Press\",\n\"2020-12-30 00:00:00\",\n{\n            'v': 11.75,\n            'f': \"11.75\",\n        }],\n [{\n            'v': 89,\n            'f': \"89\",\n        },\n\"Lifetime Passes\",\n\"Blas, Terry\",\n{\n            'v': 9781419746666,\n            'f': \"9781419746666\",\n        },\n\"Hardcover\",\n\"Harry N. Abrams\",\n\"2021-11-23 00:00:00\",\n{\n            'v': 23.99,\n            'f': \"23.99\",\n        }],\n [{\n            'v': 91,\n            'f': \"91\",\n        },\n\"Lin-Manuel Miranda: From Broadway to the Big Screen\\u00a0(People in the News)\",\n\"Rajczak Nelson, Kristen\",\n{\n            'v': 9781534563407,\n            'f': \"9781534563407\",\n        },\n\"Paperback\",\n\"Lucent Press\",\n\"2018-07-30 00:00:00\",\n{\n            'v': 19.99,\n            'f': \"19.99\",\n        }],\n [{\n            'v': 92,\n            'f': \"92\",\n        },\n\"Lin-Manuel Miranda: Revolutionary Playwright, Composer, and Actor\\u00a0(Gateway Biographies)\",\n\"Schwartz, Heather E\",\n{\n            'v': 9781541574335,\n            'f': \"9781541574335\",\n        },\n\"Paperback\",\n\"Lerner Publications (Tm)\",\n\"2019-08-01 00:00:00\",\n{\n            'v': 10.99,\n            'f': \"10.99\",\n        }],\n [{\n            'v': 93,\n            'f': \"93\",\n        },\n\"Lionel Messi\\u00a0(Soccer Superstars)\",\n\"Perez, Mike\",\n{\n            'v': 9781725340275,\n            'f': \"9781725340275\",\n        },\n\"Paperback\",\n\"Rosen Young Adult\",\n\"2019-07-30 00:00:00\",\n{\n            'v': 12.95,\n            'f': \"12.95\",\n        }],\n [{\n            'v': 94,\n            'f': \"94\",\n        },\n\"Lionel Messi: Legendary Soccer Player\\u00a0(At the Top of Their Game)\",\n\"Shoup, Kate\",\n{\n            'v': 9781502651167,\n            'f': \"9781502651167\",\n        },\n\"Paperback\",\n\"Cavendish Square Publishing\",\n\"2019-12-30 00:00:00\",\n{\n            'v': 19.99,\n            'f': \"19.99\",\n        }],\n [{\n            'v': 95,\n            'f': \"95\",\n        },\n\"Little Giants =: Pequeanas Gigantes\\u00a0(Little Giants) (English, Spanish)\",\n\"Calderon, Raynelda a\",\n{\n            'v': 9781733139229,\n            'f': \"9781733139229\",\n        },\n\"Hardcover\",\n\"Cayena Press, Inc.\",\n\"2020-03-02 00:00:00\",\n{\n            'v': 23.99,\n            'f': \"23.99\",\n        }],\n [{\n            'v': 98,\n            'f': \"98\",\n        },\n\"Loreta Janeta Vel\\u00e1zquez: Cuban Confederate Soldier\\u00a0(Our Voices: Spanish and Latino Figures of American History)\",\n\"Imery-Garcia, Ash\",\n{\n            'v': 9781508185161,\n            'f': \"9781508185161\",\n        },\n\"Paperback\",\n\"Rosen Central\",\n\"2019-07-30 00:00:00\",\n{\n            'v': 11.75,\n            'f': \"11.75\",\n        }],\n [{\n            'v': 100,\n            'f': \"100\",\n        },\n\"Lulu and Milagro's Search for Clarity\\u00a0- Street Smart\",\n\"Velez, Angela\",\n{\n            'v': 9780063071780,\n            'f': \"9780063071780\",\n        },\n\"Hardcover\",\n\"Balzer & Bray/Harperteen\",\n\"2022-02-08 00:00:00\",\n{\n            'v': 18.99,\n            'f': \"18.99\",\n        }],\n [{\n            'v': 101,\n            'f': \"101\",\n        },\n\"Mama Tingo\\u00a0(She Was)\",\n\"Calderon, Raynelda a\",\n{\n            'v': 9781733139205,\n            'f': \"9781733139205\",\n        },\n\"Hardcover\",\n\"Cayena Press, Ltd.\",\n\"2019-10-12 00:00:00\",\n{\n            'v': 17.99,\n            'f': \"17.99\",\n        }],\n [{\n            'v': 102,\n            'f': \"102\",\n        },\n\"Manuelito\",\n\"Amado, Elisa\",\n{\n            'v': 9781773212661,\n            'f': \"9781773212661\",\n        },\n\"Hardcover\",\n\"Annick Press\",\n\"2019-04-09 00:00:00\",\n{\n            'v': 19.99,\n            'f': \"19.99\",\n        }],\n [{\n            'v': 103,\n            'f': \"103\",\n        },\n\"Martian Ghost Centaur, 1\",\n\"Heagerty, Mat\",\n{\n            'v': 9781620108499,\n            'f': \"9781620108499\",\n        },\n\"Paperback\",\n\"Oni Press\",\n\"2021-03-16 00:00:00\",\n{\n            'v': 19.99,\n            'f': \"19.99\",\n        }],\n [{\n            'v': 104,\n            'f': \"104\",\n        },\n\"Marvel-Verse: America Chavez\\u00a0- Street Smart\",\n\"McKelvie, Jamie\",\n{\n            'v': 9781302933944,\n            'f': \"9781302933944\",\n        },\n\"Paperback\",\n\"Marvel\",\n\"2022-03-22 00:00:00\",\n{\n            'v': 9.99,\n            'f': \"9.99\",\n        }],\n [{\n            'v': 106,\n            'f': \"106\",\n        },\n\"Mexican Whiteboy\",\n\"de la Pe\\u00f1a, Matt\",\n{\n            'v': 9780440239383,\n            'f': \"9780440239383\",\n        },\n\"Paperback\",\n\"Ember\",\n\"2010-01-12 00:00:00\",\n{\n            'v': 9.99,\n            'f': \"9.99\",\n        }],\n [{\n            'v': 107,\n            'f': \"107\",\n        },\n\"Mexico (Enchantment of the World) (Library Edition) (Library)\\u00a0(Enchantment of the World)\",\n\"Sonneborn, Liz\",\n{\n            'v': 9780531235706,\n            'f': \"9780531235706\",\n        },\n\"Hardcover\",\n\"C. Press/F. Watts Trade\",\n\"2017-09-01 00:00:00\",\n{\n            'v': 40.0,\n            'f': \"40.0\",\n        }],\n [{\n            'v': 108,\n            'f': \"108\",\n        },\n\"Miguel Cabrera\\u00a0(Beisbol! Latino Heroes of Major League Baseball)\",\n\"Leventhal, Josh\",\n{\n            'v': 9781680720457,\n            'f': \"9781680720457\",\n        },\n\"Hardcover\",\n\"Black Rabbit Books/Bolt\",\n\"2017-09-01 00:00:00\",\n{\n            'v': 32.8,\n            'f': \"32.8\",\n        }],\n [{\n            'v': 109,\n            'f': \"109\",\n        },\n\"Miles Morales Vol. 2: Bring on the Bad Guys\",\n\"Ahmed, Saladin\",\n{\n            'v': 9781302914790,\n            'f': \"9781302914790\",\n        },\n\"Paperback\",\n\"Marvel\",\n\"2020-01-14 00:00:00\",\n{\n            'v': 15.99,\n            'f': \"15.99\",\n        }],\n [{\n            'v': 110,\n            'f': \"110\",\n        },\n\"Miles Morales Vol. 4\",\n\"Ahmed, Saladin\",\n{\n            'v': 9781302920173,\n            'f': \"9781302920173\",\n        },\n\"Paperback\",\n\"Marvel\",\n\"2021-03-09 00:00:00\",\n{\n            'v': 17.99,\n            'f': \"17.99\",\n        }],\n [{\n            'v': 111,\n            'f': \"111\",\n        },\n\"Miles Morales Vol. 5: The Clone Saga\",\n\"Ahmed, Saladin\",\n{\n            'v': 9781302926014,\n            'f': \"9781302926014\",\n        },\n\"Paperback\",\n\"Marvel\",\n\"2021-09-28 00:00:00\",\n{\n            'v': 19.99,\n            'f': \"19.99\",\n        }],\n [{\n            'v': 112,\n            'f': \"112\",\n        },\n\"Miles Morales Vol. 6: All Eyes on Me\\u00a0- Street Smart\",\n\"Ahmed, Saladin\",\n{\n            'v': 9781302926021,\n            'f': \"9781302926021\",\n        },\n\"Paperback\",\n\"Marvel\",\n\"2022-01-18 00:00:00\",\n{\n            'v': 15.99,\n            'f': \"15.99\",\n        }],\n [{\n            'v': 113,\n            'f': \"113\",\n        },\n\"Miles Morales: Spider-Man\\u00a0(Marvel YA Novel)\",\n\"Reynolds, Jason\",\n{\n            'v': 9781484787489,\n            'f': \"9781484787489\",\n        },\n\"Hardcover\",\n\"Marvel Press\",\n\"2017-08-01 00:00:00\",\n{\n            'v': 17.99,\n            'f': \"17.99\",\n        }],\n [{\n            'v': 114,\n            'f': \"114\",\n        },\n\"Miles Morales: Ultimate Spider-Man Ultimate Collection Book 1\",\n\"Bendis, Brian Michael\",\n{\n            'v': 9780785197782,\n            'f': \"9780785197782\",\n        },\n\"Paperback\",\n\"Marvel\",\n\"2015-08-18 00:00:00\",\n{\n            'v': 34.99,\n            'f': \"34.99\",\n        }],\n [{\n            'v': 115,\n            'f': \"115\",\n        },\n\"Miles Morales: Ultimate Spider-Man Volume 1: Revival\",\n\"Bendis, Brian Michael\",\n{\n            'v': 9780785154174,\n            'f': \"9780785154174\",\n        },\n\"Paperback\",\n\"Marvel\",\n\"2014-11-25 00:00:00\",\n{\n            'v': 17.99,\n            'f': \"17.99\",\n        }],\n [{\n            'v': 117,\n            'f': \"117\",\n        },\n\"Moonstruck Volume 1: Magic to Brew\",\n\"Ellis, Grace\",\n{\n            'v': 9781534304772,\n            'f': \"9781534304772\",\n        },\n\"Paperback\",\n\"Image Comics\",\n\"2018-03-27 00:00:00\",\n{\n            'v': 9.99,\n            'f': \"9.99\",\n        }],\n [{\n            'v': 118,\n            'f': \"118\",\n        },\n\"Moonstruck Volume 2: Some Enchanted Evening\",\n\"Ellis, Grace\",\n{\n            'v': 9781534308459,\n            'f': \"9781534308459\",\n        },\n\"Paperback\",\n\"Image Comics\",\n\"2019-03-19 00:00:00\",\n{\n            'v': 14.99,\n            'f': \"14.99\",\n        }],\n [{\n            'v': 119,\n            'f': \"119\",\n        },\n\"Moonstruck Volume 3: Troubled Waters\",\n\"Ellis, Grace\",\n{\n            'v': 9781534314931,\n            'f': \"9781534314931\",\n        },\n\"Paperback\",\n\"Image Comics\",\n\"2020-12-15 00:00:00\",\n{\n            'v': 14.99,\n            'f': \"14.99\",\n        }],\n [{\n            'v': 121,\n            'f': \"121\",\n        },\n\"Ms. Marvel Team-Up\\u00a0(Marvel Team-Up\\u00a0#1)\\u00a0- Not Available - Publisher Out of Stock Indefinitely\",\n\"Ewing, Eve\",\n{\n            'v': 9781302918316,\n            'f': \"9781302918316\",\n        },\n\"Paperback\",\n\"Marvel\",\n\"2019-12-10 00:00:00\",\n{\n            'v': 17.99,\n            'f': \"17.99\",\n        }],\n [{\n            'v': 122,\n            'f': \"122\",\n        },\n\"Murder of Crows (Lethal Lit, Novel #1)\\u00a0- Street Smart\",\n\"Ancrum, K\",\n{\n            'v': 9781338742923,\n            'f': \"9781338742923\",\n        },\n\"Paperback\",\n\"Scholastic Inc.\",\n\"2022-02-01 00:00:00\",\n{\n            'v': 10.99,\n            'f': \"10.99\",\n        }],\n [{\n            'v': 123,\n            'f': \"123\",\n        },\n\"My Corner of the Ring\",\n\"Silva, Jesselyn\",\n{\n            'v': 9780525518402,\n            'f': \"9780525518402\",\n        },\n\"Hardcover\",\n\"G.P. Putnam's Sons Books for Young Readers\",\n\"2019-06-04 00:00:00\",\n{\n            'v': 17.99,\n            'f': \"17.99\",\n        }],\n [{\n            'v': 124,\n            'f': \"124\",\n        },\n\"My Teenage Life in Brazil\\u00a0(Custom and Cultures of the World\\u00a0#12)\",\n\"Whiting, Jim\",\n{\n            'v': 9781422239018,\n            'f': \"9781422239018\",\n        },\n\"Hardcover\",\n\"Mason Crest Publishers\",\n\"2017-01-01 00:00:00\",\n{\n            'v': 23.95,\n            'f': \"23.95\",\n        }],\n [{\n            'v': 125,\n            'f': \"125\",\n        },\n\"My Teenage Life in Mexico\\u00a0(Custom and Cultures of the World\\u00a0#12)\",\n\"Cassriel, Betsy\",\n{\n            'v': 9781422239070,\n            'f': \"9781422239070\",\n        },\n\"Hardcover\",\n\"Mason Crest Publishers\",\n\"2017-08-08 00:00:00\",\n{\n            'v': 23.95,\n            'f': \"23.95\",\n        }],\n [{\n            'v': 126,\n            'f': \"126\",\n        },\n\"Nelson Cruz\\u00a0(Beisbol! Latino Heroes of Major League Baseball)\",\n\"Leventhal, Josh\",\n{\n            'v': 9781680720464,\n            'f': \"9781680720464\",\n        },\n\"Hardcover\",\n\"Black Rabbit Books/Bolt\",\n\"2017-09-01 00:00:00\",\n{\n            'v': 32.8,\n            'f': \"32.8\",\n        }],\n [{\n            'v': 128,\n            'f': \"128\",\n        },\n\"Neymar\\u00a0(Soccer Superstars)\",\n\"Callow, Nick\",\n{\n            'v': 9781725340305,\n            'f': \"9781725340305\",\n        },\n\"Paperback\",\n\"Rosen Young Adult\",\n\"2019-07-30 00:00:00\",\n{\n            'v': 12.95,\n            'f': \"12.95\",\n        }],\n [{\n            'v': 129,\n            'f': \"129\",\n        },\n\"Neymar: Superstar Striker\\u00a0(At the Top of Their Game)\",\n\"Bjorklund, Ruth\",\n{\n            'v': 9781502651006,\n            'f': \"9781502651006\",\n        },\n\"Paperback\",\n\"Cavendish Square Publishing\",\n\"2019-12-30 00:00:00\",\n{\n            'v': 19.99,\n            'f': \"19.99\",\n        }],\n [{\n            'v': 130,\n            'f': \"130\",\n        },\n\"Nicaragua (Enchantment of the World) (Library Edition) (Library)\\u00a0(Enchantment of the World)\",\n\"Mara, Wil\",\n{\n            'v': 9780531220900,\n            'f': \"9780531220900\",\n        },\n\"Hardcover\",\n\"C. Press/F. Watts Trade\",\n\"2017-02-01 00:00:00\",\n{\n            'v': 40.0,\n            'f': \"40.0\",\n        }],\n [{\n            'v': 131,\n            'f': \"131\",\n        },\n\"No Filter and Other Lies\\u00a0- Street Smart\",\n\"Maldonado, Crystal\",\n{\n            'v': 9780823447183,\n            'f': \"9780823447183\",\n        },\n\"Hardcover\",\n\"Holiday House\",\n\"2022-02-08 00:00:00\",\n{\n            'v': 18.99,\n            'f': \"18.99\",\n        }],\n [{\n            'v': 138,\n            'f': \"138\",\n        },\n\"Ophelia After All\\u00a0- Street Smart\",\n\"Marie, Racquel\",\n{\n            'v': 9781250797308,\n            'f': \"9781250797308\",\n        },\n\"Hardcover\",\n\"Feiwel & Friends\",\n\"2022-02-08 00:00:00\",\n{\n            'v': 17.99,\n            'f': \"17.99\",\n        }],\n [{\n            'v': 139,\n            'f': \"139\",\n        },\n\"Our Stories Carried Us Here\",\n\"Rozman Clark, Tea\",\n{\n            'v': 9781949523171,\n            'f': \"9781949523171\",\n        },\n\"Hardcover\",\n\"Green Card Voices\",\n\"2021-08-31 00:00:00\",\n{\n            'v': 24.99,\n            'f': \"24.99\",\n        }],\n [{\n            'v': 141,\n            'f': \"141\",\n        },\n\"Paraguay\\u00a0(Cultures of the World (Third Edition)(R))\",\n\"Jones, Naomi E\",\n{\n            'v': 9781502647382,\n            'f': \"9781502647382\",\n        },\n\"Library Binding\",\n\"Cavendish Square Publishing\",\n\"2019-04-30 00:00:00\",\n{\n            'v': 47.07,\n            'f': \"47.07\",\n        }],\n [{\n            'v': 142,\n            'f': \"142\",\n        },\n\"Peru (Enchantment of the World) (Library Edition) (Library)\\u00a0(Enchantment of the World)\",\n\"Burgan, Michael\",\n{\n            'v': 9780531235911,\n            'f': \"9780531235911\",\n        },\n\"Library Binding\",\n\"C. Press/F. Watts Trade\",\n\"2018-02-01 00:00:00\",\n{\n            'v': 40.0,\n            'f': \"40.0\",\n        }],\n [{\n            'v': 143,\n            'f': \"143\",\n        },\n\"Phoenix Song: Echo\\u00a0- Street Smart\",\n\"Roanhorse, Rebecca\",\n{\n            'v': 9781302930264,\n            'f': \"9781302930264\",\n        },\n\"Paperback\",\n\"Marvel\",\n\"2022-04-26 00:00:00\",\n{\n            'v': 15.99,\n            'f': \"15.99\",\n        }],\n [{\n            'v': 145,\n            'f': \"145\",\n        },\n\"Pride: A Pride & Prejudice Remix\",\n\"Zoboi, Ibi\",\n{\n            'v': 9780062564047,\n            'f': \"9780062564047\",\n        },\n\"Hardcover\",\n\"Balzer & Bray/Harperteen\",\n\"2018-09-18 00:00:00\",\n{\n            'v': 17.99,\n            'f': \"17.99\",\n        }],\n [{\n            'v': 146,\n            'f': \"146\",\n        },\n\"Reclaim the Stars: 17 Tales Across Realms & Space\\u00a0- Street Smart\",\n\"C\\u00f3rdova, Zoraida\",\n{\n            'v': 9781250790637,\n            'f': \"9781250790637\",\n        },\n\"Hardcover\",\n\"Wednesday Books\",\n\"2022-02-15 00:00:00\",\n{\n            'v': 19.99,\n            'f': \"19.99\",\n        }],\n [{\n            'v': 147,\n            'f': \"147\",\n        },\n\"Reptil: Brink of Extinction\\u00a0- Street Smart\",\n\"Blas, Terry\",\n{\n            'v': 9781302930172,\n            'f': \"9781302930172\",\n        },\n\"Paperback\",\n\"Marvel\",\n\"2021-12-07 00:00:00\",\n{\n            'v': 13.99,\n            'f': \"13.99\",\n        }],\n [{\n            'v': 148,\n            'f': \"148\",\n        },\n\"Rima's Rebellion: Courage in a Time of Tyranny\",\n\"Engle, Margarita\",\n{\n            'v': 9781534486935,\n            'f': \"9781534486935\",\n        },\n\"Hardcover\",\n\"Atheneum Books for Young Readers\",\n\"2022-02-15 00:00:00\",\n{\n            'v': 18.99,\n            'f': \"18.99\",\n        }],\n [{\n            'v': 149,\n            'f': \"149\",\n        },\n\"Ronaldo vs. Messi vs. Beckham vs. Pel\\u00e9\\u00a0(Who's the Goat? Using Math to Crown the Champion)\",\n\"Mooney, Carla\",\n{\n            'v': 9781725348493,\n            'f': \"9781725348493\",\n        },\n\"Paperback\",\n\"Rosen Central\",\n\"2019-12-30 00:00:00\",\n{\n            'v': 12.95,\n            'f': \"12.95\",\n        }],\n [{\n            'v': 150,\n            'f': \"150\",\n        },\n\"Rub\\u00e9n El Rubius Gundersen: Star Spanish Gamer with 6 Billion+ Views\\u00a0(Top Video Gamers in the World)\",\n\"Hall, Kevin\",\n{\n            'v': 9781725346093,\n            'f': \"9781725346093\",\n        },\n\"Paperback\",\n\"Rosen Central\",\n\"2019-07-30 00:00:00\",\n{\n            'v': 11.75,\n            'f': \"11.75\",\n        }],\n [{\n            'v': 153,\n            'f': \"153\",\n        },\n\"Shadowshaper (the Shadowshaper Cypher, Book 1), 1\\u00a0(Shadowshaper Cypher\\u00a0#1)\",\n\"Older, Daniel Jos\\u00e9\",\n{\n            'v': 9780545591614,\n            'f': \"9780545591614\",\n        },\n\"Hardcover\",\n\"Arthur A. Levine Books\",\n\"2015-06-30 00:00:00\",\n{\n            'v': 17.99,\n            'f': \"17.99\",\n        }],\n [{\n            'v': 157,\n            'f': \"157\",\n        },\n\"Sim\\u00f3n Bol\\u00edvar: Fighting for Latin American Liberation\\u00a0(Rebels with a Cause)\",\n\"Cruz, B\\u00e1rbara C\",\n{\n            'v': 9780766089525,\n            'f': \"9780766089525\",\n        },\n\"Library Binding\",\n\"Enslow Publishing\",\n\"2017-07-30 00:00:00\",\n{\n            'v': 37.27,\n            'f': \"37.27\",\n        }],\n [{\n            'v': 158,\n            'f': \"158\",\n        },\n\"Small Town Monsters\\u00a0(Underlined Paperbacks)\",\n\"Rodriguez Wallach, Diana\",\n{\n            'v': 9780593427514,\n            'f': \"9780593427514\",\n        },\n\"Paperback\",\n\"Underlined\",\n\"2021-09-07 00:00:00\",\n{\n            'v': 9.99,\n            'f': \"9.99\",\n        }],\n [{\n            'v': 160,\n            'f': \"160\",\n        },\n\"Sonia Sotomayor: A Biography\",\n\"Mendoza, Sylvia\",\n{\n            'v': 9781942186090,\n            'f': \"9781942186090\",\n        },\n\"Hardcover\",\n\"Zest Books (Tm)\",\n\"2017-01-01 00:00:00\",\n{\n            'v': 10.99,\n            'f': \"10.99\",\n        }],\n [{\n            'v': 161,\n            'f': \"161\",\n        },\n\"Spider-Gwen: Deal with the Devil\\u00a0- Street Smart\",\n\"Rodriguez, Robbi\",\n{\n            'v': 9781302931650,\n            'f': \"9781302931650\",\n        },\n\"Paperback\",\n\"Marvel\",\n\"2022-04-26 00:00:00\",\n{\n            'v': 13.99,\n            'f': \"13.99\",\n        }],\n [{\n            'v': 162,\n            'f': \"162\",\n        },\n\"Spider-Man: Miles Morales Vol. 4\",\n\"Bendis, Brian Michael\",\n{\n            'v': 9781302905989,\n            'f': \"9781302905989\",\n        },\n\"Paperback\",\n\"Marvel\",\n\"2018-07-17 00:00:00\",\n{\n            'v': 17.99,\n            'f': \"17.99\",\n        }],\n [{\n            'v': 165,\n            'f': \"165\",\n        },\n\"Spider-Men: Worlds Collide\",\n\"Bendis, Brian Michael\",\n{\n            'v': 9781302931971,\n            'f': \"9781302931971\",\n        },\n\"Paperback\",\n\"Marvel\",\n\"2021-11-30 00:00:00\",\n{\n            'v': 29.99,\n            'f': \"29.99\",\n        }],\n [{\n            'v': 166,\n            'f': \"166\",\n        },\n\"Spin Me Right Round\\u00a0- Street Smart\",\n\"Valdes, David\",\n{\n            'v': 9781547607105,\n            'f': \"9781547607105\",\n        },\n\"Hardcover\",\n\"Bloomsbury YA\",\n\"2022-01-04 00:00:00\",\n{\n            'v': 17.99,\n            'f': \"17.99\",\n        }],\n [{\n            'v': 168,\n            'f': \"168\",\n        },\n\"Street Fighter Volume 3: Fighter's Destiny\\u00a0(Street Fighter (Capcom)\\u00a0#03)\",\n\"Siu-Chong, Ken\",\n{\n            'v': 9780973865288,\n            'f': \"9780973865288\",\n        },\n\"Paperback\",\n\"Udon Entertainment\",\n\"2007-03-27 00:00:00\",\n{\n            'v': 13.99,\n            'f': \"13.99\",\n        }],\n [{\n            'v': 171,\n            'f': \"171\",\n        },\n\"The Avant-Guards Vol. 1\\u00a0(The Avant-Guards)\",\n\"Usdin, Carly\",\n{\n            'v': 9781684153671,\n            'f': \"9781684153671\",\n        },\n\"Paperback\",\n\"Boom Box\",\n\"2019-09-03 00:00:00\",\n{\n            'v': 14.99,\n            'f': \"14.99\",\n        }],\n [{\n            'v': 173,\n            'f': \"173\",\n        },\n\"The Courage of Elfina\",\n\"Jacob, Andr\\u00e9\",\n{\n            'v': 9781459414198,\n            'f': \"9781459414198\",\n        },\n\"Library Binding\",\n\"Lorimer Children & Teens\",\n\"2019-03-05 00:00:00\",\n{\n            'v': 24.95,\n            'f': \"24.95\",\n        }],\n [{\n            'v': 174,\n            'f': \"174\",\n        },\n\"The Destruction of the Inca Civilization\\u00a0(Bearing Witness: Genocide and Ethnic Cleansing)\",\n\"Burling, Alexis\",\n{\n            'v': 9781508178699,\n            'f': \"9781508178699\",\n        },\n\"Paperback\",\n\"Rosen Young Adult\",\n\"2017-12-30 00:00:00\",\n{\n            'v': 12.95,\n            'f': \"12.95\",\n        }],\n [{\n            'v': 175,\n            'f': \"175\",\n        },\n\"The Education of Margot Sanchez\",\n\"Rivera, Lilliam\",\n{\n            'v': 9781481472111,\n            'f': \"9781481472111\",\n        },\n\"Hardcover\",\n\"Simon & Schuster Books for Young Readers\",\n\"2017-02-21 00:00:00\",\n{\n            'v': 19.99,\n            'f': \"19.99\",\n        }],\n [{\n            'v': 176,\n            'f': \"176\",\n        },\n\"The Ghost Tracks\",\n\"Hurtado, Celso\",\n{\n            'v': 9781950301072,\n            'f': \"9781950301072\",\n        },\n\"Paperback\",\n\"Inkshares\",\n\"2021-11-02 00:00:00\",\n{\n            'v': 15.99,\n            'f': \"15.99\",\n        }],\n [{\n            'v': 178,\n            'f': \"178\",\n        },\n\"The Guatemalan Genocide of the Maya People\\u00a0(Bearing Witness: Genocide and Ethnic Cleansing)\",\n\"Torres, John A\",\n{\n            'v': 9781508178705,\n            'f': \"9781508178705\",\n        },\n\"Paperback\",\n\"Rosen Young Adult\",\n\"2017-12-30 00:00:00\",\n{\n            'v': 12.95,\n            'f': \"12.95\",\n        }],\n [{\n            'v': 181,\n            'f': \"181\",\n        },\n\"The Impact of Science, Technology, and Economics in Latin America\\u00a0(Global Effects)\",\n\"Kogler, Peter\",\n{\n            'v': 9781725322301,\n            'f': \"9781725322301\",\n        },\n\"Library Binding\",\n\"PowerKids Press\",\n\"2020-12-30 00:00:00\",\n{\n            'v': 26.25,\n            'f': \"26.25\",\n        }],\n [{\n            'v': 182,\n            'f': \"182\",\n        },\n\"The Inexplicable Logic of My Life\",\n\"Saenz, Benjamin Alire\",\n{\n            'v': 9780544586505,\n            'f': \"9780544586505\",\n        },\n\"Hardcover\",\n\"Clarion Books\",\n\"2017-03-07 00:00:00\",\n{\n            'v': 17.99,\n            'f': \"17.99\",\n        }],\n [{\n            'v': 183,\n            'f': \"183\",\n        },\n\"The Jade Bones\\u00a0(Age of the Seventh Sun\\u00a0#2)\",\n\"Forbes, Lani\",\n{\n            'v': 9781982546106,\n            'f': \"9781982546106\",\n        },\n\"Hardcover\",\n\"Blackstone Publishing\",\n\"2021-02-16 00:00:00\",\n{\n            'v': 18.99,\n            'f': \"18.99\",\n        }],\n [{\n            'v': 186,\n            'f': \"186\",\n        },\n\"The Lighthouse\",\n\"Roca, Paco\",\n{\n            'v': 9781681120560,\n            'f': \"9781681120560\",\n        },\n\"Hardcover\",\n\"Nantier Beall Minoustchine Publishing\",\n\"2017-02-01 00:00:00\",\n{\n            'v': 15.99,\n            'f': \"15.99\",\n        }],\n [{\n            'v': 189,\n            'f': \"189\",\n        },\n\"The Nowhere Girls\",\n\"Reed, Amy\",\n{\n            'v': 9781481481731,\n            'f': \"9781481481731\",\n        },\n\"Hardcover\",\n\"Simon & Schuster Books for Young Readers\",\n\"2017-10-10 00:00:00\",\n{\n            'v': 19.99,\n            'f': \"19.99\",\n        }],\n [{\n            'v': 190,\n            'f': \"190\",\n        },\n\"The Obsidian Butterfly\\u00a0(Age of the Seventh Sun\\u00a0#3)\",\n\"Forbes, Lani\",\n{\n            'v': 9781982546113,\n            'f': \"9781982546113\",\n        },\n\"Hardcover\",\n\"Blackstone Publishing\",\n\"2022-02-15 00:00:00\",\n{\n            'v': 20.99,\n            'f': \"20.99\",\n        }],\n [{\n            'v': 194,\n            'f': \"194\",\n        },\n\"The Sky Above Us\",\n\"Lund, Natalie\",\n{\n            'v': 9780525518037,\n            'f': \"9780525518037\",\n        },\n\"Hardcover\",\n\"Philomel Books\",\n\"2021-04-13 00:00:00\",\n{\n            'v': 18.99,\n            'f': \"18.99\",\n        }],\n [{\n            'v': 196,\n            'f': \"196\",\n        },\n\"The Turning Pointe\\u00a0- Street Smart\",\n\"Torres, Vanessa L\",\n{\n            'v': 9780593426135,\n            'f': \"9780593426135\",\n        },\n\"Hardcover\",\n\"Alfred A. Knopf Books for Young Readers\",\n\"2022-02-22 00:00:00\",\n{\n            'v': 18.99,\n            'f': \"18.99\",\n        }],\n [{\n            'v': 198,\n            'f': \"198\",\n        },\n\"The Zabime Sisters\",\n\"Aristophane\",\n{\n            'v': 9781596436381,\n            'f': \"9781596436381\",\n        },\n\"Paperback\",\n\"St. Martin's Press\",\n\"2010-10-26 00:00:00\",\n{\n            'v': 17.99,\n            'f': \"17.99\",\n        }],\n [{\n            'v': 200,\n            'f': \"200\",\n        },\n\"Thirty Talks Weird Love\\u00a0Easy Reads\",\n\"Narv\\u00e1ez Varela, Alessandra\",\n{\n            'v': 9781947627482,\n            'f': \"9781947627482\",\n        },\n\"Hardcover\",\n\"Cinco Puntos Press\",\n\"2021-10-12 00:00:00\",\n{\n            'v': 18.95,\n            'f': \"18.95\",\n        }],\n [{\n            'v': 204,\n            'f': \"204\",\n        },\n\"Trailblazers: Lin-Manuel Miranda: Raising Theater to New Heights\\u00a0(Trailblazers)\",\n\"Scaletta, Kurtis\",\n{\n            'v': 9780593124468,\n            'f': \"9780593124468\",\n        },\n\"Paperback\",\n\"Random House Books for Young Readers\",\n\"2021-01-05 00:00:00\",\n{\n            'v': 7.99,\n            'f': \"7.99\",\n        }],\n [{\n            'v': 205,\n            'f': \"205\",\n        },\n\"Trish Trash #1: Rollergirl of Mars\\u00a0(Trish Trash Graphic Novels\\u00a0#1)\",\n\"Abel, Jessica\",\n{\n            'v': 9781629916149,\n            'f': \"9781629916149\",\n        },\n\"Hardcover\",\n\"Super Genius\",\n\"2016-11-15 00:00:00\",\n{\n            'v': 14.99,\n            'f': \"14.99\",\n        }],\n [{\n            'v': 206,\n            'f': \"206\",\n        },\n\"Trish Trash #2\\u00a0(Trish Trash Graphic Novels\\u00a0#2)\",\n\"Abel, Jessica\",\n{\n            'v': 9781629916392,\n            'f': \"9781629916392\",\n        },\n\"Hardcover\",\n\"Super Genius\",\n\"2017-08-15 00:00:00\",\n{\n            'v': 14.99,\n            'f': \"14.99\",\n        }],\n [{\n            'v': 207,\n            'f': \"207\",\n        },\n\"Trish Trash #3\\u00a0(Trish Trash Graphic Novels\\u00a0#3)\",\n\"Abel, Jessica\",\n{\n            'v': 9781545800164,\n            'f': \"9781545800164\",\n        },\n\"Hardcover\",\n\"Super Genius\",\n\"2018-12-04 00:00:00\",\n{\n            'v': 15.99,\n            'f': \"15.99\",\n        }],\n [{\n            'v': 208,\n            'f': \"208\",\n        },\n\"Undocumented: A Worker's Fight\",\n\"Tonatiuh, Duncan\",\n{\n            'v': 9781419728549,\n            'f': \"9781419728549\",\n        },\n\"Hardcover\",\n\"Abrams Comicarts\",\n\"2018-08-07 00:00:00\",\n{\n            'v': 19.99,\n            'f': \"19.99\",\n        }],\n [{\n            'v': 216,\n            'f': \"216\",\n        },\n\"We Were Here\",\n\"de la Pe\\u00f1a, Matt\",\n{\n            'v': 9780385736701,\n            'f': \"9780385736701\",\n        },\n\"Paperback\",\n\"Ember\",\n\"2010-09-14 00:00:00\",\n{\n            'v': 9.99,\n            'f': \"9.99\",\n        }],\n [{\n            'v': 217,\n            'f': \"217\",\n        },\n\"Welcome to Wanderland\",\n\"Ball, Jackie\",\n{\n            'v': 9781684154722,\n            'f': \"9781684154722\",\n        },\n\"Paperback\",\n\"Boom Box\",\n\"2019-09-24 00:00:00\",\n{\n            'v': 14.99,\n            'f': \"14.99\",\n        }],\n [{\n            'v': 219,\n            'f': \"219\",\n        },\n\"When Villains Rise, 3\\u00a0(Market of Monsters\\u00a0#3)\",\n\"Schaeffer, Rebecca\",\n{\n            'v': 9781328863560,\n            'f': \"9781328863560\",\n        },\n\"Hardcover\",\n\"Clarion Books\",\n\"2020-09-08 00:00:00\",\n{\n            'v': 17.99,\n            'f': \"17.99\",\n        }],\n [{\n            'v': 222,\n            'f': \"222\",\n        },\n\"Where We Go from Here\",\n\"Rocha, Lucas\",\n{\n            'v': 9781338556247,\n            'f': \"9781338556247\",\n        },\n\"Hardcover\",\n\"Push\",\n\"2020-06-02 00:00:00\",\n{\n            'v': 18.99,\n            'f': \"18.99\",\n        }],\n [{\n            'v': 223,\n            'f': \"223\",\n        },\n\"Whistle: A New Gotham City Hero\",\n\"Lockhart, E\",\n{\n            'v': 9781401293222,\n            'f': \"9781401293222\",\n        },\n\"Paperback\",\n\"DC Comics\",\n\"2021-09-07 00:00:00\",\n{\n            'v': 16.99,\n            'f': \"16.99\",\n        }],\n [{\n            'v': 227,\n            'f': \"227\",\n        },\n\"Yaqui Delgado Wants to Kick Your Ass\",\n\"Medina, Meg\",\n{\n            'v': 9780763671648,\n            'f': \"9780763671648\",\n        },\n\"Paperback\",\n\"Candlewick Press (MA)\",\n\"2014-08-26 00:00:00\",\n{\n            'v': 8.99,\n            'f': \"8.99\",\n        }]],\n        columns: [[\"number\", \"index\"], [\"string\", \"title\"], [\"string\", \"author\"], [\"number\", \"isbn\"], [\"string\", \"format\"], [\"string\", \"publisher\"], [\"string\", \"pubdate\"], [\"number\", \"unnamed: 6\"]],\n        columnOptions: [{\"width\": \"1px\", \"className\": \"index_column\"}],\n        rowsPerPage: 25,\n        helpUrl: \"https://colab.research.google.com/notebooks/data_table.ipynb\",\n        suppressOutputScrolling: true,\n        minimumWidth: undefined,\n      });\n    ",
            "text/html": [
              "<div>\n",
              "<style scoped>\n",
              "    .dataframe tbody tr th:only-of-type {\n",
              "        vertical-align: middle;\n",
              "    }\n",
              "\n",
              "    .dataframe tbody tr th {\n",
              "        vertical-align: top;\n",
              "    }\n",
              "\n",
              "    .dataframe thead th {\n",
              "        text-align: right;\n",
              "    }\n",
              "</style>\n",
              "<table border=\"1\" class=\"dataframe\">\n",
              "  <thead>\n",
              "    <tr style=\"text-align: right;\">\n",
              "      <th></th>\n",
              "      <th>title</th>\n",
              "      <th>author</th>\n",
              "      <th>isbn</th>\n",
              "      <th>format</th>\n",
              "      <th>publisher</th>\n",
              "      <th>pubdate</th>\n",
              "      <th>unnamed: 6</th>\n",
              "    </tr>\n",
              "  </thead>\n",
              "  <tbody>\n",
              "    <tr>\n",
              "      <th>0</th>\n",
              "      <td>¿sabes Quién Es Zapata? / Do You Know Who Zapa...</td>\n",
              "      <td>Leyva, Amaranta</td>\n",
              "      <td>9786073183574</td>\n",
              "      <td>Paperback</td>\n",
              "      <td>Alfaguara Infantil</td>\n",
              "      <td>2020-06-23</td>\n",
              "      <td>12.95</td>\n",
              "    </tr>\n",
              "    <tr>\n",
              "      <th>1</th>\n",
              "      <td>21: The Story of Roberto Clemente</td>\n",
              "      <td>Santiago, Wilfred</td>\n",
              "      <td>9781606997758</td>\n",
              "      <td>Paperback</td>\n",
              "      <td>Fantagraphics Books</td>\n",
              "      <td>2014-09-21</td>\n",
              "      <td>19.99</td>\n",
              "    </tr>\n",
              "    <tr>\n",
              "      <th>3</th>\n",
              "      <td>Absolute Carnage: Miles Morales</td>\n",
              "      <td>Ahmed, Saladin</td>\n",
              "      <td>9781302920142</td>\n",
              "      <td>Paperback</td>\n",
              "      <td>Marvel</td>\n",
              "      <td>2020-01-28</td>\n",
              "      <td>15.99</td>\n",
              "    </tr>\n",
              "    <tr>\n",
              "      <th>4</th>\n",
              "      <td>Albert Pujols (Beisbol! Latino Heroes of Major...</td>\n",
              "      <td>Leventhal, Josh</td>\n",
              "      <td>9781680720495</td>\n",
              "      <td>Hardcover</td>\n",
              "      <td>Black Rabbit Books/Bolt</td>\n",
              "      <td>2017-09-01</td>\n",
              "      <td>32.80</td>\n",
              "    </tr>\n",
              "    <tr>\n",
              "      <th>5</th>\n",
              "      <td>Alexandria Ocasio-Cortez: Political Headliner ...</td>\n",
              "      <td>Leigh, Anna</td>\n",
              "      <td>9781541588875</td>\n",
              "      <td>Paperback</td>\n",
              "      <td>Lerner Publications (Tm)</td>\n",
              "      <td>2020-01-01</td>\n",
              "      <td>10.99</td>\n",
              "    </tr>\n",
              "    <tr>\n",
              "      <th>...</th>\n",
              "      <td>...</td>\n",
              "      <td>...</td>\n",
              "      <td>...</td>\n",
              "      <td>...</td>\n",
              "      <td>...</td>\n",
              "      <td>...</td>\n",
              "      <td>...</td>\n",
              "    </tr>\n",
              "    <tr>\n",
              "      <th>217</th>\n",
              "      <td>Welcome to Wanderland</td>\n",
              "      <td>Ball, Jackie</td>\n",
              "      <td>9781684154722</td>\n",
              "      <td>Paperback</td>\n",
              "      <td>Boom Box</td>\n",
              "      <td>2019-09-24</td>\n",
              "      <td>14.99</td>\n",
              "    </tr>\n",
              "    <tr>\n",
              "      <th>219</th>\n",
              "      <td>When Villains Rise, 3 (Market of Monsters #3)</td>\n",
              "      <td>Schaeffer, Rebecca</td>\n",
              "      <td>9781328863560</td>\n",
              "      <td>Hardcover</td>\n",
              "      <td>Clarion Books</td>\n",
              "      <td>2020-09-08</td>\n",
              "      <td>17.99</td>\n",
              "    </tr>\n",
              "    <tr>\n",
              "      <th>222</th>\n",
              "      <td>Where We Go from Here</td>\n",
              "      <td>Rocha, Lucas</td>\n",
              "      <td>9781338556247</td>\n",
              "      <td>Hardcover</td>\n",
              "      <td>Push</td>\n",
              "      <td>2020-06-02</td>\n",
              "      <td>18.99</td>\n",
              "    </tr>\n",
              "    <tr>\n",
              "      <th>223</th>\n",
              "      <td>Whistle: A New Gotham City Hero</td>\n",
              "      <td>Lockhart, E</td>\n",
              "      <td>9781401293222</td>\n",
              "      <td>Paperback</td>\n",
              "      <td>DC Comics</td>\n",
              "      <td>2021-09-07</td>\n",
              "      <td>16.99</td>\n",
              "    </tr>\n",
              "    <tr>\n",
              "      <th>227</th>\n",
              "      <td>Yaqui Delgado Wants to Kick Your Ass</td>\n",
              "      <td>Medina, Meg</td>\n",
              "      <td>9780763671648</td>\n",
              "      <td>Paperback</td>\n",
              "      <td>Candlewick Press (MA)</td>\n",
              "      <td>2014-08-26</td>\n",
              "      <td>8.99</td>\n",
              "    </tr>\n",
              "  </tbody>\n",
              "</table>\n",
              "<p>136 rows × 7 columns</p>\n",
              "</div>"
            ],
            "text/plain": [
              "                                                 title  ... unnamed: 6\n",
              "0    ¿sabes Quién Es Zapata? / Do You Know Who Zapa...  ...      12.95\n",
              "1                    21: The Story of Roberto Clemente  ...      19.99\n",
              "3                      Absolute Carnage: Miles Morales  ...      15.99\n",
              "4    Albert Pujols (Beisbol! Latino Heroes of Major...  ...      32.80\n",
              "5    Alexandria Ocasio-Cortez: Political Headliner ...  ...      10.99\n",
              "..                                                 ...  ...        ...\n",
              "217                              Welcome to Wanderland  ...      14.99\n",
              "219      When Villains Rise, 3 (Market of Monsters #3)  ...      17.99\n",
              "222                              Where We Go from Here  ...      18.99\n",
              "223                    Whistle: A New Gotham City Hero  ...      16.99\n",
              "227               Yaqui Delgado Wants to Kick Your Ass  ...       8.99\n",
              "\n",
              "[136 rows x 7 columns]"
            ]
          },
          "metadata": {},
          "execution_count": 20
        }
      ]
    },
    {
      "cell_type": "markdown",
      "metadata": {
        "id": "G7ZvUCMOa-zB"
      },
      "source": [
        "Download missing titles to an Excel file"
      ]
    },
    {
      "cell_type": "code",
      "metadata": {
        "colab": {
          "base_uri": "https://localhost:8080/",
          "height": 17
        },
        "id": "4VIoXFPIa_fY",
        "outputId": "e3d96737-4ba4-4e27-938b-d0defb25e943"
      },
      "source": [
        "missing.to_excel(\"missing_results.xlsx\")\n",
        "files.download('/content/missing_results.xlsx')"
      ],
      "execution_count": 21,
      "outputs": [
        {
          "output_type": "display_data",
          "data": {
            "application/javascript": [
              "\n",
              "    async function download(id, filename, size) {\n",
              "      if (!google.colab.kernel.accessAllowed) {\n",
              "        return;\n",
              "      }\n",
              "      const div = document.createElement('div');\n",
              "      const label = document.createElement('label');\n",
              "      label.textContent = `Downloading \"${filename}\": `;\n",
              "      div.appendChild(label);\n",
              "      const progress = document.createElement('progress');\n",
              "      progress.max = size;\n",
              "      div.appendChild(progress);\n",
              "      document.body.appendChild(div);\n",
              "\n",
              "      const buffers = [];\n",
              "      let downloaded = 0;\n",
              "\n",
              "      const channel = await google.colab.kernel.comms.open(id);\n",
              "      // Send a message to notify the kernel that we're ready.\n",
              "      channel.send({})\n",
              "\n",
              "      for await (const message of channel.messages) {\n",
              "        // Send a message to notify the kernel that we're ready.\n",
              "        channel.send({})\n",
              "        if (message.buffers) {\n",
              "          for (const buffer of message.buffers) {\n",
              "            buffers.push(buffer);\n",
              "            downloaded += buffer.byteLength;\n",
              "            progress.value = downloaded;\n",
              "          }\n",
              "        }\n",
              "      }\n",
              "      const blob = new Blob(buffers, {type: 'application/binary'});\n",
              "      const a = document.createElement('a');\n",
              "      a.href = window.URL.createObjectURL(blob);\n",
              "      a.download = filename;\n",
              "      div.appendChild(a);\n",
              "      a.click();\n",
              "      div.remove();\n",
              "    }\n",
              "  "
            ],
            "text/plain": [
              "<IPython.core.display.Javascript object>"
            ]
          },
          "metadata": {}
        },
        {
          "output_type": "display_data",
          "data": {
            "application/javascript": [
              "download(\"download_9515d701-3bb9-4d7e-a6f8-3bd45b409a1d\", \"missing_results.xlsx\", 16382)"
            ],
            "text/plain": [
              "<IPython.core.display.Javascript object>"
            ]
          },
          "metadata": {}
        }
      ]
    }
  ]
}