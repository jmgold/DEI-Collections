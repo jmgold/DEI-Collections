{
 "cells": [
  {
   "cell_type": "code",
   "execution_count": 2,
   "metadata": {},
   "outputs": [
    {
     "ename": "ModuleNotFoundError",
     "evalue": "No module named 'jellyfish'",
     "output_type": "error",
     "traceback": [
      "\u001b[1;31m---------------------------------------------------------------------------\u001b[0m",
      "\u001b[1;31mModuleNotFoundError\u001b[0m                       Traceback (most recent call last)",
      "\u001b[1;32m<ipython-input-2-b139a9290bc5>\u001b[0m in \u001b[0;36m<module>\u001b[1;34m\u001b[0m\n\u001b[0;32m      3\u001b[0m \u001b[1;32mimport\u001b[0m \u001b[0mpsycopg2\u001b[0m\u001b[1;33m\u001b[0m\u001b[1;33m\u001b[0m\u001b[0m\n\u001b[0;32m      4\u001b[0m \u001b[1;32mimport\u001b[0m \u001b[0mconfigparser\u001b[0m\u001b[1;33m\u001b[0m\u001b[1;33m\u001b[0m\u001b[0m\n\u001b[1;32m----> 5\u001b[1;33m \u001b[1;32mimport\u001b[0m \u001b[0mjellyfish\u001b[0m\u001b[1;33m\u001b[0m\u001b[1;33m\u001b[0m\u001b[0m\n\u001b[0m",
      "\u001b[1;31mModuleNotFoundError\u001b[0m: No module named 'jellyfish'"
     ]
    }
   ],
   "source": [
    "import sqlite3\n",
    "import pandas as pd\n",
    "import psycopg2\n",
    "import configparser\n",
    "import jellyfish"
   ]
  },
  {
   "cell_type": "code",
   "execution_count": null,
   "metadata": {},
   "outputs": [],
   "source": [
    "try:\n",
    "    sqliteConnection = sqlite3.connect('DEI Database.db')\n",
    "    cursor = sqliteConnection.cursor()\n",
    "    print(\"Connected to SQLite\")\n",
    "    \n",
    "    sql_query = \"\"\"SELECT *\n",
    "                FROM title_list\n",
    "                \"\"\"\n",
    "    cursor.execute(sql_query)\n",
    "    sqliteConnection.commit()\n",
    "    dei_rows = cursor.fetchall()\n",
    "    cursor.close()\n",
    "except sqlite3.Error as error:\n",
    "    print(\"Failed to run query\", error)   "
   ]
  },
  {
   "cell_type": "code",
   "execution_count": null,
   "metadata": {},
   "outputs": [],
   "source": [
    "column_names = [\"Genre\",\"Author\",\"Title\",\"Year\"]\n",
    "dei_df = pd.DataFrame(dei_rows, columns=column_names)"
   ]
  },
  {
   "cell_type": "code",
   "execution_count": null,
   "metadata": {},
   "outputs": [],
   "source": [
    "dei_df"
   ]
  },
  {
   "cell_type": "code",
   "execution_count": null,
   "metadata": {},
   "outputs": [],
   "source": [
    "config = configparser.ConfigParser()\n",
    "config.read('Y:\\\\SQL Reports\\\\creds\\\\app_SIC.ini')\n",
    "\n",
    "try:\n",
    "    query = \"\"\"SELECT\n",
    "b.best_title AS title,\n",
    "REPLACE(SPLIT_PART(SPLIT_PART(b.best_author,' (',1),', ',2),'.','')||' '||SPLIT_PART(b.best_author,', ',1) AS author,\n",
    "SUBSTRING(i.location_code FROM 1 FOR 3) AS location,\n",
    "CASE\n",
    "WHEN COUNT(i.id) != 0 THEN TRUE\n",
    "ELSE FALSE\n",
    "END AS owns\n",
    "FROM\n",
    "sierra_view.bib_record_property b\n",
    "JOIN\n",
    "sierra_view.bib_record_item_record_link l\n",
    "ON\n",
    "b.bib_record_id = l.bib_record_id\n",
    "JOIN\n",
    "sierra_view.item_record i\n",
    "ON\n",
    "l.item_record_id = i.id\n",
    "WHERE\n",
    "b.material_code = 'a'\n",
    "AND b.publish_year >= 2018\n",
    "\n",
    "GROUP BY 1,2,3\n",
    "ORDER BY 1,2,3\n",
    "    \"\"\"\n",
    "    #variable connection string should be defined in the imported config file\n",
    "    conn = psycopg2.connect( config['db']['connection_string'] )\n",
    "except:\n",
    "    print(\"unable to connect to the database\")\n",
    "    clear_connection()\n",
    "cursor = conn.cursor()\n",
    "cursor.execute(query)\n",
    "#For now, just storing the data in a variable. We'll use it later.\n",
    "sierra_rows = cursor.fetchall()\n",
    "conn.close()\n",
    "    \n",
    "column_names_sierra = [\"Title\", \"Author\", \"Location\", \"Owns\"]\n",
    "sierra_df = pd.DataFrame(sierra_rows, columns=column_names_sierra)"
   ]
  },
  {
   "cell_type": "code",
   "execution_count": null,
   "metadata": {},
   "outputs": [],
   "source": [
    "sierra_df"
   ]
  },
  {
   "cell_type": "code",
   "execution_count": null,
   "metadata": {},
   "outputs": [],
   "source": [
    "sierra_limited = sierra_df[sierra_df[\"Owns\"] == True]"
   ]
  },
  {
   "cell_type": "code",
   "execution_count": null,
   "metadata": {},
   "outputs": [],
   "source": [
    "sierra_limited"
   ]
  },
  {
   "cell_type": "code",
   "execution_count": null,
   "metadata": {},
   "outputs": [],
   "source": [
    "try:\n",
    "    sqliteConnection = sqlite3.connect('DEI Database.db')\n",
    "    cursor = sqliteConnection.cursor()\n",
    "    print(\"Connected to SQLite\")\n",
    "    \n",
    "    sql_query = \"\"\"SELECT LOWER(REPLACE(Title,'''',''))||LOWER(REPLACE(Author,'''','')) \n",
    "                FROM title_list\n",
    "                \"\"\"\n",
    "    cursor.execute(sql_query)\n",
    "    sqliteConnection.commit()\n",
    "    title_match = cursor.fetchall()\n",
    "    title_string = [t[0] for t in title_match]\n",
    "    cursor.close()\n",
    "except sqlite3.Error as error:\n",
    "    print(\"Failed to run query\", error)   "
   ]
  },
  {
   "cell_type": "code",
   "execution_count": null,
   "metadata": {},
   "outputs": [],
   "source": [
    "title_string"
   ]
  },
  {
   "cell_type": "code",
   "execution_count": null,
   "metadata": {},
   "outputs": [],
   "source": [
    "new_title_string = str([str(x).lstrip('\\'') for x in title_string]).strip(\"[]\")"
   ]
  },
  {
   "cell_type": "code",
   "execution_count": null,
   "metadata": {},
   "outputs": [],
   "source": [
    "new_title_string"
   ]
  },
  {
   "cell_type": "code",
   "execution_count": null,
   "metadata": {},
   "outputs": [],
   "source": [
    "try:\n",
    "    query = \"\"\"\\\n",
    "    SELECT\n",
    "    b.best_title AS title,\n",
    "    REPLACE(SPLIT_PART(SPLIT_PART(b.best_author,' (',1),', ',2),'.','')||' '||SPLIT_PART(b.best_author,', ',1) AS author,\n",
    "    SUBSTRING(i.location_code FROM 1 FOR 3) AS location,\n",
    "    CASE\n",
    "    WHEN COUNT(i.id) != 0 THEN TRUE\n",
    "    ELSE FALSE\n",
    "    END AS owns\n",
    "    FROM\n",
    "    sierra_view.bib_record_property b\n",
    "    JOIN\n",
    "    sierra_view.bib_record_item_record_link l\n",
    "    ON\n",
    "    b.bib_record_id = l.bib_record_id\n",
    "    JOIN\n",
    "    sierra_view.item_record i\n",
    "    ON\n",
    "    l.item_record_id = i.id\n",
    "    WHERE\n",
    "    b.material_code = 'a'\n",
    "    AND lower(b.best_title)||LOWER(REPLACE(SPLIT_PART(SPLIT_PART(b.best_author,' (',1),', ',2),'.','')||' '||SPLIT_PART(b.best_author,', ',1)) IN (\"\"\"\\\n",
    "    +new_title_string+\"\"\"\\\n",
    "    )\n",
    "    AND b.publish_year >= 2018\n",
    "\n",
    "    GROUP BY 1,2,3\n",
    "    ORDER BY 1,2,3\n",
    "    \"\"\"\n",
    "    #variable connection string should be defined in the imported config file\n",
    "    conn = psycopg2.connect( config['db']['connection_string'] )\n",
    "except:\n",
    "    print(\"unable to connect to the database\")\n",
    "    clear_connection()\n",
    "cursor = conn.cursor()\n",
    "cursor.execute(query)\n",
    "#For now, just storing the data in a variable. We'll use it later.\n",
    "sierra_rows = cursor.fetchall()\n",
    "conn.close()"
   ]
  },
  {
   "cell_type": "code",
   "execution_count": null,
   "metadata": {},
   "outputs": [],
   "source": [
    "sierra_rows"
   ]
  },
  {
   "cell_type": "code",
   "execution_count": null,
   "metadata": {},
   "outputs": [],
   "source": []
  }
 ],
 "metadata": {
  "kernelspec": {
   "display_name": "Python 3",
   "language": "python",
   "name": "python3"
  },
  "language_info": {
   "codemirror_mode": {
    "name": "ipython",
    "version": 3
   },
   "file_extension": ".py",
   "mimetype": "text/x-python",
   "name": "python",
   "nbconvert_exporter": "python",
   "pygments_lexer": "ipython3",
   "version": "3.8.3"
  }
 },
 "nbformat": 4,
 "nbformat_minor": 4
}
